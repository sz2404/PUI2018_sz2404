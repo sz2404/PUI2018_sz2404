{
 "cells": [
  {
   "cell_type": "code",
   "execution_count": 1,
   "metadata": {},
   "outputs": [],
   "source": [
    "import urllib\n",
    "from urllib import request\n",
    "import requests\n",
    "import numpy as np\n",
    "import pandas as pd\n",
    "import geopandas as gpd\n",
    "import scipy\n",
    "import os\n",
    "import sys\n",
    "import json\n",
    "import matplotlib.pylab as pl\n",
    "import matplotlib.pyplot as plt\n",
    "%matplotlib inline\n",
    "import bokeh\n",
    "from bokeh.core.properties import value\n",
    "from bokeh.io import show, output_file\n",
    "from bokeh.plotting import figure\n",
    "import zipfile"
   ]
  },
  {
   "cell_type": "code",
   "execution_count": 2,
   "metadata": {},
   "outputs": [],
   "source": [
    "url = 'https://data.cityofnewyork.us/api/views/ebb7-mvp5/rows.csv?accessType=DOWNLOAD'\n",
    "tonn = pd.read_csv(url)"
   ]
  },
  {
   "cell_type": "code",
   "execution_count": 3,
   "metadata": {},
   "outputs": [
    {
     "data": {
      "text/html": [
       "<div>\n",
       "<table border=\"1\" class=\"dataframe\">\n",
       "  <thead>\n",
       "    <tr style=\"text-align: right;\">\n",
       "      <th></th>\n",
       "      <th>MONTH</th>\n",
       "      <th>BOROUGH</th>\n",
       "      <th>COMMUNITYDISTRICT</th>\n",
       "      <th>REFUSETONSCOLLECTED</th>\n",
       "      <th>PAPERTONSCOLLECTED</th>\n",
       "      <th>MGPTONSCOLLECTED</th>\n",
       "      <th>RESORGANICSTONS</th>\n",
       "      <th>SCHOOLORGANICTONS</th>\n",
       "      <th>LEAVESORGANICTONS</th>\n",
       "      <th>XMASTREETONS</th>\n",
       "      <th>BOROUGH_ID</th>\n",
       "    </tr>\n",
       "  </thead>\n",
       "  <tbody>\n",
       "    <tr>\n",
       "      <th>0</th>\n",
       "      <td>2017 / 09</td>\n",
       "      <td>Bronx</td>\n",
       "      <td>6</td>\n",
       "      <td>2118.4</td>\n",
       "      <td>115.2</td>\n",
       "      <td>169.1</td>\n",
       "      <td>NaN</td>\n",
       "      <td>58.7</td>\n",
       "      <td>NaN</td>\n",
       "      <td>NaN</td>\n",
       "      <td>2</td>\n",
       "    </tr>\n",
       "    <tr>\n",
       "      <th>1</th>\n",
       "      <td>2017 / 09</td>\n",
       "      <td>Bronx</td>\n",
       "      <td>9</td>\n",
       "      <td>3820.2</td>\n",
       "      <td>199.4</td>\n",
       "      <td>321.2</td>\n",
       "      <td>NaN</td>\n",
       "      <td>NaN</td>\n",
       "      <td>NaN</td>\n",
       "      <td>NaN</td>\n",
       "      <td>2</td>\n",
       "    </tr>\n",
       "  </tbody>\n",
       "</table>\n",
       "</div>"
      ],
      "text/plain": [
       "       MONTH BOROUGH  COMMUNITYDISTRICT  REFUSETONSCOLLECTED  \\\n",
       "0  2017 / 09   Bronx                  6               2118.4   \n",
       "1  2017 / 09   Bronx                  9               3820.2   \n",
       "\n",
       "   PAPERTONSCOLLECTED  MGPTONSCOLLECTED  RESORGANICSTONS  SCHOOLORGANICTONS  \\\n",
       "0               115.2             169.1              NaN               58.7   \n",
       "1               199.4             321.2              NaN                NaN   \n",
       "\n",
       "   LEAVESORGANICTONS  XMASTREETONS  BOROUGH_ID  \n",
       "0                NaN           NaN           2  \n",
       "1                NaN           NaN           2  "
      ]
     },
     "execution_count": 3,
     "metadata": {},
     "output_type": "execute_result"
    }
   ],
   "source": [
    "tonn.head(2)"
   ]
  },
  {
   "cell_type": "code",
   "execution_count": 4,
   "metadata": {},
   "outputs": [
    {
     "data": {
      "text/plain": [
       "Index(['MONTH', 'BOROUGH', 'COMMUNITYDISTRICT', 'REFUSETONSCOLLECTED',\n",
       "       'PAPERTONSCOLLECTED', 'MGPTONSCOLLECTED', 'RESORGANICSTONS',\n",
       "       'SCHOOLORGANICTONS', 'LEAVESORGANICTONS', 'XMASTREETONS', 'BOROUGH_ID'],\n",
       "      dtype='object')"
      ]
     },
     "execution_count": 4,
     "metadata": {},
     "output_type": "execute_result"
    }
   ],
   "source": [
    "tonn.columns"
   ]
  },
  {
   "cell_type": "code",
   "execution_count": 5,
   "metadata": {},
   "outputs": [
    {
     "data": {
      "text/plain": [
       "array(['2017 / 09', '2017 / 10', '2017 / 11', '2017 / 12', '2018 / 01',\n",
       "       '2018 / 02', '2018 / 03', '2018 / 04', '2018 / 05', '2018 / 06',\n",
       "       '2018 / 07', '2018 / 08', '2018 / 09', '2018 / 10'], dtype=object)"
      ]
     },
     "execution_count": 5,
     "metadata": {},
     "output_type": "execute_result"
    }
   ],
   "source": [
    "tonn.MONTH.unique()"
   ]
  },
  {
   "cell_type": "code",
   "execution_count": 6,
   "metadata": {},
   "outputs": [],
   "source": [
    "tonn=tonn.drop([\n",
    "       'SCHOOLORGANICTONS', 'LEAVESORGANICTONS'], axis=1)"
   ]
  },
  {
   "cell_type": "code",
   "execution_count": 7,
   "metadata": {},
   "outputs": [],
   "source": [
    "tonn = tonn.drop(tonn[tonn.MONTH=='2018 / 10'].index)"
   ]
  },
  {
   "cell_type": "code",
   "execution_count": 8,
   "metadata": {},
   "outputs": [
    {
     "data": {
      "text/plain": [
       "array(['2017 / 09', '2017 / 10', '2017 / 11', '2017 / 12', '2018 / 01',\n",
       "       '2018 / 02', '2018 / 03', '2018 / 04', '2018 / 05', '2018 / 06',\n",
       "       '2018 / 07', '2018 / 08', '2018 / 09'], dtype=object)"
      ]
     },
     "execution_count": 8,
     "metadata": {},
     "output_type": "execute_result"
    }
   ],
   "source": [
    "tonn.MONTH.unique()"
   ]
  },
  {
   "cell_type": "code",
   "execution_count": 9,
   "metadata": {},
   "outputs": [],
   "source": [
    "# Splitting data for 5 boroughs\n",
    "\n",
    "tonn_mn=tonn[tonn.BOROUGH=='Manhattan']\n",
    "tonn_bk=tonn[tonn.BOROUGH=='Brooklyn']\n",
    "tonn_qns=tonn[tonn.BOROUGH=='Queens']\n",
    "tonn_si=tonn[tonn.BOROUGH=='Staten Island']\n",
    "tonn_bx=tonn[tonn.BOROUGH=='Bronx']"
   ]
  },
  {
   "cell_type": "code",
   "execution_count": 10,
   "metadata": {},
   "outputs": [
    {
     "data": {
      "text/html": [
       "<div>\n",
       "<table border=\"1\" class=\"dataframe\">\n",
       "  <thead>\n",
       "    <tr style=\"text-align: right;\">\n",
       "      <th></th>\n",
       "      <th>MONTH</th>\n",
       "      <th>BOROUGH</th>\n",
       "      <th>COMMUNITYDISTRICT</th>\n",
       "      <th>REFUSETONSCOLLECTED</th>\n",
       "      <th>PAPERTONSCOLLECTED</th>\n",
       "      <th>MGPTONSCOLLECTED</th>\n",
       "      <th>RESORGANICSTONS</th>\n",
       "      <th>XMASTREETONS</th>\n",
       "      <th>BOROUGH_ID</th>\n",
       "    </tr>\n",
       "  </thead>\n",
       "  <tbody>\n",
       "    <tr>\n",
       "      <th>10</th>\n",
       "      <td>2017 / 10</td>\n",
       "      <td>Manhattan</td>\n",
       "      <td>4</td>\n",
       "      <td>2423.1</td>\n",
       "      <td>431.9</td>\n",
       "      <td>356.8</td>\n",
       "      <td>NaN</td>\n",
       "      <td>NaN</td>\n",
       "      <td>1</td>\n",
       "    </tr>\n",
       "    <tr>\n",
       "      <th>12</th>\n",
       "      <td>2017 / 10</td>\n",
       "      <td>Manhattan</td>\n",
       "      <td>11</td>\n",
       "      <td>2245.2</td>\n",
       "      <td>197.3</td>\n",
       "      <td>175.2</td>\n",
       "      <td>NaN</td>\n",
       "      <td>NaN</td>\n",
       "      <td>1</td>\n",
       "    </tr>\n",
       "    <tr>\n",
       "      <th>15</th>\n",
       "      <td>2017 / 10</td>\n",
       "      <td>Manhattan</td>\n",
       "      <td>6</td>\n",
       "      <td>2944.2</td>\n",
       "      <td>511.1</td>\n",
       "      <td>377.8</td>\n",
       "      <td>19.2</td>\n",
       "      <td>NaN</td>\n",
       "      <td>1</td>\n",
       "    </tr>\n",
       "    <tr>\n",
       "      <th>17</th>\n",
       "      <td>2017 / 10</td>\n",
       "      <td>Manhattan</td>\n",
       "      <td>9</td>\n",
       "      <td>2289.7</td>\n",
       "      <td>246.2</td>\n",
       "      <td>232.0</td>\n",
       "      <td>28.9</td>\n",
       "      <td>NaN</td>\n",
       "      <td>1</td>\n",
       "    </tr>\n",
       "    <tr>\n",
       "      <th>19</th>\n",
       "      <td>2017 / 11</td>\n",
       "      <td>Manhattan</td>\n",
       "      <td>6</td>\n",
       "      <td>2888.7</td>\n",
       "      <td>571.6</td>\n",
       "      <td>435.5</td>\n",
       "      <td>29.8</td>\n",
       "      <td>NaN</td>\n",
       "      <td>1</td>\n",
       "    </tr>\n",
       "  </tbody>\n",
       "</table>\n",
       "</div>"
      ],
      "text/plain": [
       "        MONTH    BOROUGH  COMMUNITYDISTRICT  REFUSETONSCOLLECTED  \\\n",
       "10  2017 / 10  Manhattan                  4               2423.1   \n",
       "12  2017 / 10  Manhattan                 11               2245.2   \n",
       "15  2017 / 10  Manhattan                  6               2944.2   \n",
       "17  2017 / 10  Manhattan                  9               2289.7   \n",
       "19  2017 / 11  Manhattan                  6               2888.7   \n",
       "\n",
       "    PAPERTONSCOLLECTED  MGPTONSCOLLECTED  RESORGANICSTONS  XMASTREETONS  \\\n",
       "10               431.9             356.8              NaN           NaN   \n",
       "12               197.3             175.2              NaN           NaN   \n",
       "15               511.1             377.8             19.2           NaN   \n",
       "17               246.2             232.0             28.9           NaN   \n",
       "19               571.6             435.5             29.8           NaN   \n",
       "\n",
       "    BOROUGH_ID  \n",
       "10           1  \n",
       "12           1  \n",
       "15           1  \n",
       "17           1  \n",
       "19           1  "
      ]
     },
     "execution_count": 10,
     "metadata": {},
     "output_type": "execute_result"
    }
   ],
   "source": [
    "tonn_mn.head()"
   ]
  },
  {
   "cell_type": "code",
   "execution_count": 11,
   "metadata": {},
   "outputs": [],
   "source": [
    "# Manhattan Data:\n",
    "paper_mn=tonn_mn.groupby('MONTH')['PAPERTONSCOLLECTED'].mean()\n",
    "gm_mn=tonn_mn.groupby('MONTH')['MGPTONSCOLLECTED'].mean()\n",
    "trash_mn=tonn_mn.groupby('MONTH')['REFUSETONSCOLLECTED'].mean()"
   ]
  },
  {
   "cell_type": "code",
   "execution_count": 12,
   "metadata": {},
   "outputs": [],
   "source": [
    "# Brooklyn Data:\n",
    "paper_bk=tonn_bk.groupby('MONTH')['PAPERTONSCOLLECTED'].mean()\n",
    "gm_bk=tonn_bk.groupby('MONTH')['MGPTONSCOLLECTED'].mean()\n",
    "trash_bk=tonn_bk.groupby('MONTH')['REFUSETONSCOLLECTED'].mean()"
   ]
  },
  {
   "cell_type": "code",
   "execution_count": 13,
   "metadata": {},
   "outputs": [],
   "source": [
    "# Queens Data:\n",
    "paper_qns=tonn_qns.groupby('MONTH')['PAPERTONSCOLLECTED'].mean()\n",
    "gm_qns=tonn_qns.groupby('MONTH')['MGPTONSCOLLECTED'].mean()\n",
    "trash_qns=tonn_qns.groupby('MONTH')['REFUSETONSCOLLECTED'].mean()"
   ]
  },
  {
   "cell_type": "code",
   "execution_count": 14,
   "metadata": {},
   "outputs": [],
   "source": [
    "# Staten Island Data:\n",
    "paper_si=tonn_si.groupby('MONTH')['PAPERTONSCOLLECTED'].mean()\n",
    "gm_si=tonn_si.groupby('MONTH')['MGPTONSCOLLECTED'].mean()\n",
    "trash_si=tonn_si.groupby('MONTH')['REFUSETONSCOLLECTED'].mean()"
   ]
  },
  {
   "cell_type": "code",
   "execution_count": 15,
   "metadata": {},
   "outputs": [],
   "source": [
    "# Bronx Data:\n",
    "paper_bx=tonn_bx.groupby('MONTH')['PAPERTONSCOLLECTED'].mean()\n",
    "gm_bx=tonn_bx.groupby('MONTH')['MGPTONSCOLLECTED'].mean()\n",
    "trash_bx=tonn_bx.groupby('MONTH')['REFUSETONSCOLLECTED'].mean()"
   ]
  },
  {
   "cell_type": "code",
   "execution_count": 16,
   "metadata": {},
   "outputs": [
    {
     "data": {
      "image/png": "[encoded data removed]",
      "text/plain": [
       "<matplotlib.figure.Figure at 0x7f7b7fb5dcc0>"
      ]
     },
     "metadata": {},
     "output_type": "display_data"
    }
   ],
   "source": [
    "# Reference: https://chrisalbon.com/python/data_visualization/matplotlib_back_to_back_bar_plot/\n",
    "# Reference: https://matplotlib.org/gallery/lines_bars_and_markers/barchart.html\n",
    "\n",
    "y1 = paper_mn+gm_mn\n",
    "y2 = paper_bk+gm_bk\n",
    "y3 = paper_qns+gm_qns\n",
    "y4 = paper_si+gm_si\n",
    "y5 = paper_bx+gm_bx\n",
    "y6 = trash_mn\n",
    "y7 = trash_bk\n",
    "y8 = trash_qns\n",
    "y9 = trash_si\n",
    "y10 = trash_bx\n",
    "\n",
    "# Create the bar labels\n",
    "bar_labels = ['Sept 2017', 'Oct 2017', 'Nov 2017', 'Dec 2017', 'Jan 2018', 'Feb 2018', 'Mar 2018', 'Apr 2018', 'May 2018',\n",
    "             'Jun 2018', 'July 2018', 'Aug 2018', 'Sept 2018']\n",
    "\n",
    "# Create a figure\n",
    "\n",
    "plt.figure(figsize=(18,11))\n",
    "\n",
    "# Set the y position\n",
    "#x_pos = np.arange(len(y1))\n",
    "#x_pos = [y for y in x_pos]\n",
    "ind = np.arange(len(y1)) \n",
    "plt.xticks(ind, bar_labels, fontsize=12)\n",
    "\n",
    "\n",
    "width = 0.2\n",
    "\n",
    "# Create a horizontal bar in the position y_pos\n",
    "\n",
    "\n",
    "\n",
    "bx=plt.bar(ind - 1.32*width, y5, width/1.5, align='center', color='#2E8B57')\n",
    "\n",
    "si=plt.bar(ind - 0.66*width, y4, width/1.5, align='center', color='#FFB6C1')\n",
    "qns=plt.bar(ind, y3, width/1.5, align='center', color='#D2691E')\n",
    "bk=plt.bar(ind + 0.66*width, y2, width/1.5,align='center', color='#6495ED')\n",
    "mn=plt.bar(ind+1.32*width, y1, width/1.5, align='center', color='#8B008B')\n",
    "\n",
    "bx_t=plt.bar(ind - 1.32*width, -y10, width/1.5, align='center', color='#2E8B57', alpha=1)\n",
    "si_t=plt.bar(ind - 0.66*width, -y9, width/1.5, align='center', color='#FFB6C1', alpha=1)\n",
    "qns_t=plt.bar(ind, -y8, width/1.5, align='center', color='#D2691E', alpha=1)\n",
    "bk_t=plt.bar(ind + 0.66*width, -y7, width/1.5, align='center', color='#6495ED', alpha=1)\n",
    "mn_t=plt.bar(ind+1.32*width, -y6, width/1.5, align='center', color='#8B008B', alpha=1)\n",
    "\n",
    "\n",
    "\n",
    "\n",
    "# annotation and labels\n",
    "\n",
    "plt.xlabel('\\nTop: Average Tons of Recycled Material Collected per Community \\nBottom:Tons of Trash Collected per Community', horizontalalignment='center',fontsize=14)\n",
    "t = plt.title('Monthly Tonnage Material Composition per Community of 5 Boroughs in NYC\\n', fontsize=16)\n",
    "plt.xlim([-0.8,len(y1)])\n",
    "plt.xticks(rotation=50)\n",
    "plt.ylim([-6100, 4300])\n",
    "plt.yticks()\n",
    "plt.legend(['Bronx','Staten Island', 'Queens', 'Brooklyn', 'Manhattan'], fontsize=13,loc=1)\n",
    "\n",
    "plt.plot([-10,13.1],[0,0], 'k', linewidth=3)\n",
    "\n",
    "plt.grid(alpha=0.6)\n",
    "\n",
    "plt.show()"
   ]
  },
  {
   "cell_type": "markdown",
   "metadata": {},
   "source": [
    "## The above plot does not have strong contrasting of each month but would be interesting to compare between boroughs per capita. "
   ]
  },
  {
   "cell_type": "code",
   "execution_count": 17,
   "metadata": {},
   "outputs": [],
   "source": [
    "# Import population data\n",
    "url_p='https://data.cityofnewyork.us/api/views/xywu-7bv9/rows.csv?accessType=DOWNLOAD'\n",
    "pop=pd.read_csv(url_p)"
   ]
  },
  {
   "cell_type": "code",
   "execution_count": 18,
   "metadata": {},
   "outputs": [
    {
     "data": {
      "text/html": [
       "<div>\n",
       "<table border=\"1\" class=\"dataframe\">\n",
       "  <thead>\n",
       "    <tr style=\"text-align: right;\">\n",
       "      <th></th>\n",
       "      <th>Age Group</th>\n",
       "      <th>Borough</th>\n",
       "      <th>1950</th>\n",
       "      <th>1950 - Boro share of NYC total</th>\n",
       "      <th>1960</th>\n",
       "      <th>1960 - Boro share of NYC total</th>\n",
       "      <th>1970</th>\n",
       "      <th>1970 - Boro share of NYC total</th>\n",
       "      <th>1980</th>\n",
       "      <th>1980 - Boro share of NYC total</th>\n",
       "      <th>...</th>\n",
       "      <th>2000</th>\n",
       "      <th>2000 - Boro share of NYC total</th>\n",
       "      <th>2010</th>\n",
       "      <th>2010 - Boro share of NYC total</th>\n",
       "      <th>2020</th>\n",
       "      <th>2020 - Boro share of NYC total</th>\n",
       "      <th>2030</th>\n",
       "      <th>2030 - Boro share of NYC total</th>\n",
       "      <th>2040</th>\n",
       "      <th>2040 - Boro share of NYC total</th>\n",
       "    </tr>\n",
       "  </thead>\n",
       "  <tbody>\n",
       "    <tr>\n",
       "      <th>0</th>\n",
       "      <td>Total Population</td>\n",
       "      <td>NYC Total</td>\n",
       "      <td>7891957</td>\n",
       "      <td>100.00</td>\n",
       "      <td>7781984</td>\n",
       "      <td>100.00</td>\n",
       "      <td>7894862</td>\n",
       "      <td>100.00</td>\n",
       "      <td>7071639</td>\n",
       "      <td>100.00</td>\n",
       "      <td>...</td>\n",
       "      <td>8008278</td>\n",
       "      <td>100.00</td>\n",
       "      <td>8242624</td>\n",
       "      <td>100.00</td>\n",
       "      <td>8550971</td>\n",
       "      <td>100.00</td>\n",
       "      <td>8821027</td>\n",
       "      <td>100.00</td>\n",
       "      <td>9025145</td>\n",
       "      <td>100.00</td>\n",
       "    </tr>\n",
       "    <tr>\n",
       "      <th>1</th>\n",
       "      <td>Total Population</td>\n",
       "      <td>Bronx</td>\n",
       "      <td>1451277</td>\n",
       "      <td>18.39</td>\n",
       "      <td>1424815</td>\n",
       "      <td>18.31</td>\n",
       "      <td>1471701</td>\n",
       "      <td>18.64</td>\n",
       "      <td>1168972</td>\n",
       "      <td>16.53</td>\n",
       "      <td>...</td>\n",
       "      <td>1332650</td>\n",
       "      <td>16.64</td>\n",
       "      <td>1385108</td>\n",
       "      <td>16.80</td>\n",
       "      <td>1446788</td>\n",
       "      <td>16.92</td>\n",
       "      <td>1518998</td>\n",
       "      <td>17.22</td>\n",
       "      <td>1579245</td>\n",
       "      <td>17.50</td>\n",
       "    </tr>\n",
       "    <tr>\n",
       "      <th>2</th>\n",
       "      <td>Total Population</td>\n",
       "      <td>Brooklyn</td>\n",
       "      <td>2738175</td>\n",
       "      <td>34.70</td>\n",
       "      <td>2627319</td>\n",
       "      <td>33.76</td>\n",
       "      <td>2602012</td>\n",
       "      <td>32.96</td>\n",
       "      <td>2230936</td>\n",
       "      <td>31.55</td>\n",
       "      <td>...</td>\n",
       "      <td>2465326</td>\n",
       "      <td>30.78</td>\n",
       "      <td>2552911</td>\n",
       "      <td>30.97</td>\n",
       "      <td>2648452</td>\n",
       "      <td>30.97</td>\n",
       "      <td>2754009</td>\n",
       "      <td>31.22</td>\n",
       "      <td>2840525</td>\n",
       "      <td>31.47</td>\n",
       "    </tr>\n",
       "    <tr>\n",
       "      <th>3</th>\n",
       "      <td>Total Population</td>\n",
       "      <td>Manhattan</td>\n",
       "      <td>1960101</td>\n",
       "      <td>24.84</td>\n",
       "      <td>1698281</td>\n",
       "      <td>21.82</td>\n",
       "      <td>1539233</td>\n",
       "      <td>19.50</td>\n",
       "      <td>1428285</td>\n",
       "      <td>20.20</td>\n",
       "      <td>...</td>\n",
       "      <td>1537195</td>\n",
       "      <td>19.20</td>\n",
       "      <td>1585873</td>\n",
       "      <td>19.24</td>\n",
       "      <td>1638281</td>\n",
       "      <td>19.16</td>\n",
       "      <td>1676720</td>\n",
       "      <td>19.01</td>\n",
       "      <td>1691617</td>\n",
       "      <td>18.74</td>\n",
       "    </tr>\n",
       "    <tr>\n",
       "      <th>4</th>\n",
       "      <td>Total Population</td>\n",
       "      <td>Queens</td>\n",
       "      <td>1550849</td>\n",
       "      <td>19.65</td>\n",
       "      <td>1809578</td>\n",
       "      <td>23.25</td>\n",
       "      <td>1986473</td>\n",
       "      <td>25.16</td>\n",
       "      <td>1891325</td>\n",
       "      <td>26.75</td>\n",
       "      <td>...</td>\n",
       "      <td>2229379</td>\n",
       "      <td>27.84</td>\n",
       "      <td>2250002</td>\n",
       "      <td>27.30</td>\n",
       "      <td>2330295</td>\n",
       "      <td>27.25</td>\n",
       "      <td>2373551</td>\n",
       "      <td>26.91</td>\n",
       "      <td>2412649</td>\n",
       "      <td>26.73</td>\n",
       "    </tr>\n",
       "  </tbody>\n",
       "</table>\n",
       "<p>5 rows × 22 columns</p>\n",
       "</div>"
      ],
      "text/plain": [
       "          Age Group       Borough     1950  1950 - Boro share of NYC total  \\\n",
       "0  Total Population     NYC Total  7891957                          100.00   \n",
       "1  Total Population         Bronx  1451277                           18.39   \n",
       "2  Total Population      Brooklyn  2738175                           34.70   \n",
       "3  Total Population     Manhattan  1960101                           24.84   \n",
       "4  Total Population        Queens  1550849                           19.65   \n",
       "\n",
       "      1960  1960 - Boro share of NYC total     1970  \\\n",
       "0  7781984                          100.00  7894862   \n",
       "1  1424815                           18.31  1471701   \n",
       "2  2627319                           33.76  2602012   \n",
       "3  1698281                           21.82  1539233   \n",
       "4  1809578                           23.25  1986473   \n",
       "\n",
       "   1970 - Boro share of NYC total     1980  1980 - Boro share of NYC total  \\\n",
       "0                          100.00  7071639                          100.00   \n",
       "1                           18.64  1168972                           16.53   \n",
       "2                           32.96  2230936                           31.55   \n",
       "3                           19.50  1428285                           20.20   \n",
       "4                           25.16  1891325                           26.75   \n",
       "\n",
       "                ...                   2000  2000 - Boro share of NYC total  \\\n",
       "0               ...                8008278                          100.00   \n",
       "1               ...                1332650                           16.64   \n",
       "2               ...                2465326                           30.78   \n",
       "3               ...                1537195                           19.20   \n",
       "4               ...                2229379                           27.84   \n",
       "\n",
       "      2010  2010 - Boro share of NYC total     2020  \\\n",
       "0  8242624                          100.00  8550971   \n",
       "1  1385108                           16.80  1446788   \n",
       "2  2552911                           30.97  2648452   \n",
       "3  1585873                           19.24  1638281   \n",
       "4  2250002                           27.30  2330295   \n",
       "\n",
       "   2020 - Boro share of NYC total     2030  2030 - Boro share of NYC total  \\\n",
       "0                          100.00  8821027                          100.00   \n",
       "1                           16.92  1518998                           17.22   \n",
       "2                           30.97  2754009                           31.22   \n",
       "3                           19.16  1676720                           19.01   \n",
       "4                           27.25  2373551                           26.91   \n",
       "\n",
       "      2040  2040 - Boro share of NYC total  \n",
       "0  9025145                          100.00  \n",
       "1  1579245                           17.50  \n",
       "2  2840525                           31.47  \n",
       "3  1691617                           18.74  \n",
       "4  2412649                           26.73  \n",
       "\n",
       "[5 rows x 22 columns]"
      ]
     },
     "execution_count": 18,
     "metadata": {},
     "output_type": "execute_result"
    }
   ],
   "source": [
    "pop.head()"
   ]
  },
  {
   "cell_type": "code",
   "execution_count": 19,
   "metadata": {},
   "outputs": [
    {
     "data": {
      "text/plain": [
       "Index(['Age Group', 'Borough', '1950', '1950 - Boro share of NYC total',\n",
       "       '1960', '1960 - Boro share of NYC total', '1970',\n",
       "       '1970 - Boro share of NYC total', '1980',\n",
       "       '1980 - Boro share of NYC total', '1990',\n",
       "       '1990 - Boro share of NYC total', '2000',\n",
       "       '2000 - Boro share of NYC total', '2010',\n",
       "       '2010 - Boro share of NYC total', '2020',\n",
       "       '2020 - Boro share of NYC total', '2030',\n",
       "       '2030 - Boro share of NYC total', '2040',\n",
       "       '2040 - Boro share of NYC total'],\n",
       "      dtype='object')"
      ]
     },
     "execution_count": 19,
     "metadata": {},
     "output_type": "execute_result"
    }
   ],
   "source": [
    "pop.columns"
   ]
  },
  {
   "cell_type": "code",
   "execution_count": 20,
   "metadata": {},
   "outputs": [],
   "source": [
    "# We are only interested in the year that is the closest to the tonnage data year so deleting others.\n",
    "# Keeping 2010 data\n",
    "pop = pop.drop(['Age Group', '1950', '1950 - Boro share of NYC total',\n",
    "       '1960', '1960 - Boro share of NYC total', '1970',\n",
    "       '1970 - Boro share of NYC total', '1980',\n",
    "       '1980 - Boro share of NYC total', '1990',\n",
    "       '1990 - Boro share of NYC total', '2000',\n",
    "       '2000 - Boro share of NYC total', '2020',\n",
    "       '2020 - Boro share of NYC total', '2030',\n",
    "       '2030 - Boro share of NYC total', '2040',\n",
    "       '2040 - Boro share of NYC total'], axis=1)"
   ]
  },
  {
   "cell_type": "code",
   "execution_count": 21,
   "metadata": {},
   "outputs": [
    {
     "data": {
      "text/html": [
       "<div>\n",
       "<table border=\"1\" class=\"dataframe\">\n",
       "  <thead>\n",
       "    <tr style=\"text-align: right;\">\n",
       "      <th></th>\n",
       "      <th>Borough</th>\n",
       "      <th>2010</th>\n",
       "      <th>2010 - Boro share of NYC total</th>\n",
       "    </tr>\n",
       "  </thead>\n",
       "  <tbody>\n",
       "    <tr>\n",
       "      <th>0</th>\n",
       "      <td>NYC Total</td>\n",
       "      <td>8242624</td>\n",
       "      <td>100.00</td>\n",
       "    </tr>\n",
       "    <tr>\n",
       "      <th>1</th>\n",
       "      <td>Bronx</td>\n",
       "      <td>1385108</td>\n",
       "      <td>16.80</td>\n",
       "    </tr>\n",
       "    <tr>\n",
       "      <th>2</th>\n",
       "      <td>Brooklyn</td>\n",
       "      <td>2552911</td>\n",
       "      <td>30.97</td>\n",
       "    </tr>\n",
       "    <tr>\n",
       "      <th>3</th>\n",
       "      <td>Manhattan</td>\n",
       "      <td>1585873</td>\n",
       "      <td>19.24</td>\n",
       "    </tr>\n",
       "    <tr>\n",
       "      <th>4</th>\n",
       "      <td>Queens</td>\n",
       "      <td>2250002</td>\n",
       "      <td>27.30</td>\n",
       "    </tr>\n",
       "  </tbody>\n",
       "</table>\n",
       "</div>"
      ],
      "text/plain": [
       "        Borough     2010  2010 - Boro share of NYC total\n",
       "0     NYC Total  8242624                          100.00\n",
       "1         Bronx  1385108                           16.80\n",
       "2      Brooklyn  2552911                           30.97\n",
       "3     Manhattan  1585873                           19.24\n",
       "4        Queens  2250002                           27.30"
      ]
     },
     "execution_count": 21,
     "metadata": {},
     "output_type": "execute_result"
    }
   ],
   "source": [
    "pop.head()"
   ]
  },
  {
   "cell_type": "code",
   "execution_count": 22,
   "metadata": {},
   "outputs": [
    {
     "data": {
      "text/plain": [
       "Borough\n",
       "   Bronx            1385108\n",
       "   Brooklyn         2552911\n",
       "   Manhattan        1585873\n",
       "   Queens           2250002\n",
       "   Staten Island     468730\n",
       "NYC Total           8242624\n",
       "Name: 2010, dtype: int64"
      ]
     },
     "execution_count": 22,
     "metadata": {},
     "output_type": "execute_result"
    }
   ],
   "source": [
    "pop.groupby('Borough')['2010'].sum()"
   ]
  },
  {
   "cell_type": "code",
   "execution_count": 23,
   "metadata": {},
   "outputs": [],
   "source": [
    "pop_mn=pop.groupby('Borough')['2010'].sum()[2]\n",
    "pop_bk=pop.groupby('Borough')['2010'].sum()[1]\n",
    "pop_qns=pop.groupby('Borough')['2010'].sum()[3]\n",
    "pop_si=pop.groupby('Borough')['2010'].sum()[4]\n",
    "pop_bx=pop.groupby('Borough')['2010'].sum()[0]"
   ]
  },
  {
   "cell_type": "code",
   "execution_count": 24,
   "metadata": {},
   "outputs": [],
   "source": [
    "# Manhattan Data:\n",
    "#paper_mn=1000*tonn_mn.groupby('MONTH')['PAPERTONSCOLLECTED'].sum()/pop_mn\n",
    "#gm_mn=1000*tonn_mn.groupby('MONTH')['MGPTONSCOLLECTED'].sum()/pop_mn\n",
    "#trash_mn=1000*tonn_mn.groupby('MONTH')['REFUSETONSCOLLECTED'].sum()/pop_mn\n",
    "#paper_mn"
   ]
  },
  {
   "cell_type": "code",
   "execution_count": 25,
   "metadata": {},
   "outputs": [],
   "source": [
    "#paper_mn.plot()\n",
    "#gm_mn.plot()"
   ]
  },
  {
   "cell_type": "code",
   "execution_count": 26,
   "metadata": {},
   "outputs": [],
   "source": [
    "# Brooklyn Data:\n",
    "#paper_bk=1000*tonn_bk.groupby('MONTH')['PAPERTONSCOLLECTED'].sum()/pop_bk\n",
    "#gm_bk=1000*tonn_bk.groupby('MONTH')['MGPTONSCOLLECTED'].sum()/pop_bk\n",
    "#trash_bk=1000*tonn_bk.groupby('MONTH')['REFUSETONSCOLLECTED'].sum()/pop_bk\n",
    "#paper_bk"
   ]
  },
  {
   "cell_type": "code",
   "execution_count": 27,
   "metadata": {},
   "outputs": [],
   "source": [
    "#paper_bk.plot()\n",
    "#gm_bk.plot()"
   ]
  },
  {
   "cell_type": "code",
   "execution_count": 28,
   "metadata": {},
   "outputs": [],
   "source": [
    "# Queens Data:\n",
    "#paper_qns=1000*tonn_qns.groupby('MONTH')['PAPERTONSCOLLECTED'].sum()/pop_qns\n",
    "#gm_qns=1000*tonn_qns.groupby('MONTH')['MGPTONSCOLLECTED'].sum()/pop_qns\n",
    "#trash_qns=1000*tonn_qns.groupby('MONTH')['REFUSETONSCOLLECTED'].sum()/pop_qns\n",
    "#paper_qns\n",
    "#gm_qns"
   ]
  },
  {
   "cell_type": "code",
   "execution_count": 29,
   "metadata": {},
   "outputs": [],
   "source": [
    "#paper_qns.plot()\n",
    "#gm_qns.plot()"
   ]
  },
  {
   "cell_type": "code",
   "execution_count": 30,
   "metadata": {},
   "outputs": [],
   "source": [
    "#tonn_mn_summer = tonn_mn.groupby('MONTH')['PAPERTONSCOLLECTED'].sum()[9]+tonn_mn.groupby('MONTH')['PAPERTONSCOLLECTED'].sum()[10]+tonn_mn.groupby('MONTH')['PAPERTONSCOLLECTED'].sum()[11]\n",
    "#1000*tonn_mn_summer/pop.groupby('Borough')['2010'].sum()[2]"
   ]
  },
  {
   "cell_type": "code",
   "execution_count": 31,
   "metadata": {},
   "outputs": [],
   "source": [
    "#tonn_mn_winter = tonn_mn.groupby('MONTH')['PAPERTONSCOLLECTED'].sum()[3]+tonn_mn.groupby('MONTH')['PAPERTONSCOLLECTED'].sum()[4]+tonn_mn.groupby('MONTH')['PAPERTONSCOLLECTED'].sum()[5]\n",
    "#1000*tonn_mn_winter/pop.groupby('Borough')['2010'].sum()[2]"
   ]
  },
  {
   "cell_type": "code",
   "execution_count": 32,
   "metadata": {},
   "outputs": [],
   "source": [
    "#tonn_mn_autumn = tonn_mn.groupby('MONTH')['PAPERTONSCOLLECTED'].sum()[0]+tonn_mn.groupby('MONTH')['PAPERTONSCOLLECTED'].sum()[1]+tonn_mn.groupby('MONTH')['PAPERTONSCOLLECTED'].sum()[2]\n",
    "#1000*tonn_mn_autumn/pop.groupby('Borough')['2010'].sum()[2]"
   ]
  },
  {
   "cell_type": "code",
   "execution_count": 33,
   "metadata": {},
   "outputs": [],
   "source": [
    "#tonn_mn_spring = tonn_mn.groupby('MONTH')['PAPERTONSCOLLECTED'].sum()[6]+tonn_mn.groupby('MONTH')['PAPERTONSCOLLECTED'].sum()[7]+tonn_mn.groupby('MONTH')['PAPERTONSCOLLECTED'].sum()[8]\n",
    "#1000*tonn_mn_spring/pop.groupby('Borough')['2010'].sum()[2]"
   ]
  },
  {
   "cell_type": "code",
   "execution_count": 34,
   "metadata": {},
   "outputs": [],
   "source": [
    "# Manhattan Data:\n",
    "re_mn_pc=(tonn_mn['PAPERTONSCOLLECTED'].sum()+tonn_mn['MGPTONSCOLLECTED'].sum())/pop.groupby('Borough')['2010'].sum()[2]\n",
    "trash_mn_pc=tonn_mn['REFUSETONSCOLLECTED'].sum()/pop.groupby('Borough')['2010'].sum()[2]"
   ]
  },
  {
   "cell_type": "code",
   "execution_count": 35,
   "metadata": {},
   "outputs": [],
   "source": [
    "# Brooklyn Data:\n",
    "re_bk_pc=(tonn_bk['PAPERTONSCOLLECTED'].sum()+tonn_bk['MGPTONSCOLLECTED'].sum())/pop.groupby('Borough')['2010'].sum()[1]\n",
    "trash_bk_pc=tonn_bk['REFUSETONSCOLLECTED'].sum()/pop.groupby('Borough')['2010'].sum()[1]"
   ]
  },
  {
   "cell_type": "code",
   "execution_count": 36,
   "metadata": {},
   "outputs": [],
   "source": [
    "# Queens Data:\n",
    "re_qns_pc=(tonn_qns['PAPERTONSCOLLECTED'].sum()+tonn_qns['MGPTONSCOLLECTED'].sum())/pop.groupby('Borough')['2010'].sum()[3]\n",
    "\n",
    "trash_qns_pc=tonn_qns['REFUSETONSCOLLECTED'].sum()/pop.groupby('Borough')['2010'].sum()[3]"
   ]
  },
  {
   "cell_type": "code",
   "execution_count": 37,
   "metadata": {},
   "outputs": [],
   "source": [
    "# Staten Island Data:\n",
    "re_si_pc=(tonn_si['PAPERTONSCOLLECTED'].sum()+tonn_si['MGPTONSCOLLECTED'].sum())/pop.groupby('Borough')['2010'].sum()[4]\n",
    "trash_si_pc=tonn_si['REFUSETONSCOLLECTED'].sum()/pop.groupby('Borough')['2010'].sum()[4]"
   ]
  },
  {
   "cell_type": "code",
   "execution_count": 38,
   "metadata": {},
   "outputs": [],
   "source": [
    "# Bronx Data:\n",
    "re_bx_pc=(tonn_bx['PAPERTONSCOLLECTED'].sum()+tonn_bx['MGPTONSCOLLECTED'].sum())/pop.groupby('Borough')['2010'].sum()[0]\n",
    "trash_bx_pc=tonn_bx['REFUSETONSCOLLECTED'].sum()/pop.groupby('Borough')['2010'].sum()[0]"
   ]
  },
  {
   "cell_type": "code",
   "execution_count": 39,
   "metadata": {},
   "outputs": [
    {
     "data": {
      "text/html": [
       "<div>\n",
       "<table border=\"1\" class=\"dataframe\">\n",
       "  <thead>\n",
       "    <tr style=\"text-align: right;\">\n",
       "      <th></th>\n",
       "      <th>Borough</th>\n",
       "      <th>Annual Recycled Material per capita(kg)</th>\n",
       "      <th>Annual Trash per capita(kg)</th>\n",
       "    </tr>\n",
       "  </thead>\n",
       "  <tbody>\n",
       "    <tr>\n",
       "      <th>0</th>\n",
       "      <td>Bronx</td>\n",
       "      <td>58.946956</td>\n",
       "      <td>318.196343</td>\n",
       "    </tr>\n",
       "    <tr>\n",
       "      <th>1</th>\n",
       "      <td>Staten Island</td>\n",
       "      <td>106.099034</td>\n",
       "      <td>416.317710</td>\n",
       "    </tr>\n",
       "    <tr>\n",
       "      <th>2</th>\n",
       "      <td>Queens</td>\n",
       "      <td>79.238418</td>\n",
       "      <td>331.890283</td>\n",
       "    </tr>\n",
       "    <tr>\n",
       "      <th>3</th>\n",
       "      <td>Brooklyn</td>\n",
       "      <td>73.310233</td>\n",
       "      <td>343.199273</td>\n",
       "    </tr>\n",
       "    <tr>\n",
       "      <th>4</th>\n",
       "      <td>Manhattan</td>\n",
       "      <td>87.369102</td>\n",
       "      <td>287.078789</td>\n",
       "    </tr>\n",
       "  </tbody>\n",
       "</table>\n",
       "</div>"
      ],
      "text/plain": [
       "         Borough  Annual Recycled Material per capita(kg)  \\\n",
       "0          Bronx                                58.946956   \n",
       "1  Staten Island                               106.099034   \n",
       "2         Queens                                79.238418   \n",
       "3       Brooklyn                                73.310233   \n",
       "4      Manhattan                                87.369102   \n",
       "\n",
       "   Annual Trash per capita(kg)  \n",
       "0                   318.196343  \n",
       "1                   416.317710  \n",
       "2                   331.890283  \n",
       "3                   343.199273  \n",
       "4                   287.078789  "
      ]
     },
     "execution_count": 39,
     "metadata": {},
     "output_type": "execute_result"
    }
   ],
   "source": [
    "# Putting into a pandas table\n",
    "data = {'Borough': ['Bronx','Staten Island', 'Queens', 'Brooklyn', 'Manhattan'],\n",
    "        'Annual Recycled Material per capita(kg)': [re_bx_pc*1000, re_si_pc*1000, re_qns_pc*1000, re_bk_pc*1000, re_mn_pc*1000],\n",
    "        'Annual Trash per capita(kg)': [trash_bx_pc*1000, trash_si_pc*1000, trash_qns_pc*1000, trash_bk_pc*1000, trash_mn_pc*1000]}\n",
    "nyc = pd.DataFrame(data, columns = ['Borough', 'Annual Recycled Material per capita(kg)', 'Annual Trash per capita(kg)'])\n",
    "nyc"
   ]
  },
  {
   "cell_type": "code",
   "execution_count": 40,
   "metadata": {},
   "outputs": [
    {
     "name": "stderr",
     "output_type": "stream",
     "text": [
      "/usr/local/Anaconda3-5.0.0-Linux-x86_64/envs/PUI2016_Python3/lib/python3.5/site-packages/matplotlib/cbook/deprecation.py:106: MatplotlibDeprecationWarning: Adding an axes using the same arguments as a previous axes currently reuses the earlier instance.  In a future version, a new instance will always be created and returned.  Meanwhile, this warning can be suppressed, and the future behavior ensured, by passing a unique label to each axes instance.\n",
      "  warnings.warn(message, mplDeprecation, stacklevel=1)\n"
     ]
    },
    {
     "data": {
      "image/png": "[encoded data removed]",
      "text/plain": [
       "<matplotlib.figure.Figure at 0x7f7b77dfd828>"
      ]
     },
     "metadata": {},
     "output_type": "display_data"
    }
   ],
   "source": [
    "x1=nyc.ix[:4,1]\n",
    "x2=nyc.ix[:4,2]\n",
    "#y2=nyc.ix[1,1:]\n",
    "#y3=nyc.ix[2,1:]\n",
    "#y4=nyc.ix[3,1:]\n",
    "#y5=nyc.ix[4,1:]\n",
    "\n",
    "# Bar labels for each borough\n",
    "bar_labels = ['Manhattan','Queens', 'Brooklyn', 'Staten Island', 'Bronx']\n",
    "\n",
    "plt.figure(figsize=(11,9))\n",
    "\n",
    "# Set the y position\n",
    "y_pos = np.arange(len(x1))\n",
    "plt.yticks(y_pos, bar_labels, fontsize=12)\n",
    "\n",
    "\n",
    "width = 0.68\n",
    "\n",
    "# Create a horizontal bar in the position y_pos\n",
    "color_dict={'#2E8B57','#FFB6C1','#D2691E', '#6495ED', '#8B008B'}\n",
    "bx=plt.barh(y_pos[4], x1[0], width, align='center', color='#2E8B57', linewidth=2, edgecolor='#4169E1')\n",
    "si=plt.barh(y_pos[3], x1[1], width, align='center', color='#FFB6C1', linewidth=2, edgecolor='#4169E1')\n",
    "qns=plt.barh(y_pos[2], x1[2], width, align='center', color='#D2691E', linewidth=2, edgecolor='#4169E1')\n",
    "bk=plt.barh(y_pos[1], x1[3], width,align='center', color='#6495ED',linewidth=2, edgecolor='#4169E1')\n",
    "mn=plt.barh(y_pos[0], x1[4], width, align='center', color='#8B008B',linewidth=2, edgecolor='#4169E1')\n",
    "\n",
    "bx_t=plt.barh(y_pos[4], -x2[0], width, align='center', color='#2E8B57', alpha=0.8,linewidth=2, edgecolor='#000000')\n",
    "si_t=plt.barh(y_pos[3], -x2[1], width, align='center', color='#FFB6C1', alpha=0.8,linewidth=2, edgecolor='#000000')\n",
    "qns_t=plt.barh(y_pos[2], -x2[2], width, align='center', color='#D2691E', alpha=0.8,linewidth=2, edgecolor='#000000')\n",
    "bk_t=plt.barh(y_pos[1], -x2[3], width, align='center', color='#6495ED', alpha=0.8,linewidth=2, edgecolor='#000000')\n",
    "mn_t=plt.barh(y_pos[0], -x2[4], width, align='center', color='#8B008B', alpha=0.8,linewidth=2, edgecolor='#000000')\n",
    "\n",
    "\n",
    "\n",
    "\n",
    "\n",
    "# labels\n",
    "\n",
    "plt.xlabel('\\nRight: Average kilogram of Recycled Material Collected per capita \\nLeft:Average kilogram of Trash Collected per capita', horizontalalignment='center',fontsize=14)\n",
    "t = plt.title('Annual Tonnage Material Composition per capita of 5 Boroughs in NYC (kg) (2017/09 to 2018/09)\\n', fontsize=16)\n",
    "plt.xlim([-425,150])\n",
    "plt.xticks(rotation=50, fontsize=14)\n",
    "\n",
    "# Set positive value on both side of the 0. \n",
    "# Reference: https://stackoverflow.com/questions/20393663/convert-negative-y-axis-to-positive-matplotlib\n",
    "ax = plt.axes()\n",
    "ax.set_xticklabels([str(abs(x)) for x in ax.get_xticks()])\n",
    "plt.ylim([-0.6, 4.4])\n",
    "plt.yticks(fontsize=14)\n",
    "#plt.legend(bar_labels, fontsize=13,loc=1)\n",
    "\n",
    "plt.plot([0,0],[-0.8,4.4], 'k', linewidth=3)\n",
    "\n",
    "plt.legend(['Recycle', 'Trash'])\n",
    "\n",
    "plt.grid(alpha=0.6)\n",
    "\n",
    "plt.show()"
   ]
  },
  {
   "cell_type": "code",
   "execution_count": 43,
   "metadata": {},
   "outputs": [
    {
     "name": "stderr",
     "output_type": "stream",
     "text": [
      "/usr/local/Anaconda3-5.0.0-Linux-x86_64/envs/PUI2016_Python3/lib/python3.5/site-packages/matplotlib/cbook/deprecation.py:106: MatplotlibDeprecationWarning: Adding an axes using the same arguments as a previous axes currently reuses the earlier instance.  In a future version, a new instance will always be created and returned.  Meanwhile, this warning can be suppressed, and the future behavior ensured, by passing a unique label to each axes instance.\n",
      "  warnings.warn(message, mplDeprecation, stacklevel=1)\n"
     ]
    },
    {
     "data": {
      "image/png": "[encoded data removed]",
      "text/plain": [
       "<matplotlib.figure.Figure at 0x7f7ba58c0b38>"
      ]
     },
     "metadata": {},
     "output_type": "display_data"
    }
   ],
   "source": [
    "# The coloured bars are not easy to interpret the two categories and therefore, I am changing colour. \n",
    "x1=nyc.ix[:4,1]\n",
    "x2=nyc.ix[:4,2]\n",
    "\n",
    "# Bar labels for each borough\n",
    "bar_labels = ['Manhattan','Queens', 'Brooklyn', 'Staten Island', 'Bronx']\n",
    "\n",
    "plt.figure(figsize=(12,9))\n",
    "\n",
    "# Set the y position\n",
    "y_pos = np.arange(len(x1))\n",
    "plt.yticks(y_pos, bar_labels, fontsize=12)\n",
    "\n",
    "\n",
    "width = 0.68\n",
    "\n",
    "# Create a horizontal bar in the position y_pos\n",
    "color_dict={'#2E8B57','#FFB6C1','#D2691E', '#6495ED', '#8B008B'}\n",
    "bx=plt.barh(y_pos[4], x1[0], width, align='center', color='#4169E1', linewidth=2, edgecolor='#0000CD')\n",
    "si=plt.barh(y_pos[3], x1[1], width, align='center', color='#4169E1', linewidth=2, edgecolor='#0000CD')\n",
    "qns=plt.barh(y_pos[2], x1[2], width, align='center', color='#4169E1', linewidth=2, edgecolor='#0000CD')\n",
    "bk=plt.barh(y_pos[1], x1[3], width,align='center', color='#4169E1',linewidth=2, edgecolor='#0000CD')\n",
    "mn=plt.barh(y_pos[0], x1[4], width, align='center', color='#4169E1',linewidth=2, edgecolor='#0000CD')\n",
    "\n",
    "bx_t=plt.barh(y_pos[4], -x2[0], width, align='center', color='#808080', alpha=0.8,linewidth=2, edgecolor='#000000')\n",
    "si_t=plt.barh(y_pos[3], -x2[1], width, align='center', color='#808080', alpha=0.8,linewidth=2, edgecolor='#000000')\n",
    "qns_t=plt.barh(y_pos[2], -x2[2], width, align='center', color='#808080', alpha=0.8,linewidth=2, edgecolor='#000000')\n",
    "bk_t=plt.barh(y_pos[1], -x2[3], width, align='center', color='#808080', alpha=0.8,linewidth=2, edgecolor='#000000')\n",
    "mn_t=plt.barh(y_pos[0], -x2[4], width, align='center', color='#808080', alpha=0.8,linewidth=2, edgecolor='#000000')\n",
    "\n",
    "\n",
    "\n",
    "\n",
    "\n",
    "# labels\n",
    "\n",
    "plt.xlabel('\\nRight: Average kilogram of Recycled Material Collected per capita \\nLeft:Average kilogram of Trash Collected per capita', horizontalalignment='center',fontsize=14)\n",
    "t = plt.title('Annual Tonnage Material Composition per capita of 5 Boroughs in NYC (kg) (2017/09 to 2018/09)\\n', fontsize=16)\n",
    "plt.xlim([-425,195])\n",
    "plt.xticks(rotation=50, fontsize=16)\n",
    "\n",
    "# Set positive value on both side of the 0. \n",
    "# Reference: https://stackoverflow.com/questions/20393663/convert-negative-y-axis-to-positive-matplotlib\n",
    "ax = plt.axes()\n",
    "ax.set_xticklabels([str(abs(x)) for x in ax.get_xticks()])\n",
    "plt.ylim([-0.6, 4.4])\n",
    "plt.yticks(fontsize=16)\n",
    "#plt.legend(bar_labels, fontsize=13,loc=1)\n",
    "\n",
    "plt.plot([0,0],[-0.8,4.4], 'k', linewidth=3)\n",
    "\n",
    "plt.legend((bx,bx_t),['Trash','Recycle'], fontsize=16)\n",
    "\n",
    "plt.grid(alpha=0.6)\n",
    "\n",
    "plt.show()"
   ]
  },
  {
   "cell_type": "markdown",
   "metadata": {},
   "source": [
    "## Reference:\n",
    "Albon, C. (2018). Back to Back Bar plot. Retrieved from: https://chrisalbon.com/python/data_visualization/matplotlib_back_to_back_bar_plot/\n",
    "\n",
    "Matplotlib.org. (2018). Barchart. Retrieved from: https://matplotlib.org/gallery/lines_bars_and_markers/barchart.html"
   ]
  }
 ],
 "metadata": {
  "kernelspec": {
   "display_name": "PUI2016_Python3",
   "language": "python",
   "name": "pui2016_python3"
  },
  "language_info": {
   "codemirror_mode": {
    "name": "ipython",
    "version": 3
   },
   "file_extension": ".py",
   "mimetype": "text/x-python",
   "name": "python",
   "nbconvert_exporter": "python",
   "pygments_lexer": "ipython3",
   "version": "3.5.4"
  }
 },
 "nbformat": 4,
 "nbformat_minor": 2
}
