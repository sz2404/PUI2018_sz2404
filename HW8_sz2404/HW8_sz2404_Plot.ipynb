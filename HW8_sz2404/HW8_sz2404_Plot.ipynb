{
 "cells": [
  {
   "cell_type": "code",
   "execution_count": 1,
   "metadata": {},
   "outputs": [],
   "source": [
    "import urllib\n",
    "from urllib import request\n",
    "import requests\n",
    "import numpy as np\n",
    "import pandas as pd\n",
    "import geopandas as gpd\n",
    "import scipy\n",
    "import os\n",
    "import sys\n",
    "import json\n",
    "import matplotlib.pylab as pl\n",
    "import matplotlib.pyplot as plt\n",
    "%matplotlib inline\n",
    "import bokeh\n",
    "from bokeh.core.properties import value\n",
    "from bokeh.io import show, output_file\n",
    "from bokeh.plotting import figure\n",
    "import zipfile"
   ]
  },
  {
   "cell_type": "code",
   "execution_count": 2,
   "metadata": {},
   "outputs": [],
   "source": [
    "url = 'https://data.cityofnewyork.us/api/views/ebb7-mvp5/rows.csv?accessType=DOWNLOAD'\n",
    "tonn = pd.read_csv(url)"
   ]
  },
  {
   "cell_type": "code",
   "execution_count": 3,
   "metadata": {},
   "outputs": [
    {
     "data": {
      "text/html": [
       "<div>\n",
       "<table border=\"1\" class=\"dataframe\">\n",
       "  <thead>\n",
       "    <tr style=\"text-align: right;\">\n",
       "      <th></th>\n",
       "      <th>MONTH</th>\n",
       "      <th>BOROUGH</th>\n",
       "      <th>COMMUNITYDISTRICT</th>\n",
       "      <th>REFUSETONSCOLLECTED</th>\n",
       "      <th>PAPERTONSCOLLECTED</th>\n",
       "      <th>MGPTONSCOLLECTED</th>\n",
       "      <th>RESORGANICSTONS</th>\n",
       "      <th>SCHOOLORGANICTONS</th>\n",
       "      <th>LEAVESORGANICTONS</th>\n",
       "      <th>XMASTREETONS</th>\n",
       "      <th>BOROUGH_ID</th>\n",
       "    </tr>\n",
       "  </thead>\n",
       "  <tbody>\n",
       "    <tr>\n",
       "      <th>0</th>\n",
       "      <td>2017 / 09</td>\n",
       "      <td>Bronx</td>\n",
       "      <td>6</td>\n",
       "      <td>2118.4</td>\n",
       "      <td>115.2</td>\n",
       "      <td>169.1</td>\n",
       "      <td>NaN</td>\n",
       "      <td>58.7</td>\n",
       "      <td>NaN</td>\n",
       "      <td>NaN</td>\n",
       "      <td>2</td>\n",
       "    </tr>\n",
       "    <tr>\n",
       "      <th>1</th>\n",
       "      <td>2017 / 09</td>\n",
       "      <td>Bronx</td>\n",
       "      <td>9</td>\n",
       "      <td>3820.2</td>\n",
       "      <td>199.4</td>\n",
       "      <td>321.2</td>\n",
       "      <td>NaN</td>\n",
       "      <td>NaN</td>\n",
       "      <td>NaN</td>\n",
       "      <td>NaN</td>\n",
       "      <td>2</td>\n",
       "    </tr>\n",
       "  </tbody>\n",
       "</table>\n",
       "</div>"
      ],
      "text/plain": [
       "       MONTH BOROUGH  COMMUNITYDISTRICT  REFUSETONSCOLLECTED  \\\n",
       "0  2017 / 09   Bronx                  6               2118.4   \n",
       "1  2017 / 09   Bronx                  9               3820.2   \n",
       "\n",
       "   PAPERTONSCOLLECTED  MGPTONSCOLLECTED  RESORGANICSTONS  SCHOOLORGANICTONS  \\\n",
       "0               115.2             169.1              NaN               58.7   \n",
       "1               199.4             321.2              NaN                NaN   \n",
       "\n",
       "   LEAVESORGANICTONS  XMASTREETONS  BOROUGH_ID  \n",
       "0                NaN           NaN           2  \n",
       "1                NaN           NaN           2  "
      ]
     },
     "execution_count": 3,
     "metadata": {},
     "output_type": "execute_result"
    }
   ],
   "source": [
    "tonn.head(2)"
   ]
  },
  {
   "cell_type": "code",
   "execution_count": 4,
   "metadata": {},
   "outputs": [
    {
     "data": {
      "text/plain": [
       "Index(['MONTH', 'BOROUGH', 'COMMUNITYDISTRICT', 'REFUSETONSCOLLECTED',\n",
       "       'PAPERTONSCOLLECTED', 'MGPTONSCOLLECTED', 'RESORGANICSTONS',\n",
       "       'SCHOOLORGANICTONS', 'LEAVESORGANICTONS', 'XMASTREETONS', 'BOROUGH_ID'],\n",
       "      dtype='object')"
      ]
     },
     "execution_count": 4,
     "metadata": {},
     "output_type": "execute_result"
    }
   ],
   "source": [
    "tonn.columns"
   ]
  },
  {
   "cell_type": "code",
   "execution_count": 5,
   "metadata": {},
   "outputs": [
    {
     "data": {
      "text/plain": [
       "array(['2017 / 09', '2017 / 10', '2017 / 11', '2017 / 12', '2018 / 01',\n",
       "       '2018 / 02', '2018 / 03', '2018 / 04', '2018 / 05', '2018 / 06',\n",
       "       '2018 / 07', '2018 / 08', '2018 / 09', '2018 / 10'], dtype=object)"
      ]
     },
     "execution_count": 5,
     "metadata": {},
     "output_type": "execute_result"
    }
   ],
   "source": [
    "tonn.MONTH.unique()"
   ]
  },
  {
   "cell_type": "code",
   "execution_count": 6,
   "metadata": {},
   "outputs": [],
   "source": [
    "tonn=tonn.drop([\n",
    "       'SCHOOLORGANICTONS', 'LEAVESORGANICTONS'], axis=1)"
   ]
  },
  {
   "cell_type": "code",
   "execution_count": 7,
   "metadata": {},
   "outputs": [],
   "source": [
    "tonn = tonn.drop(tonn[tonn.MONTH=='2018 / 10'].index)"
   ]
  },
  {
   "cell_type": "code",
   "execution_count": 8,
   "metadata": {},
   "outputs": [
    {
     "data": {
      "text/plain": [
       "array(['2017 / 09', '2017 / 10', '2017 / 11', '2017 / 12', '2018 / 01',\n",
       "       '2018 / 02', '2018 / 03', '2018 / 04', '2018 / 05', '2018 / 06',\n",
       "       '2018 / 07', '2018 / 08', '2018 / 09'], dtype=object)"
      ]
     },
     "execution_count": 8,
     "metadata": {},
     "output_type": "execute_result"
    }
   ],
   "source": [
    "tonn.MONTH.unique()"
   ]
  },
  {
   "cell_type": "code",
   "execution_count": 9,
   "metadata": {},
   "outputs": [],
   "source": [
    "# Splitting data for 5 boroughs\n",
    "\n",
    "tonn_mn=tonn[tonn.BOROUGH=='Manhattan']\n",
    "tonn_bk=tonn[tonn.BOROUGH=='Brooklyn']\n",
    "tonn_qns=tonn[tonn.BOROUGH=='Queens']\n",
    "tonn_si=tonn[tonn.BOROUGH=='Staten Island']\n",
    "tonn_bx=tonn[tonn.BOROUGH=='Bronx']"
   ]
  },
  {
   "cell_type": "code",
   "execution_count": 10,
   "metadata": {},
   "outputs": [
    {
     "data": {
      "text/html": [
       "<div>\n",
       "<table border=\"1\" class=\"dataframe\">\n",
       "  <thead>\n",
       "    <tr style=\"text-align: right;\">\n",
       "      <th></th>\n",
       "      <th>MONTH</th>\n",
       "      <th>BOROUGH</th>\n",
       "      <th>COMMUNITYDISTRICT</th>\n",
       "      <th>REFUSETONSCOLLECTED</th>\n",
       "      <th>PAPERTONSCOLLECTED</th>\n",
       "      <th>MGPTONSCOLLECTED</th>\n",
       "      <th>RESORGANICSTONS</th>\n",
       "      <th>XMASTREETONS</th>\n",
       "      <th>BOROUGH_ID</th>\n",
       "    </tr>\n",
       "  </thead>\n",
       "  <tbody>\n",
       "    <tr>\n",
       "      <th>10</th>\n",
       "      <td>2017 / 10</td>\n",
       "      <td>Manhattan</td>\n",
       "      <td>4</td>\n",
       "      <td>2423.1</td>\n",
       "      <td>431.9</td>\n",
       "      <td>356.8</td>\n",
       "      <td>NaN</td>\n",
       "      <td>NaN</td>\n",
       "      <td>1</td>\n",
       "    </tr>\n",
       "    <tr>\n",
       "      <th>12</th>\n",
       "      <td>2017 / 10</td>\n",
       "      <td>Manhattan</td>\n",
       "      <td>11</td>\n",
       "      <td>2245.2</td>\n",
       "      <td>197.3</td>\n",
       "      <td>175.2</td>\n",
       "      <td>NaN</td>\n",
       "      <td>NaN</td>\n",
       "      <td>1</td>\n",
       "    </tr>\n",
       "    <tr>\n",
       "      <th>15</th>\n",
       "      <td>2017 / 10</td>\n",
       "      <td>Manhattan</td>\n",
       "      <td>6</td>\n",
       "      <td>2944.2</td>\n",
       "      <td>511.1</td>\n",
       "      <td>377.8</td>\n",
       "      <td>19.2</td>\n",
       "      <td>NaN</td>\n",
       "      <td>1</td>\n",
       "    </tr>\n",
       "    <tr>\n",
       "      <th>17</th>\n",
       "      <td>2017 / 10</td>\n",
       "      <td>Manhattan</td>\n",
       "      <td>9</td>\n",
       "      <td>2289.7</td>\n",
       "      <td>246.2</td>\n",
       "      <td>232.0</td>\n",
       "      <td>28.9</td>\n",
       "      <td>NaN</td>\n",
       "      <td>1</td>\n",
       "    </tr>\n",
       "    <tr>\n",
       "      <th>19</th>\n",
       "      <td>2017 / 11</td>\n",
       "      <td>Manhattan</td>\n",
       "      <td>6</td>\n",
       "      <td>2888.7</td>\n",
       "      <td>571.6</td>\n",
       "      <td>435.5</td>\n",
       "      <td>29.8</td>\n",
       "      <td>NaN</td>\n",
       "      <td>1</td>\n",
       "    </tr>\n",
       "  </tbody>\n",
       "</table>\n",
       "</div>"
      ],
      "text/plain": [
       "        MONTH    BOROUGH  COMMUNITYDISTRICT  REFUSETONSCOLLECTED  \\\n",
       "10  2017 / 10  Manhattan                  4               2423.1   \n",
       "12  2017 / 10  Manhattan                 11               2245.2   \n",
       "15  2017 / 10  Manhattan                  6               2944.2   \n",
       "17  2017 / 10  Manhattan                  9               2289.7   \n",
       "19  2017 / 11  Manhattan                  6               2888.7   \n",
       "\n",
       "    PAPERTONSCOLLECTED  MGPTONSCOLLECTED  RESORGANICSTONS  XMASTREETONS  \\\n",
       "10               431.9             356.8              NaN           NaN   \n",
       "12               197.3             175.2              NaN           NaN   \n",
       "15               511.1             377.8             19.2           NaN   \n",
       "17               246.2             232.0             28.9           NaN   \n",
       "19               571.6             435.5             29.8           NaN   \n",
       "\n",
       "    BOROUGH_ID  \n",
       "10           1  \n",
       "12           1  \n",
       "15           1  \n",
       "17           1  \n",
       "19           1  "
      ]
     },
     "execution_count": 10,
     "metadata": {},
     "output_type": "execute_result"
    }
   ],
   "source": [
    "tonn_mn.head()"
   ]
  },
  {
   "cell_type": "code",
   "execution_count": 11,
   "metadata": {},
   "outputs": [],
   "source": [
    "# Manhattan Data:\n",
    "paper_mn=tonn_mn.groupby('MONTH')['PAPERTONSCOLLECTED'].mean()\n",
    "gm_mn=tonn_mn.groupby('MONTH')['MGPTONSCOLLECTED'].mean()\n",
    "trash_mn=tonn_mn.groupby('MONTH')['REFUSETONSCOLLECTED'].mean()"
   ]
  },
  {
   "cell_type": "code",
   "execution_count": 12,
   "metadata": {},
   "outputs": [],
   "source": [
    "# Brooklyn Data:\n",
    "paper_bk=tonn_bk.groupby('MONTH')['PAPERTONSCOLLECTED'].mean()\n",
    "gm_bk=tonn_bk.groupby('MONTH')['MGPTONSCOLLECTED'].mean()\n",
    "trash_bk=tonn_bk.groupby('MONTH')['REFUSETONSCOLLECTED'].mean()"
   ]
  },
  {
   "cell_type": "code",
   "execution_count": 13,
   "metadata": {},
   "outputs": [],
   "source": [
    "# Queens Data:\n",
    "paper_qns=tonn_qns.groupby('MONTH')['PAPERTONSCOLLECTED'].mean()\n",
    "gm_qns=tonn_qns.groupby('MONTH')['MGPTONSCOLLECTED'].mean()\n",
    "trash_qns=tonn_qns.groupby('MONTH')['REFUSETONSCOLLECTED'].mean()"
   ]
  },
  {
   "cell_type": "code",
   "execution_count": 14,
   "metadata": {},
   "outputs": [],
   "source": [
    "# Staten Island Data:\n",
    "paper_si=tonn_si.groupby('MONTH')['PAPERTONSCOLLECTED'].mean()\n",
    "gm_si=tonn_si.groupby('MONTH')['MGPTONSCOLLECTED'].mean()\n",
    "trash_si=tonn_si.groupby('MONTH')['REFUSETONSCOLLECTED'].mean()"
   ]
  },
  {
   "cell_type": "code",
   "execution_count": 15,
   "metadata": {},
   "outputs": [],
   "source": [
    "# Bronx Data:\n",
    "paper_bx=tonn_bx.groupby('MONTH')['PAPERTONSCOLLECTED'].mean()\n",
    "gm_bx=tonn_bx.groupby('MONTH')['MGPTONSCOLLECTED'].mean()\n",
    "trash_bx=tonn_bx.groupby('MONTH')['REFUSETONSCOLLECTED'].mean()"
   ]
  },
  {
   "cell_type": "code",
   "execution_count": 16,
   "metadata": {},
   "outputs": [
    {
     "data": {
      "image/png": "[encoded data removed]",
      "text/plain": [
       "<matplotlib.figure.Figure at 0x7fac29d29be0>"
      ]
     },
     "metadata": {},
     "output_type": "display_data"
    }
   ],
   "source": [
    "# Reference: https://chrisalbon.com/python/data_visualization/matplotlib_back_to_back_bar_plot/\n",
    "# Reference: https://matplotlib.org/gallery/lines_bars_and_markers/barchart.html\n",
    "\n",
    "y1 = paper_mn+gm_mn\n",
    "y2 = paper_bk+gm_bk\n",
    "y3 = paper_qns+gm_qns\n",
    "y4 = paper_si+gm_si\n",
    "y5 = paper_bx+gm_bx\n",
    "y6 = trash_mn\n",
    "y7 = trash_bk\n",
    "y8 = trash_qns\n",
    "y9 = trash_si\n",
    "y10 = trash_bx\n",
    "\n",
    "# Create the bar labels\n",
    "bar_labels = ['Sept 2017', 'Oct 2017', 'Nov 2017', 'Dec 2017', 'Jan 2018', 'Feb 2018', 'Mar 2018', 'Apr 2018', 'May 2018',\n",
    "             'Jun 2018', 'July 2018', 'Aug 2018', 'Sept 2018']\n",
    "\n",
    "# Create a figure\n",
    "\n",
    "plt.figure(figsize=(18,11))\n",
    "\n",
    "# Set the y position\n",
    "#x_pos = np.arange(len(y1))\n",
    "#x_pos = [y for y in x_pos]\n",
    "ind = np.arange(len(y1)) \n",
    "plt.xticks(ind, bar_labels, fontsize=12)\n",
    "\n",
    "\n",
    "width = 0.2\n",
    "\n",
    "# Create a horizontal bar in the position y_pos\n",
    "\n",
    "\n",
    "\n",
    "bx=plt.bar(ind - 1.32*width, y5, width/1.5, align='center', color='#2E8B57')\n",
    "\n",
    "si=plt.bar(ind - 0.66*width, y4, width/1.5, align='center', color='#FFB6C1')\n",
    "qns=plt.bar(ind, y3, width/1.5, align='center', color='#D2691E')\n",
    "bk=plt.bar(ind + 0.66*width, y2, width/1.5,align='center', color='#6495ED')\n",
    "mn=plt.bar(ind+1.32*width, y1, width/1.5, align='center', color='#8B008B')\n",
    "\n",
    "bx_t=plt.bar(ind - 1.32*width, -y10, width/1.5, align='center', color='#2E8B57', alpha=1)\n",
    "si_t=plt.bar(ind - 0.66*width, -y9, width/1.5, align='center', color='#FFB6C1', alpha=1)\n",
    "qns_t=plt.bar(ind, -y8, width/1.5, align='center', color='#D2691E', alpha=1)\n",
    "bk_t=plt.bar(ind + 0.66*width, -y7, width/1.5, align='center', color='#6495ED', alpha=1)\n",
    "mn_t=plt.bar(ind+1.32*width, -y6, width/1.5, align='center', color='#8B008B', alpha=1)\n",
    "\n",
    "\n",
    "\n",
    "\n",
    "\n",
    "# annotation and labels\n",
    "\n",
    "plt.xlabel('\\nTop: Average Tons of Recycled Material Collected per Community \\nBottom:Tons of Trash Collected per Community', horizontalalignment='center',fontsize=14)\n",
    "t = plt.title('Monthly Tonnage Material Composition per Community of 5 Boroughs in NYC\\n', fontsize=16)\n",
    "plt.xlim([-0.8,len(y1)])\n",
    "plt.xticks(rotation=50)\n",
    "plt.ylim([-6100, 3300])\n",
    "plt.legend(['Bronx','Staten Island', 'Queens', 'Brooklyn', 'Manhattan'], fontsize=13,loc=1)\n",
    "\n",
    "plt.plot([-10,13.1],[0,0], 'k', linewidth=3)\n",
    "\n",
    "plt.grid(alpha=0.6)\n",
    "\n",
    "plt.show()"
   ]
  }
 ],
 "metadata": {
  "kernelspec": {
   "display_name": "PUI2016_Python3",
   "language": "python",
   "name": "pui2016_python3"
  },
  "language_info": {
   "codemirror_mode": {
    "name": "ipython",
    "version": 3
   },
   "file_extension": ".py",
   "mimetype": "text/x-python",
   "name": "python",
   "nbconvert_exporter": "python",
   "pygments_lexer": "ipython3",
   "version": "3.5.4"
  }
 },
 "nbformat": 4,
 "nbformat_minor": 2
}
