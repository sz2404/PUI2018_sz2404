{
 "cells": [
  {
   "cell_type": "code",
   "execution_count": 1,
   "metadata": {},
   "outputs": [
    {
     "name": "stdout",
     "output_type": "stream",
     "text": [
      "Populating the interactive namespace from numpy and matplotlib\n"
     ]
    },
    {
     "name": "stderr",
     "output_type": "stream",
     "text": [
      "/usr/local/Anaconda3-5.0.0-Linux-x86_64/envs/PUI2016_Python3/lib/python3.5/site-packages/sklearn/ensemble/weight_boosting.py:29: DeprecationWarning: numpy.core.umath_tests is an internal NumPy module and should not be imported. It will be removed in a future NumPy release.\n",
      "  from numpy.core.umath_tests import inner1d\n"
     ]
    }
   ],
   "source": [
    "import pandas as pd\n",
    "import geopandas as gpd\n",
    "import numpy as np\n",
    "import os\n",
    "import sys\n",
    "import urllib\n",
    "from urllib import request\n",
    "import zipfile\n",
    "import pylab as pl\n",
    "from sklearn import tree\n",
    "from sklearn import ensemble\n",
    "from sklearn.cross_validation import train_test_split\n",
    "from sklearn.ensemble  import RandomForestClassifier as rfc\n",
    "from sklearn.metrics import confusion_matrix\n",
    "%pylab inline"
   ]
  },
  {
   "cell_type": "code",
   "execution_count": 3,
   "metadata": {},
   "outputs": [],
   "source": [
    "# Reading in inspection results\n",
    "url = 'https://data.cityofnewyork.us/api/views/43nn-pn8j/rows.csv?accessType=DOWNLOAD'\n",
    "df_insp = pd.read_csv(url)\n",
    "# Reading in 311 results \n",
    "# Uploaded onto Github; the data contains only food poison complainsa as of December 12th, 2018\n",
    "url_311 = 'https://github.com/sz2404/PUI2018_sz2404/blob/master/Extra_Credit_Project/311_Service_Requests_from_2010_to_Present.csv?raw=true'\n",
    "df_311 = pd.read_csv(url_311)"
   ]
  },
  {
   "cell_type": "code",
   "execution_count": 4,
   "metadata": {},
   "outputs": [],
   "source": [
    "# Downlouding PLUTO Data\n",
    "url_pluto='https://www1.nyc.gov/assets/planning/download/zip/data-maps/open-data/nyc_pluto_18v1.zip'\n",
    "urllib.request.urlretrieve(url_pluto, os.getenv('PUIDATA') + '/nyc_pluto_18v1.zip')\n",
    "zip_obj = zipfile.ZipFile(os.getenv('PUIDATA') + '/nyc_pluto_18v1.zip', 'r')\n",
    "zip_obj.extractall(os.getenv('PUIDATA') + '/Pluto_all')"
   ]
  },
  {
   "cell_type": "code",
   "execution_count": 5,
   "metadata": {},
   "outputs": [
    {
     "name": "stderr",
     "output_type": "stream",
     "text": [
      "/usr/local/Anaconda3-5.0.0-Linux-x86_64/envs/PUI2016_Python3/lib/python3.5/site-packages/IPython/core/interactiveshell.py:2717: DtypeWarning: Columns (20,23,24,26,64) have mixed types. Specify dtype option on import or set low_memory=False.\n",
      "  interactivity=interactivity, compiler=compiler, result=result)\n",
      "/usr/local/Anaconda3-5.0.0-Linux-x86_64/envs/PUI2016_Python3/lib/python3.5/site-packages/IPython/core/interactiveshell.py:2717: DtypeWarning: Columns (19,20,22,23,24,25,26,64,65,80) have mixed types. Specify dtype option on import or set low_memory=False.\n",
      "  interactivity=interactivity, compiler=compiler, result=result)\n",
      "/usr/local/Anaconda3-5.0.0-Linux-x86_64/envs/PUI2016_Python3/lib/python3.5/site-packages/IPython/core/interactiveshell.py:2717: DtypeWarning: Columns (19,20,22,23,64,65,80) have mixed types. Specify dtype option on import or set low_memory=False.\n",
      "  interactivity=interactivity, compiler=compiler, result=result)\n",
      "/usr/local/Anaconda3-5.0.0-Linux-x86_64/envs/PUI2016_Python3/lib/python3.5/site-packages/IPython/core/interactiveshell.py:2717: DtypeWarning: Columns (19,20,22,23,64,65,77) have mixed types. Specify dtype option on import or set low_memory=False.\n",
      "  interactivity=interactivity, compiler=compiler, result=result)\n",
      "/usr/local/Anaconda3-5.0.0-Linux-x86_64/envs/PUI2016_Python3/lib/python3.5/site-packages/IPython/core/interactiveshell.py:2717: DtypeWarning: Columns (19,20,22,23,24,64,65,80) have mixed types. Specify dtype option on import or set low_memory=False.\n",
      "  interactivity=interactivity, compiler=compiler, result=result)\n"
     ]
    }
   ],
   "source": [
    "# Reading in all 5 boroughs and combine them together\n",
    "MN = pd.read_csv(os.getenv('PUIDATA') + '/Pluto_all' + '/PLUTO_for_WEB' + '/MN_18v1.csv')\n",
    "BK = pd.read_csv(os.getenv('PUIDATA') + '/Pluto_all' + '/PLUTO_for_WEB' + '/BK_18v1.csv')\n",
    "BX = pd.read_csv(os.getenv('PUIDATA') + '/Pluto_all' + '/PLUTO_for_WEB' + '/BX_18v1.csv')\n",
    "QN = pd.read_csv(os.getenv('PUIDATA') + '/Pluto_all' + '/PLUTO_for_WEB' + '/QN_18v1.csv')\n",
    "SI = pd.read_csv(os.getenv('PUIDATA') + '/Pluto_all' + '/PLUTO_for_WEB' + '/SI_18v1.csv')"
   ]
  },
  {
   "cell_type": "code",
   "execution_count": 6,
   "metadata": {},
   "outputs": [],
   "source": [
    "# Combining the data of 5 boroughs into one. \n",
    "pluto = pd.concat([MN, BK, BX, QN, SI], ignore_index=True).reset_index()"
   ]
  },
  {
   "cell_type": "code",
   "execution_count": 7,
   "metadata": {},
   "outputs": [
    {
     "data": {
      "text/plain": [
       "5"
      ]
     },
     "execution_count": 7,
     "metadata": {},
     "output_type": "execute_result"
    }
   ],
   "source": [
    "pluto.Borough.nunique()"
   ]
  },
  {
   "cell_type": "code",
   "execution_count": 8,
   "metadata": {},
   "outputs": [
    {
     "data": {
      "text/plain": [
       "Index(['index', 'APPBBL', 'APPDate', 'Address', 'AreaSource', 'AssessLand',\n",
       "       'AssessTot', 'BBL', 'BldgArea', 'BldgClass', 'BldgDepth', 'BldgFront',\n",
       "       'Block', 'BoroCode', 'Borough', 'BsmtCode', 'BuiltFAR', 'CB2010', 'CD',\n",
       "       'CT2010', 'ComArea', 'CommFAR', 'CondoNo', 'Council', 'EDesigNum',\n",
       "       'Easements', 'ExemptLand', 'ExemptTot', 'Ext', 'FIRM07_FLAG',\n",
       "       'FIRM07_Flag', 'FacilFAR', 'FactryArea', 'FireComp', 'GarageArea',\n",
       "       'HealthArea', 'HealthCenterDistrict', 'HistDist', 'IrrLotCode',\n",
       "       'LandUse', 'Landmark', 'Lot', 'LotArea', 'LotDepth', 'LotFront',\n",
       "       'LotType', 'LtdHeight', 'NumBldgs', 'NumFloors', 'OfficeArea',\n",
       "       'OtherArea', 'Overlay1', 'Overlay2', 'OwnerName', 'OwnerType',\n",
       "       'PFIRM15_FLAG', 'PFIRM15_Flag', 'PLUTOMapID', 'PolicePrct', 'ProxCode',\n",
       "       'ResArea', 'ResidFAR', 'RetailArea', 'SPDist1', 'SPDist2', 'SPDist3',\n",
       "       'Sanborn', 'SanitBoro', 'SanitDistrict', 'SanitSub', 'SchoolDist',\n",
       "       'SplitZone', 'StrgeArea', 'TaxMap', 'Tract2010', 'UnitsRes',\n",
       "       'UnitsTotal', 'Version', 'XCoord', 'YCoord', 'YearAlter1', 'YearAlter2',\n",
       "       'YearBuilt', 'ZMCode', 'ZipCode', 'ZoneDist1', 'ZoneDist2', 'ZoneDist3',\n",
       "       'ZoneDist4', 'ZoneMap'],\n",
       "      dtype='object')"
      ]
     },
     "execution_count": 8,
     "metadata": {},
     "output_type": "execute_result"
    }
   ],
   "source": [
    "# Cleaning pluto df\n",
    "pluto.columns"
   ]
  },
  {
   "cell_type": "code",
   "execution_count": 9,
   "metadata": {},
   "outputs": [],
   "source": [
    "pluto = pluto.drop(['index', 'APPBBL', 'APPDate', 'AreaSource', 'AssessLand',\n",
    "       'AssessTot', 'BldgArea', 'BldgClass', 'BldgDepth', 'BldgFront',\n",
    "       'Block', 'BoroCode',  'BsmtCode', 'BuiltFAR', 'CB2010', 'CD',\n",
    "       'CT2010', 'ComArea', 'CommFAR', 'CondoNo', 'Council', 'EDesigNum',\n",
    "       'Easements', 'ExemptLand', 'ExemptTot', 'Ext', 'FIRM07_FLAG',\n",
    "       'FIRM07_Flag', 'FacilFAR', 'FactryArea', 'FireComp', 'GarageArea',\n",
    "       'HealthArea', 'HealthCenterDistrict', 'HistDist', 'IrrLotCode',\n",
    "       'LandUse', 'Landmark', 'Lot', 'LotArea', 'LotDepth', 'LotFront',\n",
    "       'LotType', 'LtdHeight', 'NumBldgs', 'NumFloors', 'OfficeArea',\n",
    "       'OtherArea', 'Overlay1', 'Overlay2', 'OwnerName', 'OwnerType',\n",
    "       'PFIRM15_FLAG', 'PFIRM15_Flag', 'PLUTOMapID', 'PolicePrct', 'ProxCode',\n",
    "       'ResArea', 'ResidFAR', 'RetailArea', 'SPDist1', 'SPDist2', 'SPDist3',\n",
    "       'Sanborn', 'SanitBoro', 'SanitDistrict', 'SanitSub', 'SchoolDist',\n",
    "       'SplitZone', 'StrgeArea', 'TaxMap', 'Tract2010', 'UnitsRes',\n",
    "       'UnitsTotal', 'Version', 'XCoord', 'YCoord', 'YearAlter1', 'YearAlter2',\n",
    "       'YearBuilt', 'ZMCode',  'ZoneDist1', 'ZoneDist2', 'ZoneDist3',\n",
    "       'ZoneDist4', 'ZoneMap'], axis=1)"
   ]
  },
  {
   "cell_type": "markdown",
   "metadata": {},
   "source": [
    "## Cleaning Inspection sheet"
   ]
  },
  {
   "cell_type": "code",
   "execution_count": 10,
   "metadata": {},
   "outputs": [
    {
     "data": {
      "text/html": [
       "<div>\n",
       "<table border=\"1\" class=\"dataframe\">\n",
       "  <thead>\n",
       "    <tr style=\"text-align: right;\">\n",
       "      <th></th>\n",
       "      <th>CAMIS</th>\n",
       "      <th>DBA</th>\n",
       "      <th>BORO</th>\n",
       "      <th>BUILDING</th>\n",
       "      <th>STREET</th>\n",
       "      <th>ZIPCODE</th>\n",
       "      <th>PHONE</th>\n",
       "      <th>CUISINE DESCRIPTION</th>\n",
       "      <th>INSPECTION DATE</th>\n",
       "      <th>ACTION</th>\n",
       "      <th>VIOLATION CODE</th>\n",
       "      <th>VIOLATION DESCRIPTION</th>\n",
       "      <th>CRITICAL FLAG</th>\n",
       "      <th>SCORE</th>\n",
       "      <th>GRADE</th>\n",
       "      <th>GRADE DATE</th>\n",
       "      <th>RECORD DATE</th>\n",
       "      <th>INSPECTION TYPE</th>\n",
       "    </tr>\n",
       "  </thead>\n",
       "  <tbody>\n",
       "    <tr>\n",
       "      <th>0</th>\n",
       "      <td>50058287</td>\n",
       "      <td>KIKU SUSHI</td>\n",
       "      <td>MANHATTAN</td>\n",
       "      <td>235</td>\n",
       "      <td>9TH AVE</td>\n",
       "      <td>10001.0</td>\n",
       "      <td>2126273660</td>\n",
       "      <td>Japanese</td>\n",
       "      <td>11/01/2018</td>\n",
       "      <td>Establishment Closed by DOHMH.  Violations wer...</td>\n",
       "      <td>04L</td>\n",
       "      <td>Evidence of mice or live mice present in facil...</td>\n",
       "      <td>Critical</td>\n",
       "      <td>60.0</td>\n",
       "      <td>NaN</td>\n",
       "      <td>NaN</td>\n",
       "      <td>12/13/2018</td>\n",
       "      <td>Cycle Inspection / Initial Inspection</td>\n",
       "    </tr>\n",
       "    <tr>\n",
       "      <th>1</th>\n",
       "      <td>50084762</td>\n",
       "      <td>SMOOTHIE REY</td>\n",
       "      <td>MANHATTAN</td>\n",
       "      <td>1453</td>\n",
       "      <td>AMSTERDAM AVE</td>\n",
       "      <td>10027.0</td>\n",
       "      <td>3473733485</td>\n",
       "      <td>Juice, Smoothies, Fruit Salads</td>\n",
       "      <td>11/19/2018</td>\n",
       "      <td>Violations were cited in the following area(s).</td>\n",
       "      <td>02G</td>\n",
       "      <td>Cold food item held above 41Âº F (smoked fish ...</td>\n",
       "      <td>Critical</td>\n",
       "      <td>24.0</td>\n",
       "      <td>Not Yet Graded</td>\n",
       "      <td>NaN</td>\n",
       "      <td>12/13/2018</td>\n",
       "      <td>Cycle Inspection / Initial Inspection</td>\n",
       "    </tr>\n",
       "  </tbody>\n",
       "</table>\n",
       "</div>"
      ],
      "text/plain": [
       "      CAMIS           DBA       BORO BUILDING         STREET  ZIPCODE  \\\n",
       "0  50058287    KIKU SUSHI  MANHATTAN      235        9TH AVE  10001.0   \n",
       "1  50084762  SMOOTHIE REY  MANHATTAN     1453  AMSTERDAM AVE  10027.0   \n",
       "\n",
       "        PHONE             CUISINE DESCRIPTION INSPECTION DATE  \\\n",
       "0  2126273660                        Japanese      11/01/2018   \n",
       "1  3473733485  Juice, Smoothies, Fruit Salads      11/19/2018   \n",
       "\n",
       "                                              ACTION VIOLATION CODE  \\\n",
       "0  Establishment Closed by DOHMH.  Violations wer...            04L   \n",
       "1    Violations were cited in the following area(s).            02G   \n",
       "\n",
       "                               VIOLATION DESCRIPTION CRITICAL FLAG  SCORE  \\\n",
       "0  Evidence of mice or live mice present in facil...      Critical   60.0   \n",
       "1  Cold food item held above 41Âº F (smoked fish ...      Critical   24.0   \n",
       "\n",
       "            GRADE GRADE DATE RECORD DATE  \\\n",
       "0             NaN        NaN  12/13/2018   \n",
       "1  Not Yet Graded        NaN  12/13/2018   \n",
       "\n",
       "                         INSPECTION TYPE  \n",
       "0  Cycle Inspection / Initial Inspection  \n",
       "1  Cycle Inspection / Initial Inspection  "
      ]
     },
     "execution_count": 10,
     "metadata": {},
     "output_type": "execute_result"
    }
   ],
   "source": [
    "df_insp.head(2)"
   ]
  },
  {
   "cell_type": "code",
   "execution_count": 11,
   "metadata": {},
   "outputs": [
    {
     "data": {
      "text/plain": [
       "array(['04L', '02G', '06D', '10F', '09C', '08A', '10J', '04A', '10B',\n",
       "       '04H', '06C', '10A', '02B', '16B', '04M', nan, '10D', '02H', '05D',\n",
       "       '06A', '08C', '10I', '06F', '16C', '08B', '10E', '20F', '10H',\n",
       "       '06E', '04C', '05H', '04N', '22C', '06B', '18G', '04K', '04E',\n",
       "       '16D', '10C', '09B', '15L', '04J', '04O', '09A', '02I', '22A',\n",
       "       '20A', '16A', '05E', '22F', '05F', '15F', '20E', '02A', '04D',\n",
       "       '16E', '02C', '15T', '03A', '03C', '20D', '03D', '05C', '10G',\n",
       "       '18D', '22E', '07A', '15I', '22B', '18F', '18C', '05B', '06G',\n",
       "       '03B', '05A', '02D', '15S', '04F', '15E', '02J', '20B', '22G',\n",
       "       '03E', '15K', '15J', '02F', '04B', '15A', '06H', '03G', '16F',\n",
       "       '03F', '04G', '18B', '19A', '02E', '06I', '15G', '04I', '17A'],\n",
       "      dtype=object)"
      ]
     },
     "execution_count": 11,
     "metadata": {},
     "output_type": "execute_result"
    }
   ],
   "source": [
    "df_insp['VIOLATION CODE'].unique()"
   ]
  },
  {
   "cell_type": "code",
   "execution_count": 12,
   "metadata": {},
   "outputs": [
    {
     "data": {
      "text/plain": [
       "Index(['CAMIS', 'DBA', 'BORO', 'BUILDING', 'STREET', 'ZIPCODE', 'PHONE',\n",
       "       'CUISINE DESCRIPTION', 'INSPECTION DATE', 'ACTION', 'VIOLATION CODE',\n",
       "       'VIOLATION DESCRIPTION', 'CRITICAL FLAG', 'SCORE', 'GRADE',\n",
       "       'GRADE DATE', 'RECORD DATE', 'INSPECTION TYPE'],\n",
       "      dtype='object')"
      ]
     },
     "execution_count": 12,
     "metadata": {},
     "output_type": "execute_result"
    }
   ],
   "source": [
    "df_insp.columns"
   ]
  },
  {
   "cell_type": "code",
   "execution_count": 13,
   "metadata": {},
   "outputs": [],
   "source": [
    "df_insp = df_insp.drop(['CUISINE DESCRIPTION', 'ACTION', 'GRADE',\n",
    "       'GRADE DATE', 'RECORD DATE'], axis=1)"
   ]
  },
  {
   "cell_type": "code",
   "execution_count": 14,
   "metadata": {},
   "outputs": [
    {
     "data": {
      "text/html": [
       "<div>\n",
       "<table border=\"1\" class=\"dataframe\">\n",
       "  <thead>\n",
       "    <tr style=\"text-align: right;\">\n",
       "      <th></th>\n",
       "      <th>CAMIS</th>\n",
       "      <th>DBA</th>\n",
       "      <th>BORO</th>\n",
       "      <th>BUILDING</th>\n",
       "      <th>STREET</th>\n",
       "      <th>ZIPCODE</th>\n",
       "      <th>PHONE</th>\n",
       "      <th>INSPECTION DATE</th>\n",
       "      <th>VIOLATION CODE</th>\n",
       "      <th>VIOLATION DESCRIPTION</th>\n",
       "      <th>CRITICAL FLAG</th>\n",
       "      <th>SCORE</th>\n",
       "      <th>INSPECTION TYPE</th>\n",
       "    </tr>\n",
       "  </thead>\n",
       "  <tbody>\n",
       "    <tr>\n",
       "      <th>0</th>\n",
       "      <td>50058287</td>\n",
       "      <td>KIKU SUSHI</td>\n",
       "      <td>MANHATTAN</td>\n",
       "      <td>235</td>\n",
       "      <td>9TH AVE</td>\n",
       "      <td>10001.0</td>\n",
       "      <td>2126273660</td>\n",
       "      <td>11/01/2018</td>\n",
       "      <td>04L</td>\n",
       "      <td>Evidence of mice or live mice present in facil...</td>\n",
       "      <td>Critical</td>\n",
       "      <td>60.0</td>\n",
       "      <td>Cycle Inspection / Initial Inspection</td>\n",
       "    </tr>\n",
       "    <tr>\n",
       "      <th>1</th>\n",
       "      <td>50084762</td>\n",
       "      <td>SMOOTHIE REY</td>\n",
       "      <td>MANHATTAN</td>\n",
       "      <td>1453</td>\n",
       "      <td>AMSTERDAM AVE</td>\n",
       "      <td>10027.0</td>\n",
       "      <td>3473733485</td>\n",
       "      <td>11/19/2018</td>\n",
       "      <td>02G</td>\n",
       "      <td>Cold food item held above 41Âº F (smoked fish ...</td>\n",
       "      <td>Critical</td>\n",
       "      <td>24.0</td>\n",
       "      <td>Cycle Inspection / Initial Inspection</td>\n",
       "    </tr>\n",
       "  </tbody>\n",
       "</table>\n",
       "</div>"
      ],
      "text/plain": [
       "      CAMIS           DBA       BORO BUILDING         STREET  ZIPCODE  \\\n",
       "0  50058287    KIKU SUSHI  MANHATTAN      235        9TH AVE  10001.0   \n",
       "1  50084762  SMOOTHIE REY  MANHATTAN     1453  AMSTERDAM AVE  10027.0   \n",
       "\n",
       "        PHONE INSPECTION DATE VIOLATION CODE  \\\n",
       "0  2126273660      11/01/2018            04L   \n",
       "1  3473733485      11/19/2018            02G   \n",
       "\n",
       "                               VIOLATION DESCRIPTION CRITICAL FLAG  SCORE  \\\n",
       "0  Evidence of mice or live mice present in facil...      Critical   60.0   \n",
       "1  Cold food item held above 41Âº F (smoked fish ...      Critical   24.0   \n",
       "\n",
       "                         INSPECTION TYPE  \n",
       "0  Cycle Inspection / Initial Inspection  \n",
       "1  Cycle Inspection / Initial Inspection  "
      ]
     },
     "execution_count": 14,
     "metadata": {},
     "output_type": "execute_result"
    }
   ],
   "source": [
    "df_insp.head(2)"
   ]
  },
  {
   "cell_type": "code",
   "execution_count": 15,
   "metadata": {},
   "outputs": [],
   "source": [
    "# Converting the address to number + street name format\n",
    "df_insp['ADDRESS'] = df_insp['BUILDING'] + \" \" + df_insp['STREET']"
   ]
  },
  {
   "cell_type": "code",
   "execution_count": 16,
   "metadata": {},
   "outputs": [
    {
     "data": {
      "text/html": [
       "<div>\n",
       "<table border=\"1\" class=\"dataframe\">\n",
       "  <thead>\n",
       "    <tr style=\"text-align: right;\">\n",
       "      <th></th>\n",
       "      <th>CAMIS</th>\n",
       "      <th>DBA</th>\n",
       "      <th>BORO</th>\n",
       "      <th>BUILDING</th>\n",
       "      <th>STREET</th>\n",
       "      <th>ZIPCODE</th>\n",
       "      <th>PHONE</th>\n",
       "      <th>INSPECTION DATE</th>\n",
       "      <th>VIOLATION CODE</th>\n",
       "      <th>VIOLATION DESCRIPTION</th>\n",
       "      <th>CRITICAL FLAG</th>\n",
       "      <th>SCORE</th>\n",
       "      <th>INSPECTION TYPE</th>\n",
       "      <th>ADDRESS</th>\n",
       "    </tr>\n",
       "  </thead>\n",
       "  <tbody>\n",
       "    <tr>\n",
       "      <th>0</th>\n",
       "      <td>50058287</td>\n",
       "      <td>KIKU SUSHI</td>\n",
       "      <td>MANHATTAN</td>\n",
       "      <td>235</td>\n",
       "      <td>9TH AVE</td>\n",
       "      <td>10001.0</td>\n",
       "      <td>2126273660</td>\n",
       "      <td>11/01/2018</td>\n",
       "      <td>04L</td>\n",
       "      <td>Evidence of mice or live mice present in facil...</td>\n",
       "      <td>Critical</td>\n",
       "      <td>60.0</td>\n",
       "      <td>Cycle Inspection / Initial Inspection</td>\n",
       "      <td>235 9TH AVE</td>\n",
       "    </tr>\n",
       "    <tr>\n",
       "      <th>1</th>\n",
       "      <td>50084762</td>\n",
       "      <td>SMOOTHIE REY</td>\n",
       "      <td>MANHATTAN</td>\n",
       "      <td>1453</td>\n",
       "      <td>AMSTERDAM AVE</td>\n",
       "      <td>10027.0</td>\n",
       "      <td>3473733485</td>\n",
       "      <td>11/19/2018</td>\n",
       "      <td>02G</td>\n",
       "      <td>Cold food item held above 41Âº F (smoked fish ...</td>\n",
       "      <td>Critical</td>\n",
       "      <td>24.0</td>\n",
       "      <td>Cycle Inspection / Initial Inspection</td>\n",
       "      <td>1453 AMSTERDAM AVE</td>\n",
       "    </tr>\n",
       "    <tr>\n",
       "      <th>2</th>\n",
       "      <td>40576403</td>\n",
       "      <td>MAYA</td>\n",
       "      <td>MANHATTAN</td>\n",
       "      <td>1191</td>\n",
       "      <td>1 AVENUE</td>\n",
       "      <td>10065.0</td>\n",
       "      <td>2125851818</td>\n",
       "      <td>11/21/2018</td>\n",
       "      <td>06D</td>\n",
       "      <td>Food contact surface not properly washed, rins...</td>\n",
       "      <td>Critical</td>\n",
       "      <td>23.0</td>\n",
       "      <td>Cycle Inspection / Initial Inspection</td>\n",
       "      <td>1191 1 AVENUE</td>\n",
       "    </tr>\n",
       "  </tbody>\n",
       "</table>\n",
       "</div>"
      ],
      "text/plain": [
       "      CAMIS           DBA       BORO BUILDING         STREET  ZIPCODE  \\\n",
       "0  50058287    KIKU SUSHI  MANHATTAN      235        9TH AVE  10001.0   \n",
       "1  50084762  SMOOTHIE REY  MANHATTAN     1453  AMSTERDAM AVE  10027.0   \n",
       "2  40576403          MAYA  MANHATTAN     1191       1 AVENUE  10065.0   \n",
       "\n",
       "        PHONE INSPECTION DATE VIOLATION CODE  \\\n",
       "0  2126273660      11/01/2018            04L   \n",
       "1  3473733485      11/19/2018            02G   \n",
       "2  2125851818      11/21/2018            06D   \n",
       "\n",
       "                               VIOLATION DESCRIPTION CRITICAL FLAG  SCORE  \\\n",
       "0  Evidence of mice or live mice present in facil...      Critical   60.0   \n",
       "1  Cold food item held above 41Âº F (smoked fish ...      Critical   24.0   \n",
       "2  Food contact surface not properly washed, rins...      Critical   23.0   \n",
       "\n",
       "                         INSPECTION TYPE             ADDRESS  \n",
       "0  Cycle Inspection / Initial Inspection         235 9TH AVE  \n",
       "1  Cycle Inspection / Initial Inspection  1453 AMSTERDAM AVE  \n",
       "2  Cycle Inspection / Initial Inspection       1191 1 AVENUE  "
      ]
     },
     "execution_count": 16,
     "metadata": {},
     "output_type": "execute_result"
    }
   ],
   "source": [
    "df_insp.head(3)"
   ]
  },
  {
   "cell_type": "code",
   "execution_count": 17,
   "metadata": {},
   "outputs": [],
   "source": [
    "# Seperating violation results\n",
    "df_insp['Food_Protect'] = df_insp['VIOLATION CODE'].str.contains('02|04')\n",
    "df_insp['Food_Source'] = df_insp['VIOLATION CODE'].str.contains('03')\n",
    "df_insp['Food_Prep'] = df_insp['VIOLATION CODE'].str.contains('06')\n",
    "df_insp['Facility_DM'] = df_insp['VIOLATION CODE'].str.contains('05|10')\n",
    "df_insp['Vermin_Waste'] = df_insp['VIOLATION CODE'].str.contains('08')"
   ]
  },
  {
   "cell_type": "code",
   "execution_count": 18,
   "metadata": {},
   "outputs": [
    {
     "data": {
      "text/html": [
       "<div>\n",
       "<table border=\"1\" class=\"dataframe\">\n",
       "  <thead>\n",
       "    <tr style=\"text-align: right;\">\n",
       "      <th></th>\n",
       "      <th>CAMIS</th>\n",
       "      <th>DBA</th>\n",
       "      <th>BORO</th>\n",
       "      <th>BUILDING</th>\n",
       "      <th>STREET</th>\n",
       "      <th>ZIPCODE</th>\n",
       "      <th>PHONE</th>\n",
       "      <th>INSPECTION DATE</th>\n",
       "      <th>VIOLATION CODE</th>\n",
       "      <th>VIOLATION DESCRIPTION</th>\n",
       "      <th>CRITICAL FLAG</th>\n",
       "      <th>SCORE</th>\n",
       "      <th>INSPECTION TYPE</th>\n",
       "      <th>ADDRESS</th>\n",
       "      <th>Food_Protect</th>\n",
       "      <th>Food_Source</th>\n",
       "      <th>Food_Prep</th>\n",
       "      <th>Facility_DM</th>\n",
       "      <th>Vermin_Waste</th>\n",
       "    </tr>\n",
       "  </thead>\n",
       "  <tbody>\n",
       "    <tr>\n",
       "      <th>0</th>\n",
       "      <td>50058287</td>\n",
       "      <td>KIKU SUSHI</td>\n",
       "      <td>MANHATTAN</td>\n",
       "      <td>235</td>\n",
       "      <td>9TH AVE</td>\n",
       "      <td>10001.0</td>\n",
       "      <td>2126273660</td>\n",
       "      <td>11/01/2018</td>\n",
       "      <td>04L</td>\n",
       "      <td>Evidence of mice or live mice present in facil...</td>\n",
       "      <td>Critical</td>\n",
       "      <td>60.0</td>\n",
       "      <td>Cycle Inspection / Initial Inspection</td>\n",
       "      <td>235 9TH AVE</td>\n",
       "      <td>True</td>\n",
       "      <td>False</td>\n",
       "      <td>False</td>\n",
       "      <td>False</td>\n",
       "      <td>False</td>\n",
       "    </tr>\n",
       "    <tr>\n",
       "      <th>1</th>\n",
       "      <td>50084762</td>\n",
       "      <td>SMOOTHIE REY</td>\n",
       "      <td>MANHATTAN</td>\n",
       "      <td>1453</td>\n",
       "      <td>AMSTERDAM AVE</td>\n",
       "      <td>10027.0</td>\n",
       "      <td>3473733485</td>\n",
       "      <td>11/19/2018</td>\n",
       "      <td>02G</td>\n",
       "      <td>Cold food item held above 41Âº F (smoked fish ...</td>\n",
       "      <td>Critical</td>\n",
       "      <td>24.0</td>\n",
       "      <td>Cycle Inspection / Initial Inspection</td>\n",
       "      <td>1453 AMSTERDAM AVE</td>\n",
       "      <td>True</td>\n",
       "      <td>False</td>\n",
       "      <td>False</td>\n",
       "      <td>False</td>\n",
       "      <td>False</td>\n",
       "    </tr>\n",
       "    <tr>\n",
       "      <th>2</th>\n",
       "      <td>40576403</td>\n",
       "      <td>MAYA</td>\n",
       "      <td>MANHATTAN</td>\n",
       "      <td>1191</td>\n",
       "      <td>1 AVENUE</td>\n",
       "      <td>10065.0</td>\n",
       "      <td>2125851818</td>\n",
       "      <td>11/21/2018</td>\n",
       "      <td>06D</td>\n",
       "      <td>Food contact surface not properly washed, rins...</td>\n",
       "      <td>Critical</td>\n",
       "      <td>23.0</td>\n",
       "      <td>Cycle Inspection / Initial Inspection</td>\n",
       "      <td>1191 1 AVENUE</td>\n",
       "      <td>False</td>\n",
       "      <td>False</td>\n",
       "      <td>True</td>\n",
       "      <td>False</td>\n",
       "      <td>False</td>\n",
       "    </tr>\n",
       "  </tbody>\n",
       "</table>\n",
       "</div>"
      ],
      "text/plain": [
       "      CAMIS           DBA       BORO BUILDING         STREET  ZIPCODE  \\\n",
       "0  50058287    KIKU SUSHI  MANHATTAN      235        9TH AVE  10001.0   \n",
       "1  50084762  SMOOTHIE REY  MANHATTAN     1453  AMSTERDAM AVE  10027.0   \n",
       "2  40576403          MAYA  MANHATTAN     1191       1 AVENUE  10065.0   \n",
       "\n",
       "        PHONE INSPECTION DATE VIOLATION CODE  \\\n",
       "0  2126273660      11/01/2018            04L   \n",
       "1  3473733485      11/19/2018            02G   \n",
       "2  2125851818      11/21/2018            06D   \n",
       "\n",
       "                               VIOLATION DESCRIPTION CRITICAL FLAG  SCORE  \\\n",
       "0  Evidence of mice or live mice present in facil...      Critical   60.0   \n",
       "1  Cold food item held above 41Âº F (smoked fish ...      Critical   24.0   \n",
       "2  Food contact surface not properly washed, rins...      Critical   23.0   \n",
       "\n",
       "                         INSPECTION TYPE             ADDRESS Food_Protect  \\\n",
       "0  Cycle Inspection / Initial Inspection         235 9TH AVE         True   \n",
       "1  Cycle Inspection / Initial Inspection  1453 AMSTERDAM AVE         True   \n",
       "2  Cycle Inspection / Initial Inspection       1191 1 AVENUE        False   \n",
       "\n",
       "  Food_Source Food_Prep Facility_DM Vermin_Waste  \n",
       "0       False     False       False        False  \n",
       "1       False     False       False        False  \n",
       "2       False      True       False        False  "
      ]
     },
     "execution_count": 18,
     "metadata": {},
     "output_type": "execute_result"
    }
   ],
   "source": [
    "df_insp.head(3)"
   ]
  },
  {
   "cell_type": "code",
   "execution_count": 19,
   "metadata": {},
   "outputs": [],
   "source": [
    "df_insp_cl = df_insp.drop(['CAMIS', 'BUILDING','STREET'], axis=1)"
   ]
  },
  {
   "cell_type": "code",
   "execution_count": 20,
   "metadata": {},
   "outputs": [],
   "source": [
    "df_insp_add = df_insp_cl.sort_values(by=['ADDRESS'])"
   ]
  },
  {
   "cell_type": "code",
   "execution_count": 21,
   "metadata": {},
   "outputs": [
    {
     "data": {
      "text/html": [
       "<div>\n",
       "<table border=\"1\" class=\"dataframe\">\n",
       "  <thead>\n",
       "    <tr style=\"text-align: right;\">\n",
       "      <th></th>\n",
       "      <th>ADDRESS</th>\n",
       "      <th>Food_Protect</th>\n",
       "      <th>Food_Source</th>\n",
       "      <th>Food_Prep</th>\n",
       "      <th>Facility_DM</th>\n",
       "      <th>Vermin_Waste</th>\n",
       "    </tr>\n",
       "  </thead>\n",
       "  <tbody>\n",
       "    <tr>\n",
       "      <th>0</th>\n",
       "      <td>.1-A EAST 77 ST</td>\n",
       "      <td>5</td>\n",
       "      <td>0</td>\n",
       "      <td>1</td>\n",
       "      <td>0</td>\n",
       "      <td>3</td>\n",
       "    </tr>\n",
       "    <tr>\n",
       "      <th>1</th>\n",
       "      <td>0 &amp; GRAND CENTRAL</td>\n",
       "      <td>5</td>\n",
       "      <td>0</td>\n",
       "      <td>1</td>\n",
       "      <td>7</td>\n",
       "      <td>3</td>\n",
       "    </tr>\n",
       "    <tr>\n",
       "      <th>2</th>\n",
       "      <td>0 106 STREET &amp; 5 AVENUE</td>\n",
       "      <td>7</td>\n",
       "      <td>0</td>\n",
       "      <td>4</td>\n",
       "      <td>7</td>\n",
       "      <td>2</td>\n",
       "    </tr>\n",
       "  </tbody>\n",
       "</table>\n",
       "</div>"
      ],
      "text/plain": [
       "                   ADDRESS Food_Protect Food_Source Food_Prep Facility_DM  \\\n",
       "0          .1-A EAST 77 ST            5           0         1           0   \n",
       "1        0 & GRAND CENTRAL            5           0         1           7   \n",
       "2  0 106 STREET & 5 AVENUE            7           0         4           7   \n",
       "\n",
       "  Vermin_Waste  \n",
       "0            3  \n",
       "1            3  \n",
       "2            2  "
      ]
     },
     "execution_count": 21,
     "metadata": {},
     "output_type": "execute_result"
    }
   ],
   "source": [
    "# Combining the result for each restaurant, i.e. all violations in one row\n",
    "df_insp_com = df_insp_add.groupby('ADDRESS')[\"Food_Protect\", \"Food_Source\", \"Food_Prep\", \"Facility_DM\",\"Vermin_Waste\"].sum().reset_index()\n",
    "df_insp_com.head(3)"
   ]
  },
  {
   "cell_type": "code",
   "execution_count": 22,
   "metadata": {},
   "outputs": [
    {
     "data": {
      "text/plain": [
       "array([5, 7, 0, 1, 4, 8, 2, 3, 11, 10, 24, 14, 61, 22, 9, 25, 70, 44, nan,\n",
       "       38, 13, 12, 34, 17, 16, 6, 37, 33, 15, 20, 26, 18, 31, 30, 23, 21,\n",
       "       19, 28, 35, 68, 27, 108, 169, 29, 39, 41, 36, 91, 32, 42, 59, 47,\n",
       "       48, 123, 40, 43, 53, 46, 148], dtype=object)"
      ]
     },
     "execution_count": 22,
     "metadata": {},
     "output_type": "execute_result"
    }
   ],
   "source": [
    "df_insp_com.Food_Protect.unique()"
   ]
  },
  {
   "cell_type": "code",
   "execution_count": 23,
   "metadata": {},
   "outputs": [],
   "source": [
    "# Fill in 0 for Nan as it means no violation detected.\n",
    "df_insp_com.Food_Protect = df_insp_com.Food_Protect.fillna(0)\n",
    "df_insp_com.Food_Source = df_insp_com.Food_Source.fillna(0)\n",
    "df_insp_com.Food_Prep = df_insp_com.Food_Prep.fillna(0)\n",
    "df_insp_com.Facility_DM = df_insp_com.Facility_DM.fillna(0)\n",
    "df_insp_com.Vermin_Waste = df_insp_com.Vermin_Waste.fillna(0)"
   ]
  },
  {
   "cell_type": "markdown",
   "metadata": {},
   "source": [
    "## Merge Inspection result with PLUTO to obtain the BBL for each restaurant "
   ]
  },
  {
   "cell_type": "code",
   "execution_count": 24,
   "metadata": {},
   "outputs": [
    {
     "data": {
      "text/html": [
       "<div>\n",
       "<table border=\"1\" class=\"dataframe\">\n",
       "  <thead>\n",
       "    <tr style=\"text-align: right;\">\n",
       "      <th></th>\n",
       "      <th>ADDRESS</th>\n",
       "      <th>Food_Protect</th>\n",
       "      <th>Food_Source</th>\n",
       "      <th>Food_Prep</th>\n",
       "      <th>Facility_DM</th>\n",
       "      <th>Vermin_Waste</th>\n",
       "      <th>Address</th>\n",
       "      <th>BBL</th>\n",
       "      <th>Borough</th>\n",
       "      <th>ZipCode</th>\n",
       "    </tr>\n",
       "  </thead>\n",
       "  <tbody>\n",
       "    <tr>\n",
       "      <th>0</th>\n",
       "      <td>1 5 AVENUE</td>\n",
       "      <td>8</td>\n",
       "      <td>0</td>\n",
       "      <td>2</td>\n",
       "      <td>3</td>\n",
       "      <td>3</td>\n",
       "      <td>1 5 AVENUE</td>\n",
       "      <td>1005500022</td>\n",
       "      <td>MN</td>\n",
       "      <td>10003.0</td>\n",
       "    </tr>\n",
       "    <tr>\n",
       "      <th>1</th>\n",
       "      <td>1 BLEECKER STREET</td>\n",
       "      <td>3</td>\n",
       "      <td>0</td>\n",
       "      <td>5</td>\n",
       "      <td>5</td>\n",
       "      <td>2</td>\n",
       "      <td>1 BLEECKER STREET</td>\n",
       "      <td>1005297505</td>\n",
       "      <td>MN</td>\n",
       "      <td>10012.0</td>\n",
       "    </tr>\n",
       "    <tr>\n",
       "      <th>2</th>\n",
       "      <td>1 BOUCK COURT</td>\n",
       "      <td>1</td>\n",
       "      <td>0</td>\n",
       "      <td>1</td>\n",
       "      <td>3</td>\n",
       "      <td>0</td>\n",
       "      <td>1 BOUCK COURT</td>\n",
       "      <td>3071920065</td>\n",
       "      <td>BK</td>\n",
       "      <td>11223.0</td>\n",
       "    </tr>\n",
       "    <tr>\n",
       "      <th>3</th>\n",
       "      <td>1 CENTRAL PARK WEST</td>\n",
       "      <td>1</td>\n",
       "      <td>0</td>\n",
       "      <td>1</td>\n",
       "      <td>4</td>\n",
       "      <td>1</td>\n",
       "      <td>1 CENTRAL PARK WEST</td>\n",
       "      <td>1011137502</td>\n",
       "      <td>MN</td>\n",
       "      <td>10023.0</td>\n",
       "    </tr>\n",
       "    <tr>\n",
       "      <th>4</th>\n",
       "      <td>1 CORSON AVENUE</td>\n",
       "      <td>3</td>\n",
       "      <td>0</td>\n",
       "      <td>5</td>\n",
       "      <td>9</td>\n",
       "      <td>3</td>\n",
       "      <td>1 CORSON AVENUE</td>\n",
       "      <td>5000180065</td>\n",
       "      <td>SI</td>\n",
       "      <td>10301.0</td>\n",
       "    </tr>\n",
       "  </tbody>\n",
       "</table>\n",
       "</div>"
      ],
      "text/plain": [
       "               ADDRESS Food_Protect Food_Source Food_Prep Facility_DM  \\\n",
       "0           1 5 AVENUE            8           0         2           3   \n",
       "1    1 BLEECKER STREET            3           0         5           5   \n",
       "2        1 BOUCK COURT            1           0         1           3   \n",
       "3  1 CENTRAL PARK WEST            1           0         1           4   \n",
       "4      1 CORSON AVENUE            3           0         5           9   \n",
       "\n",
       "  Vermin_Waste              Address         BBL Borough  ZipCode  \n",
       "0            3           1 5 AVENUE  1005500022      MN  10003.0  \n",
       "1            2    1 BLEECKER STREET  1005297505      MN  10012.0  \n",
       "2            0        1 BOUCK COURT  3071920065      BK  11223.0  \n",
       "3            1  1 CENTRAL PARK WEST  1011137502      MN  10023.0  \n",
       "4            3      1 CORSON AVENUE  5000180065      SI  10301.0  "
      ]
     },
     "execution_count": 24,
     "metadata": {},
     "output_type": "execute_result"
    }
   ],
   "source": [
    "df_insp_bbl = pd.merge(df_insp_com, pluto, left_on='ADDRESS', right_on='Address')\n",
    "df_insp_bbl.head()"
   ]
  },
  {
   "cell_type": "markdown",
   "metadata": {},
   "source": [
    "## Cleaning 311 DATA"
   ]
  },
  {
   "cell_type": "code",
   "execution_count": 25,
   "metadata": {},
   "outputs": [
    {
     "data": {
      "text/plain": [
       "Index(['Unique Key', 'Created Date', 'Closed Date', 'Agency', 'Agency Name',\n",
       "       'Complaint Type', 'Descriptor', 'Location Type', 'Incident Zip',\n",
       "       'Incident Address', 'Street Name', 'Cross Street 1', 'Cross Street 2',\n",
       "       'Intersection Street 1', 'Intersection Street 2', 'Address Type',\n",
       "       'City', 'Landmark', 'Facility Type', 'Status', 'Due Date',\n",
       "       'Resolution Description', 'Resolution Action Updated Date',\n",
       "       'Community Board', 'BBL', 'Borough', 'X Coordinate (State Plane)',\n",
       "       'Y Coordinate (State Plane)', 'Open Data Channel Type',\n",
       "       'Park Facility Name', 'Park Borough', 'Vehicle Type',\n",
       "       'Taxi Company Borough', 'Taxi Pick Up Location', 'Bridge Highway Name',\n",
       "       'Bridge Highway Direction', 'Road Ramp', 'Bridge Highway Segment',\n",
       "       'Latitude', 'Longitude', 'Location'],\n",
       "      dtype='object')"
      ]
     },
     "execution_count": 25,
     "metadata": {},
     "output_type": "execute_result"
    }
   ],
   "source": [
    "df_311.columns"
   ]
  },
  {
   "cell_type": "code",
   "execution_count": 26,
   "metadata": {},
   "outputs": [],
   "source": [
    "df_311 = df_311.drop(['Unique Key', 'Created Date', 'Closed Date', 'Agency', 'Agency Name',\n",
    "        'Descriptor', 'Location Type', \n",
    "        'Street Name', 'Cross Street 1', 'Cross Street 2',\n",
    "       'Intersection Street 1', 'Intersection Street 2', 'Address Type',\n",
    "       'City', 'Landmark', 'Facility Type', 'Status', 'Due Date',\n",
    "       'Resolution Description', 'Resolution Action Updated Date',\n",
    "       'Community Board', 'X Coordinate (State Plane)',\n",
    "       'Y Coordinate (State Plane)', 'Open Data Channel Type',\n",
    "       'Park Facility Name', 'Park Borough', 'Vehicle Type',\n",
    "       'Taxi Company Borough', 'Taxi Pick Up Location', 'Bridge Highway Name',\n",
    "       'Bridge Highway Direction', 'Road Ramp', 'Bridge Highway Segment',\n",
    "       'Latitude', 'Longitude', 'Location'], axis=1)"
   ]
  },
  {
   "cell_type": "code",
   "execution_count": 27,
   "metadata": {},
   "outputs": [
    {
     "data": {
      "text/html": [
       "<div>\n",
       "<table border=\"1\" class=\"dataframe\">\n",
       "  <thead>\n",
       "    <tr style=\"text-align: right;\">\n",
       "      <th></th>\n",
       "      <th>Complaint Type</th>\n",
       "      <th>Incident Zip</th>\n",
       "      <th>Incident Address</th>\n",
       "      <th>BBL</th>\n",
       "      <th>Borough</th>\n",
       "    </tr>\n",
       "  </thead>\n",
       "  <tbody>\n",
       "    <tr>\n",
       "      <th>0</th>\n",
       "      <td>Food Poisoning</td>\n",
       "      <td>10029.0</td>\n",
       "      <td>112 EAST 116 STREET</td>\n",
       "      <td>1.016430e+09</td>\n",
       "      <td>MANHATTAN</td>\n",
       "    </tr>\n",
       "    <tr>\n",
       "      <th>1</th>\n",
       "      <td>Food Poisoning</td>\n",
       "      <td>10469.0</td>\n",
       "      <td>NaN</td>\n",
       "      <td>NaN</td>\n",
       "      <td>BRONX</td>\n",
       "    </tr>\n",
       "    <tr>\n",
       "      <th>2</th>\n",
       "      <td>Food Poisoning</td>\n",
       "      <td>11430.0</td>\n",
       "      <td>JFK INTERNATIONAL AIRPORT</td>\n",
       "      <td>NaN</td>\n",
       "      <td>QUEENS</td>\n",
       "    </tr>\n",
       "    <tr>\n",
       "      <th>3</th>\n",
       "      <td>Food Poisoning</td>\n",
       "      <td>10305.0</td>\n",
       "      <td>41 REID AVENUE</td>\n",
       "      <td>5.032430e+09</td>\n",
       "      <td>STATEN ISLAND</td>\n",
       "    </tr>\n",
       "    <tr>\n",
       "      <th>4</th>\n",
       "      <td>Food Poisoning</td>\n",
       "      <td>10461.0</td>\n",
       "      <td>NaN</td>\n",
       "      <td>NaN</td>\n",
       "      <td>BRONX</td>\n",
       "    </tr>\n",
       "  </tbody>\n",
       "</table>\n",
       "</div>"
      ],
      "text/plain": [
       "   Complaint Type  Incident Zip           Incident Address           BBL  \\\n",
       "0  Food Poisoning       10029.0        112 EAST 116 STREET  1.016430e+09   \n",
       "1  Food Poisoning       10469.0                        NaN           NaN   \n",
       "2  Food Poisoning       11430.0  JFK INTERNATIONAL AIRPORT           NaN   \n",
       "3  Food Poisoning       10305.0             41 REID AVENUE  5.032430e+09   \n",
       "4  Food Poisoning       10461.0                        NaN           NaN   \n",
       "\n",
       "         Borough  \n",
       "0      MANHATTAN  \n",
       "1          BRONX  \n",
       "2         QUEENS  \n",
       "3  STATEN ISLAND  \n",
       "4          BRONX  "
      ]
     },
     "execution_count": 27,
     "metadata": {},
     "output_type": "execute_result"
    }
   ],
   "source": [
    "df_311.head()"
   ]
  },
  {
   "cell_type": "code",
   "execution_count": 28,
   "metadata": {},
   "outputs": [],
   "source": [
    "df_311['Count'] = True\n",
    "df_311_1 = df_311.groupby('BBL')['Count'].sum().reset_index()"
   ]
  },
  {
   "cell_type": "markdown",
   "metadata": {},
   "source": [
    "## Merging all"
   ]
  },
  {
   "cell_type": "code",
   "execution_count": 29,
   "metadata": {},
   "outputs": [
    {
     "data": {
      "text/html": [
       "<div>\n",
       "<table border=\"1\" class=\"dataframe\">\n",
       "  <thead>\n",
       "    <tr style=\"text-align: right;\">\n",
       "      <th></th>\n",
       "      <th>BBL</th>\n",
       "      <th>Count</th>\n",
       "      <th>ADDRESS</th>\n",
       "      <th>Food_Protect</th>\n",
       "      <th>Food_Source</th>\n",
       "      <th>Food_Prep</th>\n",
       "      <th>Facility_DM</th>\n",
       "      <th>Vermin_Waste</th>\n",
       "      <th>Address</th>\n",
       "      <th>Borough</th>\n",
       "      <th>ZipCode</th>\n",
       "    </tr>\n",
       "  </thead>\n",
       "  <tbody>\n",
       "    <tr>\n",
       "      <th>0</th>\n",
       "      <td>3.075760e+05</td>\n",
       "      <td>1.0</td>\n",
       "      <td>NaN</td>\n",
       "      <td>NaN</td>\n",
       "      <td>NaN</td>\n",
       "      <td>NaN</td>\n",
       "      <td>NaN</td>\n",
       "      <td>NaN</td>\n",
       "      <td>NaN</td>\n",
       "      <td>NaN</td>\n",
       "      <td>NaN</td>\n",
       "    </tr>\n",
       "    <tr>\n",
       "      <th>1</th>\n",
       "      <td>1.000010e+09</td>\n",
       "      <td>2.0</td>\n",
       "      <td>NaN</td>\n",
       "      <td>NaN</td>\n",
       "      <td>NaN</td>\n",
       "      <td>NaN</td>\n",
       "      <td>NaN</td>\n",
       "      <td>NaN</td>\n",
       "      <td>NaN</td>\n",
       "      <td>NaN</td>\n",
       "      <td>NaN</td>\n",
       "    </tr>\n",
       "    <tr>\n",
       "      <th>2</th>\n",
       "      <td>1.000020e+09</td>\n",
       "      <td>2.0</td>\n",
       "      <td>4 SOUTH STREET</td>\n",
       "      <td>36</td>\n",
       "      <td>1</td>\n",
       "      <td>16</td>\n",
       "      <td>18</td>\n",
       "      <td>13</td>\n",
       "      <td>4 SOUTH STREET</td>\n",
       "      <td>MN</td>\n",
       "      <td>10004.0</td>\n",
       "    </tr>\n",
       "    <tr>\n",
       "      <th>3</th>\n",
       "      <td>1.000030e+09</td>\n",
       "      <td>1.0</td>\n",
       "      <td>NaN</td>\n",
       "      <td>NaN</td>\n",
       "      <td>NaN</td>\n",
       "      <td>NaN</td>\n",
       "      <td>NaN</td>\n",
       "      <td>NaN</td>\n",
       "      <td>NaN</td>\n",
       "      <td>NaN</td>\n",
       "      <td>NaN</td>\n",
       "    </tr>\n",
       "    <tr>\n",
       "      <th>4</th>\n",
       "      <td>1.000048e+09</td>\n",
       "      <td>3.0</td>\n",
       "      <td>1 WATER STREET</td>\n",
       "      <td>1</td>\n",
       "      <td>0</td>\n",
       "      <td>4</td>\n",
       "      <td>5</td>\n",
       "      <td>1</td>\n",
       "      <td>1 WATER STREET</td>\n",
       "      <td>MN</td>\n",
       "      <td>10004.0</td>\n",
       "    </tr>\n",
       "  </tbody>\n",
       "</table>\n",
       "</div>"
      ],
      "text/plain": [
       "            BBL  Count         ADDRESS Food_Protect Food_Source Food_Prep  \\\n",
       "0  3.075760e+05    1.0             NaN          NaN         NaN       NaN   \n",
       "1  1.000010e+09    2.0             NaN          NaN         NaN       NaN   \n",
       "2  1.000020e+09    2.0  4 SOUTH STREET           36           1        16   \n",
       "3  1.000030e+09    1.0             NaN          NaN         NaN       NaN   \n",
       "4  1.000048e+09    3.0  1 WATER STREET            1           0         4   \n",
       "\n",
       "  Facility_DM Vermin_Waste         Address Borough  ZipCode  \n",
       "0         NaN          NaN             NaN     NaN      NaN  \n",
       "1         NaN          NaN             NaN     NaN      NaN  \n",
       "2          18           13  4 SOUTH STREET      MN  10004.0  \n",
       "3         NaN          NaN             NaN     NaN      NaN  \n",
       "4           5            1  1 WATER STREET      MN  10004.0  "
      ]
     },
     "execution_count": 29,
     "metadata": {},
     "output_type": "execute_result"
    }
   ],
   "source": [
    "df_all = pd.merge(df_311_1, df_insp_bbl, on='BBL', how='outer')\n",
    "df_all.head()"
   ]
  },
  {
   "cell_type": "code",
   "execution_count": 30,
   "metadata": {},
   "outputs": [
    {
     "data": {
      "text/plain": [
       "array([ 1.,  2.,  3.,  5.,  4.,  9., 18.,  6.,  7., 24.,  8., 10., 12.,\n",
       "       14., 11., 80., 33., 19., 15., 13., 27., 20., 21., 16., 17., 26.,\n",
       "       nan])"
      ]
     },
     "execution_count": 30,
     "metadata": {},
     "output_type": "execute_result"
    }
   ],
   "source": [
    "df_all['Count'].unique()"
   ]
  },
  {
   "cell_type": "code",
   "execution_count": 32,
   "metadata": {},
   "outputs": [],
   "source": [
    "# Fill nan with 0 because if no food poisoning cases were counted then treat as no case.\n",
    "df_all['Count'] = df_all['Count'].fillna(0)"
   ]
  },
  {
   "cell_type": "code",
   "execution_count": 33,
   "metadata": {},
   "outputs": [],
   "source": [
    "df_all['Incident'] = df_all['Count'].apply(lambda x: x>0)"
   ]
  },
  {
   "cell_type": "code",
   "execution_count": 34,
   "metadata": {},
   "outputs": [],
   "source": [
    "df_all_select = df_all[[\"Food_Protect\", \"Food_Source\", \"Food_Prep\", \n",
    "                        'Facility_DM', 'Vermin_Waste', 'Incident']].dropna()\n",
    "df_all_short = df_all_select[[\"Food_Protect\", \"Food_Source\", \"Food_Prep\", 'Facility_DM', 'Vermin_Waste']]"
   ]
  },
  {
   "cell_type": "markdown",
   "metadata": {},
   "source": [
    "## Decision Tree & Random Forest Analysis"
   ]
  },
  {
   "cell_type": "code",
   "execution_count": 35,
   "metadata": {},
   "outputs": [
    {
     "data": {
      "text/plain": [
       "0.6271288318974153"
      ]
     },
     "execution_count": 35,
     "metadata": {},
     "output_type": "execute_result"
    }
   ],
   "source": [
    "# Decision Tree\n",
    "tree_reg =  tree.DecisionTreeClassifier(max_depth=3, criterion=\"gini\", \n",
    "                                        random_state=222).fit(df_all_short.values, df_all_select[\"Incident\"])\n",
    "tree_reg.score(df_all_short.values, df_all_select[\"Incident\"])"
   ]
  },
  {
   "cell_type": "code",
   "execution_count": 36,
   "metadata": {},
   "outputs": [
    {
     "data": {
      "text/plain": [
       "0.6279302744940893"
      ]
     },
     "execution_count": 36,
     "metadata": {},
     "output_type": "execute_result"
    }
   ],
   "source": [
    "tree_reg1 =  tree.DecisionTreeClassifier(max_depth=4, criterion=\"gini\", \n",
    "                                        random_state=222).fit(df_all_short.values, df_all_select[\"Incident\"])\n",
    "tree_reg1.score(df_all_short.values, df_all_select[\"Incident\"])"
   ]
  },
  {
   "cell_type": "code",
   "execution_count": 37,
   "metadata": {},
   "outputs": [
    {
     "data": {
      "text/plain": [
       "0.6271288318974153"
      ]
     },
     "execution_count": 37,
     "metadata": {},
     "output_type": "execute_result"
    }
   ],
   "source": [
    "# Random Forest\n",
    "clf3 = ensemble.RandomForestClassifier(max_depth=3, criterion=\"gini\", \n",
    "                                       random_state=222).fit(df_all_short.values, df_all_select[\"Incident\"])\n",
    "clf3.score(df_all_short.values, df_all_select[\"Incident\"])"
   ]
  },
  {
   "cell_type": "code",
   "execution_count": 38,
   "metadata": {},
   "outputs": [
    {
     "data": {
      "text/plain": [
       "0.6303346022841114"
      ]
     },
     "execution_count": 38,
     "metadata": {},
     "output_type": "execute_result"
    }
   ],
   "source": [
    "clf4 = ensemble.RandomForestClassifier(max_depth=4, criterion=\"gini\", \n",
    "                                       random_state=222).fit(df_all_short.values, df_all_select[\"Incident\"])\n",
    "clf4.score(df_all_short.values, df_all_select[\"Incident\"])"
   ]
  },
  {
   "cell_type": "code",
   "execution_count": 39,
   "metadata": {},
   "outputs": [
    {
     "data": {
      "text/plain": [
       "0.636145061109998"
      ]
     },
     "execution_count": 39,
     "metadata": {},
     "output_type": "execute_result"
    }
   ],
   "source": [
    "clf5 = ensemble.RandomForestClassifier(max_depth=5, criterion=\"gini\", \n",
    "                                       random_state=222).fit(df_all_short.values, df_all_select[\"Incident\"])\n",
    "clf5.score(df_all_short.values, df_all_select[\"Incident\"])"
   ]
  },
  {
   "cell_type": "code",
   "execution_count": 40,
   "metadata": {},
   "outputs": [],
   "source": [
    "rforest_3 = clf3.fit(df_all_short.values, df_all_select[\"Incident\"])\n",
    "estimator9 = rforest_3.estimators_[9]\n",
    "estimator5 = rforest_3.estimators_[5]\n",
    "estimator3 = rforest_3.estimators_[3]\n",
    "estimator1 = rforest_3.estimators_[1]"
   ]
  },
  {
   "cell_type": "code",
   "execution_count": 41,
   "metadata": {},
   "outputs": [],
   "source": [
    "# Confusion matrix\n",
    "X_train, X_test, y_train, y_test = train_test_split(df_all_short.values, \n",
    "    df_all_select[\"Incident\"], test_size=0.33, random_state=42)"
   ]
  },
  {
   "cell_type": "code",
   "execution_count": 42,
   "metadata": {},
   "outputs": [
    {
     "data": {
      "text/plain": [
       "array([[976,  15],\n",
       "       [638,  19]])"
      ]
     },
     "execution_count": 42,
     "metadata": {},
     "output_type": "execute_result"
    },
    {
     "data": {
      "image/png": "[encoded data removed]",
      "text/plain": [
       "<matplotlib.figure.Figure at 0x7f60ed15f198>"
      ]
     },
     "metadata": {},
     "output_type": "display_data"
    }
   ],
   "source": [
    "clf_3 = rfc(max_depth=3)\n",
    "clf_3.fit(X_train, y_train)\n",
    "y_pred = clf_3.predict(X_test)\n",
    "imshow(confusion_matrix(y_test, y_pred), cmap='bone')\n",
    "confusion_matrix(y_test, y_pred)\n",
    "#True positive, False positive\n",
    "#False negative, True negetive"
   ]
  },
  {
   "cell_type": "code",
   "execution_count": 43,
   "metadata": {},
   "outputs": [
    {
     "data": {
      "text/plain": [
       "0.6037621359223301"
      ]
     },
     "execution_count": 43,
     "metadata": {},
     "output_type": "execute_result"
    }
   ],
   "source": [
    "clf_3.score(X_test, y_test)"
   ]
  },
  {
   "cell_type": "code",
   "execution_count": 44,
   "metadata": {},
   "outputs": [
    {
     "data": {
      "text/plain": [
       "0.6398444510918336"
      ]
     },
     "execution_count": 44,
     "metadata": {},
     "output_type": "execute_result"
    }
   ],
   "source": [
    "clf_3.score(X_train, y_train)"
   ]
  },
  {
   "cell_type": "code",
   "execution_count": 45,
   "metadata": {},
   "outputs": [
    {
     "data": {
      "text/plain": [
       "array([[969,  22],\n",
       "       [636,  21]])"
      ]
     },
     "execution_count": 45,
     "metadata": {},
     "output_type": "execute_result"
    },
    {
     "data": {
      "image/png": "[encoded data removed]",
      "text/plain": [
       "<matplotlib.figure.Figure at 0x7f60ed6db128>"
      ]
     },
     "metadata": {},
     "output_type": "display_data"
    }
   ],
   "source": [
    "clf_4 = rfc(max_depth=4)\n",
    "clf_4.fit(X_train, y_train)\n",
    "y_pred = clf_4.predict(X_test)\n",
    "imshow(confusion_matrix(y_test, y_pred), cmap='bone')\n",
    "confusion_matrix(y_test, y_pred)"
   ]
  },
  {
   "cell_type": "code",
   "execution_count": 46,
   "metadata": {},
   "outputs": [
    {
     "data": {
      "text/plain": [
       "(0.6007281553398058, 0.6425366437331738)"
      ]
     },
     "execution_count": 46,
     "metadata": {},
     "output_type": "execute_result"
    }
   ],
   "source": [
    "clf_4.score(X_test, y_test), clf_4.score(X_train, y_train)"
   ]
  },
  {
   "cell_type": "code",
   "execution_count": 47,
   "metadata": {},
   "outputs": [],
   "source": [
    "# Train test interpretations\n",
    "# https://datascience.stackexchange.com/questions/28426/train-accuracy-vs-test-accuracy-vs-confusion-matrix"
   ]
  },
  {
   "cell_type": "markdown",
   "metadata": {},
   "source": [
    "### Graph export"
   ]
  },
  {
   "cell_type": "code",
   "execution_count": 51,
   "metadata": {},
   "outputs": [],
   "source": [
    "# Tree from random forest\n",
    "from sklearn.tree import export_graphviz\n",
    "export_graphviz(estimator5, out_file='tree_rf_5.dot', \n",
    "                rounded = True, proportion = False, filled = True)\n",
    "export_graphviz(estimator1, out_file='tree_rf_1.dot', \n",
    "                rounded = True, proportion = False, filled = True)"
   ]
  },
  {
   "cell_type": "code",
   "execution_count": 50,
   "metadata": {},
   "outputs": [],
   "source": [
    "# Tree from Decision Tree\n",
    "from sklearn.tree import export_graphviz\n",
    "from sklearn.datasets import load_iris\n",
    "tree.export_graphviz(tree_reg, out_file='tree_b.dot')   \n",
    "tree.export_graphviz(tree_reg1, out_file='tree_1b.dot')  "
   ]
  },
  {
   "cell_type": "code",
   "execution_count": 16,
   "metadata": {},
   "outputs": [],
   "source": [
    "# https://gist.github.com/milesgrimshaw/5b1cee4e2b6acb1c215f\n",
    "# http://milesgrimshaw.com/nyc-restaurant-database/"
   ]
  },
  {
   "cell_type": "code",
   "execution_count": 1,
   "metadata": {},
   "outputs": [],
   "source": [
    "# Tree Visualization\n",
    "# https://scikit-learn.org/stable/modules/generated/sklearn.tree.export_graphviz.html\n",
    "# https://towardsdatascience.com/how-to-visualize-a-decision-tree-from-a-random-forest-in-python-using-scikit-learn-38ad2d75f21c"
   ]
  },
  {
   "cell_type": "code",
   "execution_count": null,
   "metadata": {},
   "outputs": [],
   "source": [
    "# https://stackoverflow.com/questions/27975069/how-to-filter-rows-containing-a-string-pattern-from-a-pandas-dataframe"
   ]
  },
  {
   "cell_type": "code",
   "execution_count": null,
   "metadata": {},
   "outputs": [],
   "source": []
  }
 ],
 "metadata": {
  "kernelspec": {
   "display_name": "PUI2016_Python3",
   "language": "python",
   "name": "pui2016_python3"
  },
  "language_info": {
   "codemirror_mode": {
    "name": "ipython",
    "version": 3
   },
   "file_extension": ".py",
   "mimetype": "text/x-python",
   "name": "python",
   "nbconvert_exporter": "python",
   "pygments_lexer": "ipython3",
   "version": "3.5.4"
  }
 },
 "nbformat": 4,
 "nbformat_minor": 2
}
