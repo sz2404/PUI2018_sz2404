{
 "cells": [
  {
   "cell_type": "code",
   "execution_count": 155,
   "metadata": {},
   "outputs": [
    {
     "name": "stdout",
     "output_type": "stream",
     "text": [
      "Populating the interactive namespace from numpy and matplotlib\n"
     ]
    },
    {
     "name": "stderr",
     "output_type": "stream",
     "text": [
      "/usr/local/Anaconda3-5.0.0-Linux-x86_64/envs/PUI2016_Python3/lib/python3.5/site-packages/IPython/core/magics/pylab.py:161: UserWarning: pylab import has clobbered these variables: ['shuffle']\n",
      "`%matplotlib` prevents importing * from pylab and numpy\n",
      "  \"\\n`%matplotlib` prevents importing * from pylab and numpy\"\n"
     ]
    }
   ],
   "source": [
    "import pandas as pd\n",
    "import geopandas as gpd\n",
    "import numpy as np\n",
    "import os\n",
    "import sys\n",
    "import urllib\n",
    "from urllib import request\n",
    "import zipfile\n",
    "import pylab as pl\n",
    "from sklearn import tree\n",
    "from sklearn import ensemble\n",
    "from sklearn.cross_validation import train_test_split\n",
    "from sklearn.ensemble  import RandomForestClassifier as rfc\n",
    "from sklearn.metrics import confusion_matrix\n",
    "from sklearn.utils import shuffle\n",
    "from sklearn.tree import export_graphviz\n",
    "%pylab inline"
   ]
  },
  {
   "cell_type": "code",
   "execution_count": 2,
   "metadata": {},
   "outputs": [],
   "source": [
    "# Reading in inspection results\n",
    "url = 'https://data.cityofnewyork.us/api/views/43nn-pn8j/rows.csv?accessType=DOWNLOAD'\n",
    "df_insp = pd.read_csv(url)\n",
    "# Reading in 311 results \n",
    "# Uploaded onto Github; the data contains only food poison complainsa as of December 12th, 2018\n",
    "url_311 = 'https://github.com/sz2404/PUI2018_sz2404/blob/master/Extra_Credit_Project/311_Service_Requests_from_2010_to_Present.csv?raw=true'\n",
    "df_311 = pd.read_csv(url_311)"
   ]
  },
  {
   "cell_type": "code",
   "execution_count": 3,
   "metadata": {},
   "outputs": [],
   "source": [
    "# Downlouding PLUTO Data\n",
    "url_pluto='https://www1.nyc.gov/assets/planning/download/zip/data-maps/open-data/nyc_pluto_18v1.zip'\n",
    "urllib.request.urlretrieve(url_pluto, os.getenv('PUIDATA') + '/nyc_pluto_18v1.zip')\n",
    "zip_obj = zipfile.ZipFile(os.getenv('PUIDATA') + '/nyc_pluto_18v1.zip', 'r')\n",
    "zip_obj.extractall(os.getenv('PUIDATA') + '/Pluto_all')"
   ]
  },
  {
   "cell_type": "code",
   "execution_count": 4,
   "metadata": {},
   "outputs": [
    {
     "name": "stderr",
     "output_type": "stream",
     "text": [
      "/usr/local/Anaconda3-5.0.0-Linux-x86_64/envs/PUI2016_Python3/lib/python3.5/site-packages/IPython/core/interactiveshell.py:2717: DtypeWarning: Columns (20,23,24,26,64) have mixed types. Specify dtype option on import or set low_memory=False.\n",
      "  interactivity=interactivity, compiler=compiler, result=result)\n",
      "/usr/local/Anaconda3-5.0.0-Linux-x86_64/envs/PUI2016_Python3/lib/python3.5/site-packages/IPython/core/interactiveshell.py:2717: DtypeWarning: Columns (19,20,22,23,24,25,26,64,65,80) have mixed types. Specify dtype option on import or set low_memory=False.\n",
      "  interactivity=interactivity, compiler=compiler, result=result)\n",
      "/usr/local/Anaconda3-5.0.0-Linux-x86_64/envs/PUI2016_Python3/lib/python3.5/site-packages/IPython/core/interactiveshell.py:2717: DtypeWarning: Columns (19,20,22,23,64,65,80) have mixed types. Specify dtype option on import or set low_memory=False.\n",
      "  interactivity=interactivity, compiler=compiler, result=result)\n",
      "/usr/local/Anaconda3-5.0.0-Linux-x86_64/envs/PUI2016_Python3/lib/python3.5/site-packages/IPython/core/interactiveshell.py:2717: DtypeWarning: Columns (19,20,22,23,64,65,77) have mixed types. Specify dtype option on import or set low_memory=False.\n",
      "  interactivity=interactivity, compiler=compiler, result=result)\n",
      "/usr/local/Anaconda3-5.0.0-Linux-x86_64/envs/PUI2016_Python3/lib/python3.5/site-packages/IPython/core/interactiveshell.py:2717: DtypeWarning: Columns (19,20,22,23,24,64,65,80) have mixed types. Specify dtype option on import or set low_memory=False.\n",
      "  interactivity=interactivity, compiler=compiler, result=result)\n"
     ]
    }
   ],
   "source": [
    "# Reading in all 5 boroughs and combine them together\n",
    "MN = pd.read_csv(os.getenv('PUIDATA') + '/Pluto_all' + '/PLUTO_for_WEB' + '/MN_18v1.csv')\n",
    "BK = pd.read_csv(os.getenv('PUIDATA') + '/Pluto_all' + '/PLUTO_for_WEB' + '/BK_18v1.csv')\n",
    "BX = pd.read_csv(os.getenv('PUIDATA') + '/Pluto_all' + '/PLUTO_for_WEB' + '/BX_18v1.csv')\n",
    "QN = pd.read_csv(os.getenv('PUIDATA') + '/Pluto_all' + '/PLUTO_for_WEB' + '/QN_18v1.csv')\n",
    "SI = pd.read_csv(os.getenv('PUIDATA') + '/Pluto_all' + '/PLUTO_for_WEB' + '/SI_18v1.csv')"
   ]
  },
  {
   "cell_type": "code",
   "execution_count": 5,
   "metadata": {},
   "outputs": [],
   "source": [
    "# Combining the data of 5 boroughs into one. \n",
    "pluto = pd.concat([MN, BK, BX, QN, SI], ignore_index=True).reset_index()"
   ]
  },
  {
   "cell_type": "code",
   "execution_count": 6,
   "metadata": {},
   "outputs": [
    {
     "data": {
      "text/plain": [
       "5"
      ]
     },
     "execution_count": 6,
     "metadata": {},
     "output_type": "execute_result"
    }
   ],
   "source": [
    "pluto.Borough.nunique()"
   ]
  },
  {
   "cell_type": "code",
   "execution_count": 7,
   "metadata": {},
   "outputs": [
    {
     "data": {
      "text/plain": [
       "Index(['index', 'APPBBL', 'APPDate', 'Address', 'AreaSource', 'AssessLand',\n",
       "       'AssessTot', 'BBL', 'BldgArea', 'BldgClass', 'BldgDepth', 'BldgFront',\n",
       "       'Block', 'BoroCode', 'Borough', 'BsmtCode', 'BuiltFAR', 'CB2010', 'CD',\n",
       "       'CT2010', 'ComArea', 'CommFAR', 'CondoNo', 'Council', 'EDesigNum',\n",
       "       'Easements', 'ExemptLand', 'ExemptTot', 'Ext', 'FIRM07_FLAG',\n",
       "       'FIRM07_Flag', 'FacilFAR', 'FactryArea', 'FireComp', 'GarageArea',\n",
       "       'HealthArea', 'HealthCenterDistrict', 'HistDist', 'IrrLotCode',\n",
       "       'LandUse', 'Landmark', 'Lot', 'LotArea', 'LotDepth', 'LotFront',\n",
       "       'LotType', 'LtdHeight', 'NumBldgs', 'NumFloors', 'OfficeArea',\n",
       "       'OtherArea', 'Overlay1', 'Overlay2', 'OwnerName', 'OwnerType',\n",
       "       'PFIRM15_FLAG', 'PFIRM15_Flag', 'PLUTOMapID', 'PolicePrct', 'ProxCode',\n",
       "       'ResArea', 'ResidFAR', 'RetailArea', 'SPDist1', 'SPDist2', 'SPDist3',\n",
       "       'Sanborn', 'SanitBoro', 'SanitDistrict', 'SanitSub', 'SchoolDist',\n",
       "       'SplitZone', 'StrgeArea', 'TaxMap', 'Tract2010', 'UnitsRes',\n",
       "       'UnitsTotal', 'Version', 'XCoord', 'YCoord', 'YearAlter1', 'YearAlter2',\n",
       "       'YearBuilt', 'ZMCode', 'ZipCode', 'ZoneDist1', 'ZoneDist2', 'ZoneDist3',\n",
       "       'ZoneDist4', 'ZoneMap'],\n",
       "      dtype='object')"
      ]
     },
     "execution_count": 7,
     "metadata": {},
     "output_type": "execute_result"
    }
   ],
   "source": [
    "# Cleaning pluto df\n",
    "pluto.columns"
   ]
  },
  {
   "cell_type": "code",
   "execution_count": 8,
   "metadata": {},
   "outputs": [],
   "source": [
    "pluto = pluto.drop(['index', 'APPBBL', 'APPDate', 'AreaSource', 'AssessLand',\n",
    "       'AssessTot', 'BldgArea', 'BldgClass', 'BldgDepth', 'BldgFront',\n",
    "       'Block', 'BoroCode',  'BsmtCode', 'BuiltFAR', 'CB2010', 'CD',\n",
    "       'CT2010', 'ComArea', 'CommFAR', 'CondoNo', 'Council', 'EDesigNum',\n",
    "       'Easements', 'ExemptLand', 'ExemptTot', 'Ext', 'FIRM07_FLAG',\n",
    "       'FIRM07_Flag', 'FacilFAR', 'FactryArea', 'FireComp', 'GarageArea',\n",
    "       'HealthArea', 'HealthCenterDistrict', 'HistDist', 'IrrLotCode',\n",
    "       'LandUse', 'Landmark', 'Lot', 'LotArea', 'LotDepth', 'LotFront',\n",
    "       'LotType', 'LtdHeight', 'NumBldgs', 'NumFloors', 'OfficeArea',\n",
    "       'OtherArea', 'Overlay1', 'Overlay2', 'OwnerName', 'OwnerType',\n",
    "       'PFIRM15_FLAG', 'PFIRM15_Flag', 'PLUTOMapID', 'PolicePrct', 'ProxCode',\n",
    "       'ResArea', 'ResidFAR', 'RetailArea', 'SPDist1', 'SPDist2', 'SPDist3',\n",
    "       'Sanborn', 'SanitBoro', 'SanitDistrict', 'SanitSub', 'SchoolDist',\n",
    "       'SplitZone', 'StrgeArea', 'TaxMap', 'Tract2010', 'UnitsRes',\n",
    "       'UnitsTotal', 'Version', 'XCoord', 'YCoord', 'YearAlter1', 'YearAlter2',\n",
    "       'YearBuilt', 'ZMCode',  'ZoneDist1', 'ZoneDist2', 'ZoneDist3',\n",
    "       'ZoneDist4', 'ZoneMap'], axis=1)"
   ]
  },
  {
   "cell_type": "markdown",
   "metadata": {},
   "source": [
    "## Cleaning Inspection sheet"
   ]
  },
  {
   "cell_type": "code",
   "execution_count": 9,
   "metadata": {},
   "outputs": [
    {
     "data": {
      "text/html": [
       "<div>\n",
       "<table border=\"1\" class=\"dataframe\">\n",
       "  <thead>\n",
       "    <tr style=\"text-align: right;\">\n",
       "      <th></th>\n",
       "      <th>CAMIS</th>\n",
       "      <th>DBA</th>\n",
       "      <th>BORO</th>\n",
       "      <th>BUILDING</th>\n",
       "      <th>STREET</th>\n",
       "      <th>ZIPCODE</th>\n",
       "      <th>PHONE</th>\n",
       "      <th>CUISINE DESCRIPTION</th>\n",
       "      <th>INSPECTION DATE</th>\n",
       "      <th>ACTION</th>\n",
       "      <th>VIOLATION CODE</th>\n",
       "      <th>VIOLATION DESCRIPTION</th>\n",
       "      <th>CRITICAL FLAG</th>\n",
       "      <th>SCORE</th>\n",
       "      <th>GRADE</th>\n",
       "      <th>GRADE DATE</th>\n",
       "      <th>RECORD DATE</th>\n",
       "      <th>INSPECTION TYPE</th>\n",
       "    </tr>\n",
       "  </thead>\n",
       "  <tbody>\n",
       "    <tr>\n",
       "      <th>0</th>\n",
       "      <td>41222832</td>\n",
       "      <td>BROADWAY COMEDY CLUB</td>\n",
       "      <td>MANHATTAN</td>\n",
       "      <td>318</td>\n",
       "      <td>WEST 53 STREET</td>\n",
       "      <td>10019.0</td>\n",
       "      <td>2127572323</td>\n",
       "      <td>American</td>\n",
       "      <td>11/28/2018</td>\n",
       "      <td>Violations were cited in the following area(s).</td>\n",
       "      <td>08A</td>\n",
       "      <td>Facility not vermin proof. Harborage or condit...</td>\n",
       "      <td>Not Critical</td>\n",
       "      <td>18.0</td>\n",
       "      <td>Z</td>\n",
       "      <td>11/28/2018</td>\n",
       "      <td>12/14/2018</td>\n",
       "      <td>Cycle Inspection / Re-inspection</td>\n",
       "    </tr>\n",
       "    <tr>\n",
       "      <th>1</th>\n",
       "      <td>50079921</td>\n",
       "      <td>XI'AN FAMOUS FOODS</td>\n",
       "      <td>MANHATTAN</td>\n",
       "      <td>313</td>\n",
       "      <td>6TH AVE</td>\n",
       "      <td>10014.0</td>\n",
       "      <td>2127862068</td>\n",
       "      <td>Chinese</td>\n",
       "      <td>09/10/2018</td>\n",
       "      <td>Violations were cited in the following area(s).</td>\n",
       "      <td>10F</td>\n",
       "      <td>Non-food contact surface improperly constructe...</td>\n",
       "      <td>Not Critical</td>\n",
       "      <td>12.0</td>\n",
       "      <td>A</td>\n",
       "      <td>09/10/2018</td>\n",
       "      <td>12/14/2018</td>\n",
       "      <td>Pre-permit (Operational) / Initial Inspection</td>\n",
       "    </tr>\n",
       "  </tbody>\n",
       "</table>\n",
       "</div>"
      ],
      "text/plain": [
       "      CAMIS                   DBA       BORO BUILDING          STREET  \\\n",
       "0  41222832  BROADWAY COMEDY CLUB  MANHATTAN      318  WEST 53 STREET   \n",
       "1  50079921    XI'AN FAMOUS FOODS  MANHATTAN      313         6TH AVE   \n",
       "\n",
       "   ZIPCODE       PHONE CUISINE DESCRIPTION INSPECTION DATE  \\\n",
       "0  10019.0  2127572323            American      11/28/2018   \n",
       "1  10014.0  2127862068             Chinese      09/10/2018   \n",
       "\n",
       "                                            ACTION VIOLATION CODE  \\\n",
       "0  Violations were cited in the following area(s).            08A   \n",
       "1  Violations were cited in the following area(s).            10F   \n",
       "\n",
       "                               VIOLATION DESCRIPTION CRITICAL FLAG  SCORE  \\\n",
       "0  Facility not vermin proof. Harborage or condit...  Not Critical   18.0   \n",
       "1  Non-food contact surface improperly constructe...  Not Critical   12.0   \n",
       "\n",
       "  GRADE  GRADE DATE RECORD DATE                                INSPECTION TYPE  \n",
       "0     Z  11/28/2018  12/14/2018               Cycle Inspection / Re-inspection  \n",
       "1     A  09/10/2018  12/14/2018  Pre-permit (Operational) / Initial Inspection  "
      ]
     },
     "execution_count": 9,
     "metadata": {},
     "output_type": "execute_result"
    }
   ],
   "source": [
    "df_insp.head(2)"
   ]
  },
  {
   "cell_type": "code",
   "execution_count": 10,
   "metadata": {},
   "outputs": [
    {
     "data": {
      "text/plain": [
       "array(['08A', '10F', nan, '06C', '06D', '05F', '02G', '10A', '04N', '10B',\n",
       "       '06F', '04H', '04L', '20F', '06A', '04C', '08C', '15L', '10C',\n",
       "       '04M', '22C', '02B', '05H', '04K', '09C', '02C', '10H', '16A',\n",
       "       '02H', '06E', '04A', '09B', '10G', '05D', '10I', '06B', '04J',\n",
       "       '16B', '09A', '22A', '10E', '15I', '10J', '16E', '15S', '02I',\n",
       "       '08B', '10D', '16D', '15F', '22G', '16C', '05C', '02A', '20D',\n",
       "       '03B', '04F', '04D', '22F', '04E', '20A', '05E', '18D', '22B',\n",
       "       '03C', '20E', '04O', '03E', '18C', '03A', '18F', '15K', '02D',\n",
       "       '07A', '05B', '15E', '06G', '22E', '15A', '15T', '05A', '18G',\n",
       "       '15J', '02F', '03D', '03G', '18B', '02J', '06H', '19A', '06I',\n",
       "       '04B', '02E', '17A', '16F', '15G', '20B', '03F', '04G', '04I'],\n",
       "      dtype=object)"
      ]
     },
     "execution_count": 10,
     "metadata": {},
     "output_type": "execute_result"
    }
   ],
   "source": [
    "df_insp['VIOLATION CODE'].unique()"
   ]
  },
  {
   "cell_type": "code",
   "execution_count": 11,
   "metadata": {},
   "outputs": [
    {
     "data": {
      "text/plain": [
       "Index(['CAMIS', 'DBA', 'BORO', 'BUILDING', 'STREET', 'ZIPCODE', 'PHONE',\n",
       "       'CUISINE DESCRIPTION', 'INSPECTION DATE', 'ACTION', 'VIOLATION CODE',\n",
       "       'VIOLATION DESCRIPTION', 'CRITICAL FLAG', 'SCORE', 'GRADE',\n",
       "       'GRADE DATE', 'RECORD DATE', 'INSPECTION TYPE'],\n",
       "      dtype='object')"
      ]
     },
     "execution_count": 11,
     "metadata": {},
     "output_type": "execute_result"
    }
   ],
   "source": [
    "df_insp.columns"
   ]
  },
  {
   "cell_type": "code",
   "execution_count": 12,
   "metadata": {},
   "outputs": [],
   "source": [
    "df_insp = df_insp.drop(['CUISINE DESCRIPTION', 'ACTION', 'GRADE',\n",
    "       'GRADE DATE', 'RECORD DATE'], axis=1)"
   ]
  },
  {
   "cell_type": "code",
   "execution_count": 13,
   "metadata": {},
   "outputs": [
    {
     "data": {
      "text/html": [
       "<div>\n",
       "<table border=\"1\" class=\"dataframe\">\n",
       "  <thead>\n",
       "    <tr style=\"text-align: right;\">\n",
       "      <th></th>\n",
       "      <th>CAMIS</th>\n",
       "      <th>DBA</th>\n",
       "      <th>BORO</th>\n",
       "      <th>BUILDING</th>\n",
       "      <th>STREET</th>\n",
       "      <th>ZIPCODE</th>\n",
       "      <th>PHONE</th>\n",
       "      <th>INSPECTION DATE</th>\n",
       "      <th>VIOLATION CODE</th>\n",
       "      <th>VIOLATION DESCRIPTION</th>\n",
       "      <th>CRITICAL FLAG</th>\n",
       "      <th>SCORE</th>\n",
       "      <th>INSPECTION TYPE</th>\n",
       "    </tr>\n",
       "  </thead>\n",
       "  <tbody>\n",
       "    <tr>\n",
       "      <th>0</th>\n",
       "      <td>41222832</td>\n",
       "      <td>BROADWAY COMEDY CLUB</td>\n",
       "      <td>MANHATTAN</td>\n",
       "      <td>318</td>\n",
       "      <td>WEST 53 STREET</td>\n",
       "      <td>10019.0</td>\n",
       "      <td>2127572323</td>\n",
       "      <td>11/28/2018</td>\n",
       "      <td>08A</td>\n",
       "      <td>Facility not vermin proof. Harborage or condit...</td>\n",
       "      <td>Not Critical</td>\n",
       "      <td>18.0</td>\n",
       "      <td>Cycle Inspection / Re-inspection</td>\n",
       "    </tr>\n",
       "    <tr>\n",
       "      <th>1</th>\n",
       "      <td>50079921</td>\n",
       "      <td>XI'AN FAMOUS FOODS</td>\n",
       "      <td>MANHATTAN</td>\n",
       "      <td>313</td>\n",
       "      <td>6TH AVE</td>\n",
       "      <td>10014.0</td>\n",
       "      <td>2127862068</td>\n",
       "      <td>09/10/2018</td>\n",
       "      <td>10F</td>\n",
       "      <td>Non-food contact surface improperly constructe...</td>\n",
       "      <td>Not Critical</td>\n",
       "      <td>12.0</td>\n",
       "      <td>Pre-permit (Operational) / Initial Inspection</td>\n",
       "    </tr>\n",
       "  </tbody>\n",
       "</table>\n",
       "</div>"
      ],
      "text/plain": [
       "      CAMIS                   DBA       BORO BUILDING          STREET  \\\n",
       "0  41222832  BROADWAY COMEDY CLUB  MANHATTAN      318  WEST 53 STREET   \n",
       "1  50079921    XI'AN FAMOUS FOODS  MANHATTAN      313         6TH AVE   \n",
       "\n",
       "   ZIPCODE       PHONE INSPECTION DATE VIOLATION CODE  \\\n",
       "0  10019.0  2127572323      11/28/2018            08A   \n",
       "1  10014.0  2127862068      09/10/2018            10F   \n",
       "\n",
       "                               VIOLATION DESCRIPTION CRITICAL FLAG  SCORE  \\\n",
       "0  Facility not vermin proof. Harborage or condit...  Not Critical   18.0   \n",
       "1  Non-food contact surface improperly constructe...  Not Critical   12.0   \n",
       "\n",
       "                                 INSPECTION TYPE  \n",
       "0               Cycle Inspection / Re-inspection  \n",
       "1  Pre-permit (Operational) / Initial Inspection  "
      ]
     },
     "execution_count": 13,
     "metadata": {},
     "output_type": "execute_result"
    }
   ],
   "source": [
    "df_insp.head(2)"
   ]
  },
  {
   "cell_type": "code",
   "execution_count": 14,
   "metadata": {},
   "outputs": [],
   "source": [
    "# Converting the address to number + street name format\n",
    "df_insp['ADDRESS'] = df_insp['BUILDING'] + \" \" + df_insp['STREET']"
   ]
  },
  {
   "cell_type": "code",
   "execution_count": 15,
   "metadata": {},
   "outputs": [
    {
     "data": {
      "text/html": [
       "<div>\n",
       "<table border=\"1\" class=\"dataframe\">\n",
       "  <thead>\n",
       "    <tr style=\"text-align: right;\">\n",
       "      <th></th>\n",
       "      <th>CAMIS</th>\n",
       "      <th>DBA</th>\n",
       "      <th>BORO</th>\n",
       "      <th>BUILDING</th>\n",
       "      <th>STREET</th>\n",
       "      <th>ZIPCODE</th>\n",
       "      <th>PHONE</th>\n",
       "      <th>INSPECTION DATE</th>\n",
       "      <th>VIOLATION CODE</th>\n",
       "      <th>VIOLATION DESCRIPTION</th>\n",
       "      <th>CRITICAL FLAG</th>\n",
       "      <th>SCORE</th>\n",
       "      <th>INSPECTION TYPE</th>\n",
       "      <th>ADDRESS</th>\n",
       "    </tr>\n",
       "  </thead>\n",
       "  <tbody>\n",
       "    <tr>\n",
       "      <th>0</th>\n",
       "      <td>41222832</td>\n",
       "      <td>BROADWAY COMEDY CLUB</td>\n",
       "      <td>MANHATTAN</td>\n",
       "      <td>318</td>\n",
       "      <td>WEST 53 STREET</td>\n",
       "      <td>10019.0</td>\n",
       "      <td>2127572323</td>\n",
       "      <td>11/28/2018</td>\n",
       "      <td>08A</td>\n",
       "      <td>Facility not vermin proof. Harborage or condit...</td>\n",
       "      <td>Not Critical</td>\n",
       "      <td>18.0</td>\n",
       "      <td>Cycle Inspection / Re-inspection</td>\n",
       "      <td>318 WEST 53 STREET</td>\n",
       "    </tr>\n",
       "    <tr>\n",
       "      <th>1</th>\n",
       "      <td>50079921</td>\n",
       "      <td>XI'AN FAMOUS FOODS</td>\n",
       "      <td>MANHATTAN</td>\n",
       "      <td>313</td>\n",
       "      <td>6TH AVE</td>\n",
       "      <td>10014.0</td>\n",
       "      <td>2127862068</td>\n",
       "      <td>09/10/2018</td>\n",
       "      <td>10F</td>\n",
       "      <td>Non-food contact surface improperly constructe...</td>\n",
       "      <td>Not Critical</td>\n",
       "      <td>12.0</td>\n",
       "      <td>Pre-permit (Operational) / Initial Inspection</td>\n",
       "      <td>313 6TH AVE</td>\n",
       "    </tr>\n",
       "    <tr>\n",
       "      <th>2</th>\n",
       "      <td>41024190</td>\n",
       "      <td>CROCODILE LOUNGE</td>\n",
       "      <td>MANHATTAN</td>\n",
       "      <td>325</td>\n",
       "      <td>EAST   14 STREET</td>\n",
       "      <td>10003.0</td>\n",
       "      <td>2124777747</td>\n",
       "      <td>09/15/2016</td>\n",
       "      <td>NaN</td>\n",
       "      <td>NaN</td>\n",
       "      <td>Not Applicable</td>\n",
       "      <td>NaN</td>\n",
       "      <td>Administrative Miscellaneous / Initial Inspection</td>\n",
       "      <td>325 EAST   14 STREET</td>\n",
       "    </tr>\n",
       "  </tbody>\n",
       "</table>\n",
       "</div>"
      ],
      "text/plain": [
       "      CAMIS                   DBA       BORO BUILDING            STREET  \\\n",
       "0  41222832  BROADWAY COMEDY CLUB  MANHATTAN      318    WEST 53 STREET   \n",
       "1  50079921    XI'AN FAMOUS FOODS  MANHATTAN      313           6TH AVE   \n",
       "2  41024190      CROCODILE LOUNGE  MANHATTAN      325  EAST   14 STREET   \n",
       "\n",
       "   ZIPCODE       PHONE INSPECTION DATE VIOLATION CODE  \\\n",
       "0  10019.0  2127572323      11/28/2018            08A   \n",
       "1  10014.0  2127862068      09/10/2018            10F   \n",
       "2  10003.0  2124777747      09/15/2016            NaN   \n",
       "\n",
       "                               VIOLATION DESCRIPTION   CRITICAL FLAG  SCORE  \\\n",
       "0  Facility not vermin proof. Harborage or condit...    Not Critical   18.0   \n",
       "1  Non-food contact surface improperly constructe...    Not Critical   12.0   \n",
       "2                                                NaN  Not Applicable    NaN   \n",
       "\n",
       "                                     INSPECTION TYPE               ADDRESS  \n",
       "0                   Cycle Inspection / Re-inspection    318 WEST 53 STREET  \n",
       "1      Pre-permit (Operational) / Initial Inspection           313 6TH AVE  \n",
       "2  Administrative Miscellaneous / Initial Inspection  325 EAST   14 STREET  "
      ]
     },
     "execution_count": 15,
     "metadata": {},
     "output_type": "execute_result"
    }
   ],
   "source": [
    "df_insp.head(3)"
   ]
  },
  {
   "cell_type": "code",
   "execution_count": 16,
   "metadata": {},
   "outputs": [],
   "source": [
    "# Seperating violation results\n",
    "df_insp['Food_Protect'] = df_insp['VIOLATION CODE'].str.contains('02|04')\n",
    "df_insp['Food_Source'] = df_insp['VIOLATION CODE'].str.contains('03')\n",
    "df_insp['Food_Prep'] = df_insp['VIOLATION CODE'].str.contains('06')\n",
    "df_insp['Facility_DM'] = df_insp['VIOLATION CODE'].str.contains('05|10')\n",
    "df_insp['Vermin_Waste'] = df_insp['VIOLATION CODE'].str.contains('08')"
   ]
  },
  {
   "cell_type": "code",
   "execution_count": 17,
   "metadata": {},
   "outputs": [
    {
     "data": {
      "text/html": [
       "<div>\n",
       "<table border=\"1\" class=\"dataframe\">\n",
       "  <thead>\n",
       "    <tr style=\"text-align: right;\">\n",
       "      <th></th>\n",
       "      <th>CAMIS</th>\n",
       "      <th>DBA</th>\n",
       "      <th>BORO</th>\n",
       "      <th>BUILDING</th>\n",
       "      <th>STREET</th>\n",
       "      <th>ZIPCODE</th>\n",
       "      <th>PHONE</th>\n",
       "      <th>INSPECTION DATE</th>\n",
       "      <th>VIOLATION CODE</th>\n",
       "      <th>VIOLATION DESCRIPTION</th>\n",
       "      <th>CRITICAL FLAG</th>\n",
       "      <th>SCORE</th>\n",
       "      <th>INSPECTION TYPE</th>\n",
       "      <th>ADDRESS</th>\n",
       "      <th>Food_Protect</th>\n",
       "      <th>Food_Source</th>\n",
       "      <th>Food_Prep</th>\n",
       "      <th>Facility_DM</th>\n",
       "      <th>Vermin_Waste</th>\n",
       "    </tr>\n",
       "  </thead>\n",
       "  <tbody>\n",
       "    <tr>\n",
       "      <th>0</th>\n",
       "      <td>41222832</td>\n",
       "      <td>BROADWAY COMEDY CLUB</td>\n",
       "      <td>MANHATTAN</td>\n",
       "      <td>318</td>\n",
       "      <td>WEST 53 STREET</td>\n",
       "      <td>10019.0</td>\n",
       "      <td>2127572323</td>\n",
       "      <td>11/28/2018</td>\n",
       "      <td>08A</td>\n",
       "      <td>Facility not vermin proof. Harborage or condit...</td>\n",
       "      <td>Not Critical</td>\n",
       "      <td>18.0</td>\n",
       "      <td>Cycle Inspection / Re-inspection</td>\n",
       "      <td>318 WEST 53 STREET</td>\n",
       "      <td>False</td>\n",
       "      <td>False</td>\n",
       "      <td>False</td>\n",
       "      <td>False</td>\n",
       "      <td>True</td>\n",
       "    </tr>\n",
       "    <tr>\n",
       "      <th>1</th>\n",
       "      <td>50079921</td>\n",
       "      <td>XI'AN FAMOUS FOODS</td>\n",
       "      <td>MANHATTAN</td>\n",
       "      <td>313</td>\n",
       "      <td>6TH AVE</td>\n",
       "      <td>10014.0</td>\n",
       "      <td>2127862068</td>\n",
       "      <td>09/10/2018</td>\n",
       "      <td>10F</td>\n",
       "      <td>Non-food contact surface improperly constructe...</td>\n",
       "      <td>Not Critical</td>\n",
       "      <td>12.0</td>\n",
       "      <td>Pre-permit (Operational) / Initial Inspection</td>\n",
       "      <td>313 6TH AVE</td>\n",
       "      <td>False</td>\n",
       "      <td>False</td>\n",
       "      <td>False</td>\n",
       "      <td>True</td>\n",
       "      <td>False</td>\n",
       "    </tr>\n",
       "    <tr>\n",
       "      <th>2</th>\n",
       "      <td>41024190</td>\n",
       "      <td>CROCODILE LOUNGE</td>\n",
       "      <td>MANHATTAN</td>\n",
       "      <td>325</td>\n",
       "      <td>EAST   14 STREET</td>\n",
       "      <td>10003.0</td>\n",
       "      <td>2124777747</td>\n",
       "      <td>09/15/2016</td>\n",
       "      <td>NaN</td>\n",
       "      <td>NaN</td>\n",
       "      <td>Not Applicable</td>\n",
       "      <td>NaN</td>\n",
       "      <td>Administrative Miscellaneous / Initial Inspection</td>\n",
       "      <td>325 EAST   14 STREET</td>\n",
       "      <td>NaN</td>\n",
       "      <td>NaN</td>\n",
       "      <td>NaN</td>\n",
       "      <td>NaN</td>\n",
       "      <td>NaN</td>\n",
       "    </tr>\n",
       "  </tbody>\n",
       "</table>\n",
       "</div>"
      ],
      "text/plain": [
       "      CAMIS                   DBA       BORO BUILDING            STREET  \\\n",
       "0  41222832  BROADWAY COMEDY CLUB  MANHATTAN      318    WEST 53 STREET   \n",
       "1  50079921    XI'AN FAMOUS FOODS  MANHATTAN      313           6TH AVE   \n",
       "2  41024190      CROCODILE LOUNGE  MANHATTAN      325  EAST   14 STREET   \n",
       "\n",
       "   ZIPCODE       PHONE INSPECTION DATE VIOLATION CODE  \\\n",
       "0  10019.0  2127572323      11/28/2018            08A   \n",
       "1  10014.0  2127862068      09/10/2018            10F   \n",
       "2  10003.0  2124777747      09/15/2016            NaN   \n",
       "\n",
       "                               VIOLATION DESCRIPTION   CRITICAL FLAG  SCORE  \\\n",
       "0  Facility not vermin proof. Harborage or condit...    Not Critical   18.0   \n",
       "1  Non-food contact surface improperly constructe...    Not Critical   12.0   \n",
       "2                                                NaN  Not Applicable    NaN   \n",
       "\n",
       "                                     INSPECTION TYPE               ADDRESS  \\\n",
       "0                   Cycle Inspection / Re-inspection    318 WEST 53 STREET   \n",
       "1      Pre-permit (Operational) / Initial Inspection           313 6TH AVE   \n",
       "2  Administrative Miscellaneous / Initial Inspection  325 EAST   14 STREET   \n",
       "\n",
       "  Food_Protect Food_Source Food_Prep Facility_DM Vermin_Waste  \n",
       "0        False       False     False       False         True  \n",
       "1        False       False     False        True        False  \n",
       "2          NaN         NaN       NaN         NaN          NaN  "
      ]
     },
     "execution_count": 17,
     "metadata": {},
     "output_type": "execute_result"
    }
   ],
   "source": [
    "df_insp.head(3)"
   ]
  },
  {
   "cell_type": "code",
   "execution_count": 18,
   "metadata": {},
   "outputs": [],
   "source": [
    "df_insp_cl = df_insp.drop(['CAMIS', 'BUILDING','STREET'], axis=1)"
   ]
  },
  {
   "cell_type": "code",
   "execution_count": 19,
   "metadata": {},
   "outputs": [],
   "source": [
    "df_insp_add = df_insp_cl.sort_values(by=['ADDRESS'])"
   ]
  },
  {
   "cell_type": "code",
   "execution_count": 20,
   "metadata": {},
   "outputs": [
    {
     "data": {
      "text/html": [
       "<div>\n",
       "<table border=\"1\" class=\"dataframe\">\n",
       "  <thead>\n",
       "    <tr style=\"text-align: right;\">\n",
       "      <th></th>\n",
       "      <th>ADDRESS</th>\n",
       "      <th>Food_Protect</th>\n",
       "      <th>Food_Source</th>\n",
       "      <th>Food_Prep</th>\n",
       "      <th>Facility_DM</th>\n",
       "      <th>Vermin_Waste</th>\n",
       "    </tr>\n",
       "  </thead>\n",
       "  <tbody>\n",
       "    <tr>\n",
       "      <th>0</th>\n",
       "      <td>.1-A EAST 77 ST</td>\n",
       "      <td>5</td>\n",
       "      <td>0</td>\n",
       "      <td>1</td>\n",
       "      <td>0</td>\n",
       "      <td>3</td>\n",
       "    </tr>\n",
       "    <tr>\n",
       "      <th>1</th>\n",
       "      <td>0 &amp; GRAND CENTRAL</td>\n",
       "      <td>5</td>\n",
       "      <td>0</td>\n",
       "      <td>1</td>\n",
       "      <td>7</td>\n",
       "      <td>3</td>\n",
       "    </tr>\n",
       "    <tr>\n",
       "      <th>2</th>\n",
       "      <td>0 106 STREET &amp; 5 AVENUE</td>\n",
       "      <td>7</td>\n",
       "      <td>0</td>\n",
       "      <td>4</td>\n",
       "      <td>7</td>\n",
       "      <td>2</td>\n",
       "    </tr>\n",
       "  </tbody>\n",
       "</table>\n",
       "</div>"
      ],
      "text/plain": [
       "                   ADDRESS Food_Protect Food_Source Food_Prep Facility_DM  \\\n",
       "0          .1-A EAST 77 ST            5           0         1           0   \n",
       "1        0 & GRAND CENTRAL            5           0         1           7   \n",
       "2  0 106 STREET & 5 AVENUE            7           0         4           7   \n",
       "\n",
       "  Vermin_Waste  \n",
       "0            3  \n",
       "1            3  \n",
       "2            2  "
      ]
     },
     "execution_count": 20,
     "metadata": {},
     "output_type": "execute_result"
    }
   ],
   "source": [
    "# Combining the result for each restaurant, i.e. all violations in one row\n",
    "df_insp_com = df_insp_add.groupby('ADDRESS')[\"Food_Protect\", \"Food_Source\", \"Food_Prep\", \"Facility_DM\",\"Vermin_Waste\"].sum().reset_index()\n",
    "df_insp_com.head(3)"
   ]
  },
  {
   "cell_type": "code",
   "execution_count": 21,
   "metadata": {},
   "outputs": [
    {
     "data": {
      "text/plain": [
       "array([5, 7, 0, 1, 4, 8, 2, 3, 11, 10, 24, 14, 61, 22, 9, 25, 70, 44, nan,\n",
       "       38, 13, 12, 34, 17, 16, 6, 37, 33, 15, 20, 26, 18, 31, 30, 23, 21,\n",
       "       19, 28, 35, 68, 27, 110, 169, 29, 39, 41, 36, 91, 32, 42, 59, 47,\n",
       "       48, 123, 40, 43, 53, 46, 148], dtype=object)"
      ]
     },
     "execution_count": 21,
     "metadata": {},
     "output_type": "execute_result"
    }
   ],
   "source": [
    "df_insp_com.Food_Protect.unique()"
   ]
  },
  {
   "cell_type": "code",
   "execution_count": 32,
   "metadata": {},
   "outputs": [],
   "source": [
    "# Fill in 0 for Nan as it means no violation detected.\n",
    "df_insp_com.Food_Protect = df_insp_com.Food_Protect.fillna(0)\n",
    "df_insp_com.Food_Source = df_insp_com.Food_Source.fillna(0)\n",
    "df_insp_com.Food_Prep = df_insp_com.Food_Prep.fillna(0)\n",
    "df_insp_com.Facility_DM = df_insp_com.Facility_DM.fillna(0)\n",
    "df_insp_com.Vermin_Waste = df_insp_com.Vermin_Waste.fillna(0)"
   ]
  },
  {
   "cell_type": "markdown",
   "metadata": {},
   "source": [
    "## Merge Inspection result with PLUTO to obtain the BBL for each restaurant "
   ]
  },
  {
   "cell_type": "code",
   "execution_count": 34,
   "metadata": {},
   "outputs": [
    {
     "data": {
      "text/html": [
       "<div>\n",
       "<table border=\"1\" class=\"dataframe\">\n",
       "  <thead>\n",
       "    <tr style=\"text-align: right;\">\n",
       "      <th></th>\n",
       "      <th>ADDRESS</th>\n",
       "      <th>Food_Protect</th>\n",
       "      <th>Food_Source</th>\n",
       "      <th>Food_Prep</th>\n",
       "      <th>Facility_DM</th>\n",
       "      <th>Vermin_Waste</th>\n",
       "      <th>Address</th>\n",
       "      <th>BBL</th>\n",
       "      <th>Borough</th>\n",
       "      <th>ZipCode</th>\n",
       "    </tr>\n",
       "  </thead>\n",
       "  <tbody>\n",
       "    <tr>\n",
       "      <th>0</th>\n",
       "      <td>1 5 AVENUE</td>\n",
       "      <td>8</td>\n",
       "      <td>0</td>\n",
       "      <td>2</td>\n",
       "      <td>3</td>\n",
       "      <td>3</td>\n",
       "      <td>1 5 AVENUE</td>\n",
       "      <td>1005500022</td>\n",
       "      <td>MN</td>\n",
       "      <td>10003.0</td>\n",
       "    </tr>\n",
       "    <tr>\n",
       "      <th>1</th>\n",
       "      <td>1 BLEECKER STREET</td>\n",
       "      <td>3</td>\n",
       "      <td>0</td>\n",
       "      <td>5</td>\n",
       "      <td>5</td>\n",
       "      <td>2</td>\n",
       "      <td>1 BLEECKER STREET</td>\n",
       "      <td>1005297505</td>\n",
       "      <td>MN</td>\n",
       "      <td>10012.0</td>\n",
       "    </tr>\n",
       "    <tr>\n",
       "      <th>2</th>\n",
       "      <td>1 BOUCK COURT</td>\n",
       "      <td>1</td>\n",
       "      <td>0</td>\n",
       "      <td>1</td>\n",
       "      <td>3</td>\n",
       "      <td>0</td>\n",
       "      <td>1 BOUCK COURT</td>\n",
       "      <td>3071920065</td>\n",
       "      <td>BK</td>\n",
       "      <td>11223.0</td>\n",
       "    </tr>\n",
       "    <tr>\n",
       "      <th>3</th>\n",
       "      <td>1 CENTRAL PARK WEST</td>\n",
       "      <td>1</td>\n",
       "      <td>0</td>\n",
       "      <td>1</td>\n",
       "      <td>4</td>\n",
       "      <td>1</td>\n",
       "      <td>1 CENTRAL PARK WEST</td>\n",
       "      <td>1011137502</td>\n",
       "      <td>MN</td>\n",
       "      <td>10023.0</td>\n",
       "    </tr>\n",
       "    <tr>\n",
       "      <th>4</th>\n",
       "      <td>1 CORSON AVENUE</td>\n",
       "      <td>3</td>\n",
       "      <td>0</td>\n",
       "      <td>5</td>\n",
       "      <td>9</td>\n",
       "      <td>3</td>\n",
       "      <td>1 CORSON AVENUE</td>\n",
       "      <td>5000180065</td>\n",
       "      <td>SI</td>\n",
       "      <td>10301.0</td>\n",
       "    </tr>\n",
       "  </tbody>\n",
       "</table>\n",
       "</div>"
      ],
      "text/plain": [
       "               ADDRESS Food_Protect Food_Source Food_Prep Facility_DM  \\\n",
       "0           1 5 AVENUE            8           0         2           3   \n",
       "1    1 BLEECKER STREET            3           0         5           5   \n",
       "2        1 BOUCK COURT            1           0         1           3   \n",
       "3  1 CENTRAL PARK WEST            1           0         1           4   \n",
       "4      1 CORSON AVENUE            3           0         5           9   \n",
       "\n",
       "  Vermin_Waste              Address         BBL Borough  ZipCode  \n",
       "0            3           1 5 AVENUE  1005500022      MN  10003.0  \n",
       "1            2    1 BLEECKER STREET  1005297505      MN  10012.0  \n",
       "2            0        1 BOUCK COURT  3071920065      BK  11223.0  \n",
       "3            1  1 CENTRAL PARK WEST  1011137502      MN  10023.0  \n",
       "4            3      1 CORSON AVENUE  5000180065      SI  10301.0  "
      ]
     },
     "execution_count": 34,
     "metadata": {},
     "output_type": "execute_result"
    }
   ],
   "source": [
    "df_insp_bbl = pd.merge(df_insp_com, pluto, left_on='ADDRESS', right_on='Address')\n",
    "df_insp_bbl.head()"
   ]
  },
  {
   "cell_type": "code",
   "execution_count": 35,
   "metadata": {},
   "outputs": [
    {
     "data": {
      "text/plain": [
       "(4991, 10)"
      ]
     },
     "execution_count": 35,
     "metadata": {},
     "output_type": "execute_result"
    }
   ],
   "source": [
    "df_insp_bbl.shape"
   ]
  },
  {
   "cell_type": "markdown",
   "metadata": {},
   "source": [
    "## Cleaning 311 DATA"
   ]
  },
  {
   "cell_type": "code",
   "execution_count": 36,
   "metadata": {},
   "outputs": [
    {
     "data": {
      "text/plain": [
       "Index(['Unique Key', 'Created Date', 'Closed Date', 'Agency', 'Agency Name',\n",
       "       'Complaint Type', 'Descriptor', 'Location Type', 'Incident Zip',\n",
       "       'Incident Address', 'Street Name', 'Cross Street 1', 'Cross Street 2',\n",
       "       'Intersection Street 1', 'Intersection Street 2', 'Address Type',\n",
       "       'City', 'Landmark', 'Facility Type', 'Status', 'Due Date',\n",
       "       'Resolution Description', 'Resolution Action Updated Date',\n",
       "       'Community Board', 'BBL', 'Borough', 'X Coordinate (State Plane)',\n",
       "       'Y Coordinate (State Plane)', 'Open Data Channel Type',\n",
       "       'Park Facility Name', 'Park Borough', 'Vehicle Type',\n",
       "       'Taxi Company Borough', 'Taxi Pick Up Location', 'Bridge Highway Name',\n",
       "       'Bridge Highway Direction', 'Road Ramp', 'Bridge Highway Segment',\n",
       "       'Latitude', 'Longitude', 'Location'],\n",
       "      dtype='object')"
      ]
     },
     "execution_count": 36,
     "metadata": {},
     "output_type": "execute_result"
    }
   ],
   "source": [
    "df_311.columns"
   ]
  },
  {
   "cell_type": "code",
   "execution_count": 37,
   "metadata": {},
   "outputs": [],
   "source": [
    "df_311 = df_311.drop(['Unique Key', 'Created Date', 'Closed Date', 'Agency', 'Agency Name',\n",
    "        'Descriptor', 'Location Type', \n",
    "        'Street Name', 'Cross Street 1', 'Cross Street 2',\n",
    "       'Intersection Street 1', 'Intersection Street 2', 'Address Type',\n",
    "       'City', 'Landmark', 'Facility Type', 'Status', 'Due Date',\n",
    "       'Resolution Description', 'Resolution Action Updated Date',\n",
    "       'Community Board', 'X Coordinate (State Plane)',\n",
    "       'Y Coordinate (State Plane)', 'Open Data Channel Type',\n",
    "       'Park Facility Name', 'Park Borough', 'Vehicle Type',\n",
    "       'Taxi Company Borough', 'Taxi Pick Up Location', 'Bridge Highway Name',\n",
    "       'Bridge Highway Direction', 'Road Ramp', 'Bridge Highway Segment',\n",
    "       'Latitude', 'Longitude', 'Location'], axis=1)"
   ]
  },
  {
   "cell_type": "code",
   "execution_count": 38,
   "metadata": {},
   "outputs": [
    {
     "data": {
      "text/html": [
       "<div>\n",
       "<table border=\"1\" class=\"dataframe\">\n",
       "  <thead>\n",
       "    <tr style=\"text-align: right;\">\n",
       "      <th></th>\n",
       "      <th>Complaint Type</th>\n",
       "      <th>Incident Zip</th>\n",
       "      <th>Incident Address</th>\n",
       "      <th>BBL</th>\n",
       "      <th>Borough</th>\n",
       "    </tr>\n",
       "  </thead>\n",
       "  <tbody>\n",
       "    <tr>\n",
       "      <th>0</th>\n",
       "      <td>Food Poisoning</td>\n",
       "      <td>10029.0</td>\n",
       "      <td>112 EAST 116 STREET</td>\n",
       "      <td>1.016430e+09</td>\n",
       "      <td>MANHATTAN</td>\n",
       "    </tr>\n",
       "    <tr>\n",
       "      <th>1</th>\n",
       "      <td>Food Poisoning</td>\n",
       "      <td>10469.0</td>\n",
       "      <td>NaN</td>\n",
       "      <td>NaN</td>\n",
       "      <td>BRONX</td>\n",
       "    </tr>\n",
       "    <tr>\n",
       "      <th>2</th>\n",
       "      <td>Food Poisoning</td>\n",
       "      <td>11430.0</td>\n",
       "      <td>JFK INTERNATIONAL AIRPORT</td>\n",
       "      <td>NaN</td>\n",
       "      <td>QUEENS</td>\n",
       "    </tr>\n",
       "    <tr>\n",
       "      <th>3</th>\n",
       "      <td>Food Poisoning</td>\n",
       "      <td>10305.0</td>\n",
       "      <td>41 REID AVENUE</td>\n",
       "      <td>5.032430e+09</td>\n",
       "      <td>STATEN ISLAND</td>\n",
       "    </tr>\n",
       "    <tr>\n",
       "      <th>4</th>\n",
       "      <td>Food Poisoning</td>\n",
       "      <td>10461.0</td>\n",
       "      <td>NaN</td>\n",
       "      <td>NaN</td>\n",
       "      <td>BRONX</td>\n",
       "    </tr>\n",
       "  </tbody>\n",
       "</table>\n",
       "</div>"
      ],
      "text/plain": [
       "   Complaint Type  Incident Zip           Incident Address           BBL  \\\n",
       "0  Food Poisoning       10029.0        112 EAST 116 STREET  1.016430e+09   \n",
       "1  Food Poisoning       10469.0                        NaN           NaN   \n",
       "2  Food Poisoning       11430.0  JFK INTERNATIONAL AIRPORT           NaN   \n",
       "3  Food Poisoning       10305.0             41 REID AVENUE  5.032430e+09   \n",
       "4  Food Poisoning       10461.0                        NaN           NaN   \n",
       "\n",
       "         Borough  \n",
       "0      MANHATTAN  \n",
       "1          BRONX  \n",
       "2         QUEENS  \n",
       "3  STATEN ISLAND  \n",
       "4          BRONX  "
      ]
     },
     "execution_count": 38,
     "metadata": {},
     "output_type": "execute_result"
    }
   ],
   "source": [
    "df_311.head()"
   ]
  },
  {
   "cell_type": "code",
   "execution_count": 104,
   "metadata": {},
   "outputs": [],
   "source": [
    "df_311['Count'] = 1\n",
    "df_311_1 = df_311.groupby('BBL')['Count'].sum().reset_index()"
   ]
  },
  {
   "cell_type": "markdown",
   "metadata": {},
   "source": [
    "## Merging all"
   ]
  },
  {
   "cell_type": "code",
   "execution_count": 105,
   "metadata": {},
   "outputs": [
    {
     "data": {
      "text/html": [
       "<div>\n",
       "<table border=\"1\" class=\"dataframe\">\n",
       "  <thead>\n",
       "    <tr style=\"text-align: right;\">\n",
       "      <th></th>\n",
       "      <th>BBL</th>\n",
       "      <th>Count</th>\n",
       "      <th>ADDRESS</th>\n",
       "      <th>Food_Protect</th>\n",
       "      <th>Food_Source</th>\n",
       "      <th>Food_Prep</th>\n",
       "      <th>Facility_DM</th>\n",
       "      <th>Vermin_Waste</th>\n",
       "      <th>Address</th>\n",
       "      <th>Borough</th>\n",
       "      <th>ZipCode</th>\n",
       "    </tr>\n",
       "  </thead>\n",
       "  <tbody>\n",
       "    <tr>\n",
       "      <th>0</th>\n",
       "      <td>3.075760e+05</td>\n",
       "      <td>1.0</td>\n",
       "      <td>NaN</td>\n",
       "      <td>NaN</td>\n",
       "      <td>NaN</td>\n",
       "      <td>NaN</td>\n",
       "      <td>NaN</td>\n",
       "      <td>NaN</td>\n",
       "      <td>NaN</td>\n",
       "      <td>NaN</td>\n",
       "      <td>NaN</td>\n",
       "    </tr>\n",
       "    <tr>\n",
       "      <th>1</th>\n",
       "      <td>1.000010e+09</td>\n",
       "      <td>2.0</td>\n",
       "      <td>NaN</td>\n",
       "      <td>NaN</td>\n",
       "      <td>NaN</td>\n",
       "      <td>NaN</td>\n",
       "      <td>NaN</td>\n",
       "      <td>NaN</td>\n",
       "      <td>NaN</td>\n",
       "      <td>NaN</td>\n",
       "      <td>NaN</td>\n",
       "    </tr>\n",
       "    <tr>\n",
       "      <th>2</th>\n",
       "      <td>1.000020e+09</td>\n",
       "      <td>2.0</td>\n",
       "      <td>4 SOUTH STREET</td>\n",
       "      <td>36</td>\n",
       "      <td>1</td>\n",
       "      <td>16</td>\n",
       "      <td>18</td>\n",
       "      <td>13</td>\n",
       "      <td>4 SOUTH STREET</td>\n",
       "      <td>MN</td>\n",
       "      <td>10004.0</td>\n",
       "    </tr>\n",
       "    <tr>\n",
       "      <th>3</th>\n",
       "      <td>1.000030e+09</td>\n",
       "      <td>1.0</td>\n",
       "      <td>NaN</td>\n",
       "      <td>NaN</td>\n",
       "      <td>NaN</td>\n",
       "      <td>NaN</td>\n",
       "      <td>NaN</td>\n",
       "      <td>NaN</td>\n",
       "      <td>NaN</td>\n",
       "      <td>NaN</td>\n",
       "      <td>NaN</td>\n",
       "    </tr>\n",
       "    <tr>\n",
       "      <th>4</th>\n",
       "      <td>1.000048e+09</td>\n",
       "      <td>3.0</td>\n",
       "      <td>1 WATER STREET</td>\n",
       "      <td>1</td>\n",
       "      <td>0</td>\n",
       "      <td>4</td>\n",
       "      <td>5</td>\n",
       "      <td>1</td>\n",
       "      <td>1 WATER STREET</td>\n",
       "      <td>MN</td>\n",
       "      <td>10004.0</td>\n",
       "    </tr>\n",
       "  </tbody>\n",
       "</table>\n",
       "</div>"
      ],
      "text/plain": [
       "            BBL  Count         ADDRESS Food_Protect Food_Source Food_Prep  \\\n",
       "0  3.075760e+05    1.0             NaN          NaN         NaN       NaN   \n",
       "1  1.000010e+09    2.0             NaN          NaN         NaN       NaN   \n",
       "2  1.000020e+09    2.0  4 SOUTH STREET           36           1        16   \n",
       "3  1.000030e+09    1.0             NaN          NaN         NaN       NaN   \n",
       "4  1.000048e+09    3.0  1 WATER STREET            1           0         4   \n",
       "\n",
       "  Facility_DM Vermin_Waste         Address Borough  ZipCode  \n",
       "0         NaN          NaN             NaN     NaN      NaN  \n",
       "1         NaN          NaN             NaN     NaN      NaN  \n",
       "2          18           13  4 SOUTH STREET      MN  10004.0  \n",
       "3         NaN          NaN             NaN     NaN      NaN  \n",
       "4           5            1  1 WATER STREET      MN  10004.0  "
      ]
     },
     "execution_count": 105,
     "metadata": {},
     "output_type": "execute_result"
    }
   ],
   "source": [
    "df_all = pd.merge(df_311_1, df_insp_bbl, on='BBL', how='outer')\n",
    "df_all.head()"
   ]
  },
  {
   "cell_type": "code",
   "execution_count": 106,
   "metadata": {},
   "outputs": [
    {
     "data": {
      "text/plain": [
       "(4991, 11)"
      ]
     },
     "execution_count": 106,
     "metadata": {},
     "output_type": "execute_result"
    }
   ],
   "source": [
    "df_all = df_all.dropna(subset=['ADDRESS', 'Address'])\n",
    "df_all.shape"
   ]
  },
  {
   "cell_type": "code",
   "execution_count": 107,
   "metadata": {},
   "outputs": [
    {
     "data": {
      "text/plain": [
       "array([ 2.,  3.,  1.,  5.,  4., 18.,  6.,  7.,  8., 10., 12.,  9., 15.,\n",
       "       13., 11., 16., 26., nan])"
      ]
     },
     "execution_count": 107,
     "metadata": {},
     "output_type": "execute_result"
    }
   ],
   "source": [
    "df_all['Count'].unique()"
   ]
  },
  {
   "cell_type": "code",
   "execution_count": 108,
   "metadata": {},
   "outputs": [],
   "source": [
    "# Fill nan with 0 because if no food poisoning cases were counted then treat as no case.\n",
    "df_all['Count'] = df_all['Count'].fillna(0)"
   ]
  },
  {
   "cell_type": "code",
   "execution_count": 187,
   "metadata": {},
   "outputs": [],
   "source": [
    "df_all['Incident'] = df_all['Count'].apply(lambda x: x>0)\n",
    "df_all['Food_prot_v'] = df_insp_com.Food_Protect.apply(lambda x: x>0)\n",
    "df_all['Food_sou_v'] = df_insp_com.Food_Source.apply(lambda x: x>0)\n",
    "df_all['Food_prep_v'] = df_insp_com.Food_Prep.apply(lambda x: x>0)\n",
    "df_all['Facility_v'] = df_insp_com.Facility_DM.apply(lambda x: x>0)\n",
    "df_all['Vermin_v'] = df_insp_com.Vermin_Waste.apply(lambda x: x>0)"
   ]
  },
  {
   "cell_type": "code",
   "execution_count": 190,
   "metadata": {},
   "outputs": [
    {
     "data": {
      "text/html": [
       "<div>\n",
       "<table border=\"1\" class=\"dataframe\">\n",
       "  <thead>\n",
       "    <tr style=\"text-align: right;\">\n",
       "      <th></th>\n",
       "      <th>Food_prot_v</th>\n",
       "      <th>Food_sou_v</th>\n",
       "      <th>Food_prep_v</th>\n",
       "      <th>Facility_v</th>\n",
       "      <th>Vermin_v</th>\n",
       "      <th>Incident</th>\n",
       "    </tr>\n",
       "  </thead>\n",
       "  <tbody>\n",
       "    <tr>\n",
       "      <th>2</th>\n",
       "      <td>True</td>\n",
       "      <td>False</td>\n",
       "      <td>True</td>\n",
       "      <td>True</td>\n",
       "      <td>True</td>\n",
       "      <td>True</td>\n",
       "    </tr>\n",
       "    <tr>\n",
       "      <th>4</th>\n",
       "      <td>True</td>\n",
       "      <td>False</td>\n",
       "      <td>True</td>\n",
       "      <td>True</td>\n",
       "      <td>False</td>\n",
       "      <td>True</td>\n",
       "    </tr>\n",
       "    <tr>\n",
       "      <th>5</th>\n",
       "      <td>True</td>\n",
       "      <td>False</td>\n",
       "      <td>True</td>\n",
       "      <td>True</td>\n",
       "      <td>True</td>\n",
       "      <td>True</td>\n",
       "    </tr>\n",
       "    <tr>\n",
       "      <th>7</th>\n",
       "      <td>True</td>\n",
       "      <td>False</td>\n",
       "      <td>True</td>\n",
       "      <td>True</td>\n",
       "      <td>True</td>\n",
       "      <td>True</td>\n",
       "    </tr>\n",
       "    <tr>\n",
       "      <th>10</th>\n",
       "      <td>True</td>\n",
       "      <td>False</td>\n",
       "      <td>False</td>\n",
       "      <td>True</td>\n",
       "      <td>True</td>\n",
       "      <td>True</td>\n",
       "    </tr>\n",
       "  </tbody>\n",
       "</table>\n",
       "</div>"
      ],
      "text/plain": [
       "   Food_prot_v Food_sou_v Food_prep_v Facility_v Vermin_v Incident\n",
       "2         True      False        True       True     True     True\n",
       "4         True      False        True       True    False     True\n",
       "5         True      False        True       True     True     True\n",
       "7         True      False        True       True     True     True\n",
       "10        True      False       False       True     True     True"
      ]
     },
     "execution_count": 190,
     "metadata": {},
     "output_type": "execute_result"
    }
   ],
   "source": [
    "df_all_select = df_all[[\"Food_prot_v\", \"Food_sou_v\", \"Food_prep_v\", \n",
    "                        'Facility_v', 'Vermin_v', 'Incident']].dropna()\n",
    "# = df_all_select[[\"Food_prot_v\", \"Food_sou_v\", \"Food_prep_v\", \n",
    " #                       'Facility_v', 'Vermin_v']]\n",
    "df_all_select.head()"
   ]
  },
  {
   "cell_type": "code",
   "execution_count": 191,
   "metadata": {},
   "outputs": [],
   "source": [
    "# Shuffling the matrix now before sampling\n",
    "np.random.seed(12345)\n",
    "df_all_select = df_all_select.iloc[np.random.permutation(len(df_all_select))]"
   ]
  },
  {
   "cell_type": "code",
   "execution_count": 192,
   "metadata": {},
   "outputs": [
    {
     "data": {
      "text/html": [
       "<div>\n",
       "<table border=\"1\" class=\"dataframe\">\n",
       "  <thead>\n",
       "    <tr style=\"text-align: right;\">\n",
       "      <th></th>\n",
       "      <th>Food_prot_v</th>\n",
       "      <th>Food_sou_v</th>\n",
       "      <th>Food_prep_v</th>\n",
       "      <th>Facility_v</th>\n",
       "      <th>Vermin_v</th>\n",
       "      <th>Incident</th>\n",
       "    </tr>\n",
       "  </thead>\n",
       "  <tbody>\n",
       "    <tr>\n",
       "      <th>13302</th>\n",
       "      <td>True</td>\n",
       "      <td>False</td>\n",
       "      <td>True</td>\n",
       "      <td>True</td>\n",
       "      <td>True</td>\n",
       "      <td>False</td>\n",
       "    </tr>\n",
       "    <tr>\n",
       "      <th>815</th>\n",
       "      <td>True</td>\n",
       "      <td>False</td>\n",
       "      <td>True</td>\n",
       "      <td>True</td>\n",
       "      <td>True</td>\n",
       "      <td>True</td>\n",
       "    </tr>\n",
       "    <tr>\n",
       "      <th>13549</th>\n",
       "      <td>True</td>\n",
       "      <td>False</td>\n",
       "      <td>True</td>\n",
       "      <td>True</td>\n",
       "      <td>False</td>\n",
       "      <td>False</td>\n",
       "    </tr>\n",
       "    <tr>\n",
       "      <th>12506</th>\n",
       "      <td>True</td>\n",
       "      <td>False</td>\n",
       "      <td>True</td>\n",
       "      <td>True</td>\n",
       "      <td>True</td>\n",
       "      <td>False</td>\n",
       "    </tr>\n",
       "    <tr>\n",
       "      <th>5573</th>\n",
       "      <td>True</td>\n",
       "      <td>False</td>\n",
       "      <td>True</td>\n",
       "      <td>True</td>\n",
       "      <td>True</td>\n",
       "      <td>True</td>\n",
       "    </tr>\n",
       "  </tbody>\n",
       "</table>\n",
       "</div>"
      ],
      "text/plain": [
       "      Food_prot_v Food_sou_v Food_prep_v Facility_v Vermin_v Incident\n",
       "13302        True      False        True       True     True    False\n",
       "815          True      False        True       True     True     True\n",
       "13549        True      False        True       True    False    False\n",
       "12506        True      False        True       True     True    False\n",
       "5573         True      False        True       True     True     True"
      ]
     },
     "execution_count": 192,
     "metadata": {},
     "output_type": "execute_result"
    }
   ],
   "source": [
    "df_all_short = df_all_select[[\"Food_prot_v\", \"Food_sou_v\", \"Food_prep_v\", \n",
    "                        'Facility_v', 'Vermin_v']]\n",
    "df_all_select = df_all_select[[\"Food_prot_v\", \"Food_sou_v\", \"Food_prep_v\", \n",
    "                        'Facility_v', 'Vermin_v', 'Incident']]\n",
    "df_all_select.head()"
   ]
  },
  {
   "cell_type": "markdown",
   "metadata": {},
   "source": [
    "## Random Forest Analysis"
   ]
  },
  {
   "cell_type": "code",
   "execution_count": 193,
   "metadata": {},
   "outputs": [
    {
     "data": {
      "text/plain": [
       "0.6235223402123823"
      ]
     },
     "execution_count": 193,
     "metadata": {},
     "output_type": "execute_result"
    }
   ],
   "source": [
    "# Random Forest\n",
    "clf3 = ensemble.RandomForestClassifier(max_depth=3, criterion=\"gini\", \n",
    "                                       random_state=222).fit(df_all_short.values, df_all_select[\"Incident\"])\n",
    "clf3.score(df_all_short.values, df_all_select[\"Incident\"])\n"
   ]
  },
  {
   "cell_type": "code",
   "execution_count": 194,
   "metadata": {},
   "outputs": [],
   "source": [
    "# Confusion matrix\n",
    "X_train, X_test, y_train, y_test = train_test_split(df_all_short.values, \n",
    "    df_all_select[\"Incident\"], test_size = 0.33, random_state=42)"
   ]
  },
  {
   "cell_type": "code",
   "execution_count": 195,
   "metadata": {},
   "outputs": [
    {
     "data": {
      "text/plain": [
       "array([[1020,    1],\n",
       "       [ 625,    2]])"
      ]
     },
     "execution_count": 195,
     "metadata": {},
     "output_type": "execute_result"
    },
    {
     "data": {
      "image/png": "[encoded data removed]",
      "text/plain": [
       "<matplotlib.figure.Figure at 0x7f3fa9e2d198>"
      ]
     },
     "metadata": {},
     "output_type": "display_data"
    }
   ],
   "source": [
    "clf3.fit(X_train, y_train)\n",
    "y_pred = clf3.predict(X_test)\n",
    "imshow(confusion_matrix(y_test, y_pred), cmap='bone')\n",
    "confusion_matrix(y_test, y_pred)\n",
    "#True positive, False positive\n",
    "#False negative, True negetive"
   ]
  },
  {
   "cell_type": "code",
   "execution_count": 144,
   "metadata": {},
   "outputs": [
    {
     "data": {
      "text/plain": [
       "0.6013349514563107"
      ]
     },
     "execution_count": 144,
     "metadata": {},
     "output_type": "execute_result"
    }
   ],
   "source": [
    "clf3.score(X_test, y_test)"
   ]
  },
  {
   "cell_type": "code",
   "execution_count": 145,
   "metadata": {},
   "outputs": [
    {
     "data": {
      "text/plain": [
       "0.6326652707149267"
      ]
     },
     "execution_count": 145,
     "metadata": {},
     "output_type": "execute_result"
    }
   ],
   "source": [
    "clf3.score(X_train, y_train)"
   ]
  },
  {
   "cell_type": "code",
   "execution_count": 169,
   "metadata": {},
   "outputs": [
    {
     "data": {
      "text/html": [
       "<div>\n",
       "<table border=\"1\" class=\"dataframe\">\n",
       "  <thead>\n",
       "    <tr style=\"text-align: right;\">\n",
       "      <th></th>\n",
       "      <th>Importance</th>\n",
       "    </tr>\n",
       "  </thead>\n",
       "  <tbody>\n",
       "    <tr>\n",
       "      <th>Food Protection</th>\n",
       "      <td>0.133945</td>\n",
       "    </tr>\n",
       "    <tr>\n",
       "      <th>Food Source</th>\n",
       "      <td>0.356935</td>\n",
       "    </tr>\n",
       "    <tr>\n",
       "      <th>Food Preparation</th>\n",
       "      <td>0.165726</td>\n",
       "    </tr>\n",
       "    <tr>\n",
       "      <th>Facility Design Maintenance</th>\n",
       "      <td>0.215187</td>\n",
       "    </tr>\n",
       "    <tr>\n",
       "      <th>Vermin and Waste</th>\n",
       "      <td>0.128208</td>\n",
       "    </tr>\n",
       "  </tbody>\n",
       "</table>\n",
       "</div>"
      ],
      "text/plain": [
       "                             Importance\n",
       "Food Protection                0.133945\n",
       "Food Source                    0.356935\n",
       "Food Preparation               0.165726\n",
       "Facility Design Maintenance    0.215187\n",
       "Vermin and Waste               0.128208"
      ]
     },
     "execution_count": 169,
     "metadata": {},
     "output_type": "execute_result"
    }
   ],
   "source": [
    "feature_importance = pd.DataFrame(clf3.feature_importances_, columns = ['Importance'], index = df_all_short.columns)\n",
    "feature_importance = feature_importance.rename(index={'Food_prot_v':'Food Protection', \n",
    "                                                      'Food_sou_v':'Food Source', 'Food_prep_v':'Food Preparation',\n",
    "                                                     'Facility_v':'Facility Design Maintenance', \n",
    "                                                      'Vermin_v':'Vermin and Waste'})\n",
    "feature_importance"
   ]
  },
  {
   "cell_type": "code",
   "execution_count": 148,
   "metadata": {},
   "outputs": [],
   "source": [
    "# Train test interpretations\n",
    "# https://datascience.stackexchange.com/questions/28426/train-accuracy-vs-test-accuracy-vs-confusion-matrix"
   ]
  },
  {
   "cell_type": "markdown",
   "metadata": {},
   "source": [
    "### Graph export"
   ]
  },
  {
   "cell_type": "code",
   "execution_count": 161,
   "metadata": {},
   "outputs": [],
   "source": [
    "# Tree from random forest\n",
    "rforest_3 = clf3.fit(df_all_short.values, df_all_select[\"Incident\"])\n",
    "estimator0 = rforest_3.estimators_[0]\n",
    "estimator1 = rforest_3.estimators_[1]\n",
    "estimator2 = rforest_3.estimators_[2]\n",
    "estimator3 = rforest_3.estimators_[3]\n",
    "estimator4 = rforest_3.estimators_[4]\n",
    "estimator5 = rforest_3.estimators_[5]\n",
    "estimator6 = rforest_3.estimators_[6]\n",
    "estimator7 = rforest_3.estimators_[7]\n",
    "estimator8 = rforest_3.estimators_[8]\n",
    "estimator9 = rforest_3.estimators_[9]\n",
    "\n",
    "export_graphviz(estimator0, out_file='tree_rf_0_b.dot', \n",
    "                rounded = True, proportion = False, filled = True)\n",
    "export_graphviz(estimator1, out_file='tree_rf_1_b.dot', \n",
    "                rounded = True, proportion = False, filled = True)\n",
    "export_graphviz(estimator2, out_file='tree_rf_2_b.dot', \n",
    "                rounded = True, proportion = False, filled = True)\n",
    "export_graphviz(estimator3, out_file='tree_rf_3_b.dot', \n",
    "                rounded = True, proportion = False, filled = True)\n",
    "export_graphviz(estimator4, out_file='tree_rf_4_b.dot', \n",
    "                rounded = True, proportion = False, filled = True)\n",
    "export_graphviz(estimator5, out_file='tree_rf_5_b.dot', \n",
    "                rounded = True, proportion = False, filled = True)\n",
    "export_graphviz(estimator6, out_file='tree_rf_6_b.dot', \n",
    "                rounded = True, proportion = False, filled = True)\n",
    "export_graphviz(estimator7, out_file='tree_rf_7_b.dot', \n",
    "                rounded = True, proportion = False, filled = True)\n",
    "export_graphviz(estimator8, out_file='tree_rf_8_b.dot', \n",
    "                rounded = True, proportion = False, filled = True)\n",
    "export_graphviz(estimator9, out_file='tree_rf_9_b.dot', \n",
    "                rounded = True, proportion = False, filled = True)\n"
   ]
  },
  {
   "cell_type": "code",
   "execution_count": 16,
   "metadata": {},
   "outputs": [],
   "source": [
    "# https://gist.github.com/milesgrimshaw/5b1cee4e2b6acb1c215f\n",
    "# http://milesgrimshaw.com/nyc-restaurant-database/"
   ]
  },
  {
   "cell_type": "code",
   "execution_count": 1,
   "metadata": {},
   "outputs": [],
   "source": [
    "# Tree Visualization\n",
    "# https://scikit-learn.org/stable/modules/generated/sklearn.tree.export_graphviz.html\n",
    "# https://towardsdatascience.com/how-to-visualize-a-decision-tree-from-a-random-forest-in-python-using-scikit-learn-38ad2d75f21c"
   ]
  },
  {
   "cell_type": "code",
   "execution_count": null,
   "metadata": {},
   "outputs": [],
   "source": [
    "# https://stackoverflow.com/questions/27975069/how-to-filter-rows-containing-a-string-pattern-from-a-pandas-dataframe"
   ]
  },
  {
   "cell_type": "code",
   "execution_count": null,
   "metadata": {},
   "outputs": [],
   "source": []
  }
 ],
 "metadata": {
  "kernelspec": {
   "display_name": "PUI2016_Python3",
   "language": "python",
   "name": "pui2016_python3"
  },
  "language_info": {
   "codemirror_mode": {
    "name": "ipython",
    "version": 3
   },
   "file_extension": ".py",
   "mimetype": "text/x-python",
   "name": "python",
   "nbconvert_exporter": "python",
   "pygments_lexer": "ipython3",
   "version": "3.5.4"
  }
 },
 "nbformat": 4,
 "nbformat_minor": 2
}
